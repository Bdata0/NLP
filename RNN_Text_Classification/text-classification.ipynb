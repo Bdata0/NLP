{
 "cells": [
  {
   "cell_type": "code",
   "execution_count": 1,
   "id": "64f55567",
   "metadata": {
    "execution": {
     "iopub.execute_input": "2022-05-03T04:11:58.277557Z",
     "iopub.status.busy": "2022-05-03T04:11:58.277004Z",
     "iopub.status.idle": "2022-05-03T04:12:06.744637Z",
     "shell.execute_reply": "2022-05-03T04:12:06.743880Z"
    },
    "papermill": {
     "duration": 8.522869,
     "end_time": "2022-05-03T04:12:06.747291",
     "exception": false,
     "start_time": "2022-05-03T04:11:58.224422",
     "status": "completed"
    },
    "tags": []
   },
   "outputs": [],
   "source": [
    "import pandas as pd                                            # data processing, CSV file I/O (e.g. pd.read_csv)\n",
    "import numpy as np                                             # linear algebra\n",
    "import matplotlib.pyplot as plt                                # plotting\n",
    "import seaborn as sns                                          # advance plotting\n",
    "#from wordcloud import WordCloud # to see the words as image\n",
    "import torch                                                   # PyTorch for building Networks\n",
    "import torch.nn as nn\n",
    "import torch.nn.functional as F\n",
    "import torch.optim as optim\n",
    "from torchtext.data.utils import get_tokenizer                 # TorchText has Text processing Function\n",
    "from torchtext import vocab\n",
    "from sklearn.model_selection import train_test_split           # split the data into training and testing\n",
    "from sklearn.metrics import accuracy_score                     # accuracy metric\n",
    "from sklearn.preprocessing import LabelEncoder\n",
    "from nltk import word_tokenize                                 # Text processing Library\n",
    "from nltk.tokenize import WordPunctTokenizer\n",
    "from keras.preprocessing.text import Tokenizer\n",
    "from keras.preprocessing.sequence import pad_sequences\n",
    "import random                                                  # to perform randomisation of tasks\n",
    "from tqdm.notebook import tqdm                                 # for a continuous progress bar style\n",
    "import time                                                    # time module \n",
    "import os                                                      # import operating system\n",
    "import re"
   ]
  },
  {
   "cell_type": "code",
   "execution_count": 2,
   "id": "07a649d0",
   "metadata": {
    "execution": {
     "iopub.execute_input": "2022-05-03T04:12:06.848482Z",
     "iopub.status.busy": "2022-05-03T04:12:06.848154Z",
     "iopub.status.idle": "2022-05-03T04:12:06.858766Z",
     "shell.execute_reply": "2022-05-03T04:12:06.858157Z"
    },
    "papermill": {
     "duration": 0.063426,
     "end_time": "2022-05-03T04:12:06.860775",
     "exception": false,
     "start_time": "2022-05-03T04:12:06.797349",
     "status": "completed"
    },
    "tags": []
   },
   "outputs": [],
   "source": [
    "IN_PATH = '/kaggle/input/'\n",
    "DATA_PATH = IN_PATH+'nlp-txt-classification/'\n",
    "OUT_PATH = '/kaggle/working/' # path for output directory \n",
    "GLOVE_TEXT_PATH = 'glove6b100dtxt/glove.6B.100d.txt' # glove directory\n",
    "EPOCH = 5 # number of epochs to run for model\n",
    "\n",
    "SEED = 42 # reproducible results: Same results in every run\n",
    "np.random.seed(SEED) \n",
    "torch.manual_seed(SEED)\n",
    "torch.cuda.manual_seed(SEED)\n",
    "torch.backends.cudnn.deterministic = True  # cuda algorithms\n",
    "os.environ['PYTHONHASHSEED'] = str(SEED)\n",
    "\n",
    "NUM_CLASSES = 5\n",
    "MAX_VOCAB_SIZE = 250000\n",
    "BATCH_SIZE = 64\n",
    "debug = 0\n",
    "device = torch.device('cuda' if torch.cuda.is_available() else 'cpu') # use 'cuda' if available else 'cpu'"
   ]
  },
  {
   "cell_type": "code",
   "execution_count": 3,
   "id": "bae21466",
   "metadata": {
    "execution": {
     "iopub.execute_input": "2022-05-03T04:12:06.963143Z",
     "iopub.status.busy": "2022-05-03T04:12:06.962623Z",
     "iopub.status.idle": "2022-05-03T04:12:07.244711Z",
     "shell.execute_reply": "2022-05-03T04:12:07.244051Z"
    },
    "papermill": {
     "duration": 0.334541,
     "end_time": "2022-05-03T04:12:07.247118",
     "exception": false,
     "start_time": "2022-05-03T04:12:06.912577",
     "status": "completed"
    },
    "tags": []
   },
   "outputs": [
    {
     "data": {
      "text/html": [
       "<div>\n",
       "<style scoped>\n",
       "    .dataframe tbody tr th:only-of-type {\n",
       "        vertical-align: middle;\n",
       "    }\n",
       "\n",
       "    .dataframe tbody tr th {\n",
       "        vertical-align: top;\n",
       "    }\n",
       "\n",
       "    .dataframe thead th {\n",
       "        text-align: right;\n",
       "    }\n",
       "</style>\n",
       "<table border=\"1\" class=\"dataframe\">\n",
       "  <thead>\n",
       "    <tr style=\"text-align: right;\">\n",
       "      <th></th>\n",
       "      <th>Unnamed: 0</th>\n",
       "      <th>Text</th>\n",
       "      <th>Sentiment</th>\n",
       "    </tr>\n",
       "  </thead>\n",
       "  <tbody>\n",
       "    <tr>\n",
       "      <th>0</th>\n",
       "      <td>0</td>\n",
       "      <td>@MeNyrbie @Phil_Gahan @Chrisitv https://t.co/i...</td>\n",
       "      <td>Neutral</td>\n",
       "    </tr>\n",
       "    <tr>\n",
       "      <th>1</th>\n",
       "      <td>1</td>\n",
       "      <td>advice Talk to your neighbours family to excha...</td>\n",
       "      <td>Positive</td>\n",
       "    </tr>\n",
       "    <tr>\n",
       "      <th>2</th>\n",
       "      <td>2</td>\n",
       "      <td>Coronavirus Australia: Woolworths to give elde...</td>\n",
       "      <td>Positive</td>\n",
       "    </tr>\n",
       "    <tr>\n",
       "      <th>3</th>\n",
       "      <td>3</td>\n",
       "      <td>My food stock is not the only one which is emp...</td>\n",
       "      <td>Positive</td>\n",
       "    </tr>\n",
       "    <tr>\n",
       "      <th>4</th>\n",
       "      <td>4</td>\n",
       "      <td>Me, ready to go at supermarket during the #COV...</td>\n",
       "      <td>Extremely Negative</td>\n",
       "    </tr>\n",
       "  </tbody>\n",
       "</table>\n",
       "</div>"
      ],
      "text/plain": [
       "  Unnamed: 0                                               Text  \\\n",
       "0          0  @MeNyrbie @Phil_Gahan @Chrisitv https://t.co/i...   \n",
       "1          1  advice Talk to your neighbours family to excha...   \n",
       "2          2  Coronavirus Australia: Woolworths to give elde...   \n",
       "3          3  My food stock is not the only one which is emp...   \n",
       "4          4  Me, ready to go at supermarket during the #COV...   \n",
       "\n",
       "            Sentiment  \n",
       "0             Neutral  \n",
       "1            Positive  \n",
       "2            Positive  \n",
       "3            Positive  \n",
       "4  Extremely Negative  "
      ]
     },
     "execution_count": 3,
     "metadata": {},
     "output_type": "execute_result"
    }
   ],
   "source": [
    "train_df = pd.read_csv(DATA_PATH+'train.csv')\n",
    "train_df.head()"
   ]
  },
  {
   "cell_type": "code",
   "execution_count": 4,
   "id": "5365c860",
   "metadata": {
    "execution": {
     "iopub.execute_input": "2022-05-03T04:12:07.349020Z",
     "iopub.status.busy": "2022-05-03T04:12:07.348491Z",
     "iopub.status.idle": "2022-05-03T04:12:07.366207Z",
     "shell.execute_reply": "2022-05-03T04:12:07.365611Z"
    },
    "papermill": {
     "duration": 0.071562,
     "end_time": "2022-05-03T04:12:07.368459",
     "exception": false,
     "start_time": "2022-05-03T04:12:07.296897",
     "status": "completed"
    },
    "tags": []
   },
   "outputs": [
    {
     "data": {
      "text/plain": [
       "Positive              0.277536\n",
       "Negative              0.240967\n",
       "Neutral               0.187365\n",
       "Extremely Positive    0.160952\n",
       "Extremely Negative    0.133179\n",
       "Name: Sentiment, dtype: float64"
      ]
     },
     "execution_count": 4,
     "metadata": {},
     "output_type": "execute_result"
    }
   ],
   "source": [
    "train_df.Sentiment.value_counts(normalize=True)"
   ]
  },
  {
   "cell_type": "code",
   "execution_count": 5,
   "id": "b475153e",
   "metadata": {
    "execution": {
     "iopub.execute_input": "2022-05-03T04:12:07.470460Z",
     "iopub.status.busy": "2022-05-03T04:12:07.470157Z",
     "iopub.status.idle": "2022-05-03T04:12:07.504831Z",
     "shell.execute_reply": "2022-05-03T04:12:07.503583Z"
    },
    "papermill": {
     "duration": 0.088131,
     "end_time": "2022-05-03T04:12:07.507141",
     "exception": false,
     "start_time": "2022-05-03T04:12:07.419010",
     "status": "completed"
    },
    "tags": []
   },
   "outputs": [
    {
     "name": "stdout",
     "output_type": "stream",
     "text": [
      "<class 'pandas.core.frame.DataFrame'>\n",
      "RangeIndex: 41159 entries, 0 to 41158\n",
      "Data columns (total 3 columns):\n",
      " #   Column      Non-Null Count  Dtype \n",
      "---  ------      --------------  ----- \n",
      " 0   Unnamed: 0  41158 non-null  object\n",
      " 1   Text        41158 non-null  object\n",
      " 2   Sentiment   41155 non-null  object\n",
      "dtypes: object(3)\n",
      "memory usage: 964.8+ KB\n"
     ]
    }
   ],
   "source": [
    "train_df.info()"
   ]
  },
  {
   "cell_type": "code",
   "execution_count": 6,
   "id": "4f1d84ea",
   "metadata": {
    "execution": {
     "iopub.execute_input": "2022-05-03T04:12:07.611433Z",
     "iopub.status.busy": "2022-05-03T04:12:07.610867Z",
     "iopub.status.idle": "2022-05-03T04:12:07.656079Z",
     "shell.execute_reply": "2022-05-03T04:12:07.654590Z"
    },
    "papermill": {
     "duration": 0.100993,
     "end_time": "2022-05-03T04:12:07.659222",
     "exception": false,
     "start_time": "2022-05-03T04:12:07.558229",
     "status": "completed"
    },
    "tags": []
   },
   "outputs": [
    {
     "name": "stdout",
     "output_type": "stream",
     "text": [
      "<class 'pandas.core.frame.DataFrame'>\n",
      "Int64Index: 41155 entries, 0 to 41158\n",
      "Data columns (total 3 columns):\n",
      " #   Column      Non-Null Count  Dtype \n",
      "---  ------      --------------  ----- \n",
      " 0   Unnamed: 0  41155 non-null  object\n",
      " 1   Text        41155 non-null  object\n",
      " 2   Sentiment   41155 non-null  object\n",
      "dtypes: object(3)\n",
      "memory usage: 1.3+ MB\n"
     ]
    }
   ],
   "source": [
    "train_df.dropna(inplace=True)\n",
    "train_df.info()"
   ]
  },
  {
   "cell_type": "code",
   "execution_count": 7,
   "id": "a900ea16",
   "metadata": {
    "execution": {
     "iopub.execute_input": "2022-05-03T04:12:07.764398Z",
     "iopub.status.busy": "2022-05-03T04:12:07.763981Z",
     "iopub.status.idle": "2022-05-03T04:12:07.777747Z",
     "shell.execute_reply": "2022-05-03T04:12:07.776387Z"
    },
    "papermill": {
     "duration": 0.070185,
     "end_time": "2022-05-03T04:12:07.780995",
     "exception": false,
     "start_time": "2022-05-03T04:12:07.710810",
     "status": "completed"
    },
    "tags": []
   },
   "outputs": [
    {
     "name": "stdout",
     "output_type": "stream",
     "text": [
      "1 : @MeNyrbie @Phil_Gahan @Chrisitv https://t.co/iFz9FAn2Pa and https://t.co/xX6ghGFzCC and https://t.co/I2NlzdxNo8\n",
      "\n",
      "2 : advice Talk to your neighbours family to exchange phone numbers create contact list with phone numbers of neighbours schools employer chemist GP set up online shopping accounts if poss adequate supplies of regular meds but not over order\n",
      "\n",
      "3 : Coronavirus Australia: Woolworths to give elderly, disabled dedicated shopping hours amid COVID-19 outbreak https://t.co/bInCA9Vp8P\n",
      "\n",
      "\r\n",
      "\r\n",
      "\r\n",
      "\r\n",
      "\r\n",
      "#COVID19france #COVID_19 #COVID19 #coronavirus #confinement #Confinementotal #ConfinementGeneral https://t.co/zrlG0Z520j\n",
      "\n",
      "\r\n",
      "\r\n",
      "\r\n",
      "\r\n",
      "#CoronavirusFrance #restezchezvous #StayAtHome #confinement https://t.co/usmuaLq72n\n",
      "\n",
      "6 : As news of the regionÂs first confirmed COVID-19 case came out of Sullivan County last week, people flocked to area stores to purchase cleaning supplies, hand sanitizer, food, toilet paper and other goods, @Tim_Dodson reports https://t.co/cfXch7a2lU\n",
      "\n",
      "7 : Cashier at grocery store was sharing his insights on #Covid_19 To prove his credibility he commented \"I'm in Civics class so I know what I'm talking about\". https://t.co/ieFDNeHgDO\n",
      "\n",
      "\r\n",
      "\r\n",
      "#toiletpapercrisis #covid_19 https://t.co/eVXkQLIdAZ\n",
      "\n",
      "9 : Due to COVID-19 our retail store and classroom in Atlanta will not be open for walk-in business or classes for the next two weeks, beginning Monday, March 16.  We will continue to process online and phone orders as normal! Thank you for your understanding! https://t.co/kw91zJ5O5i\n",
      "\n",
      "10 : For corona prevention,we should stop to buy things with the cash and should use online payment methods because corona can spread through the notes. Also we should prefer online shopping from our home. It's time to fight against COVID 19?. #govindia #IndiaFightsCorona\n",
      "\n",
      "11 : All month there hasn't been crowding in the supermarkets or restaurants, however reducing all the hours and closing the malls means everyone is now using the same entrance and dependent on a single supermarket. #manila #lockdown #covid2019 #Philippines https://t.co/HxWs9LAnF9\n",
      "\n",
      "\r\n",
      "\r\n",
      "\r\n",
      "\r\n",
      "We thank you for your patience during this time.\n",
      "\n",
      "13 : #horningsea is a caring community. LetÂs ALL look after the less capable in our village and ensure they stay healthy. Bringing shopping to their doors, help with online shopping and self isolation if you have symptoms or been exposed to somebody who has. https://t.co/lsGrXXhjhh\n",
      "\n",
      "\r\n",
      "\r\n",
      "Amazon: https://t.co/8YWaKFjExC\n",
      "\n",
      "15 : ADARA Releases COVID-19 Resource Center for Travel Brands: Insights Help Travel Brands Stay Up-To-Date on Consumer Travel Behavior Trends https://t.co/PnA797jDKV https://t.co/dQox6uSihz\n",
      "\n",
      "\r\n",
      "\r\n",
      "\r\n",
      "\r\n",
      "#coronavirus #covid19 https://t.co/ZHbh898lf6\n",
      "\n",
      "\r\n",
      "\r\n",
      "\r\n",
      "#???_???????? ????? ??? ???? ? https://t.co/51bL8P6vZh\n",
      "\n",
      "\r\n",
      "https://t.co/4WnrrK9oKC https://t.co/ld05k5Eyns\n",
      "\n",
      "\r\n",
      "\r\n",
      " https://t.co/TbzZ2MC3b3\n",
      "\n",
      "20 : For those who aren't struggling, please consider donating to a food bank or a nonprofit. The demand for these services will increase as COVID-19 impacts jobs, and people's way of life.\n",
      "\n"
     ]
    }
   ],
   "source": [
    "for i, text in enumerate(train_df.Text[:20]):\n",
    "  print(i+1, \":\",  text)\n",
    "  print()"
   ]
  },
  {
   "cell_type": "code",
   "execution_count": 8,
   "id": "a2327fa2",
   "metadata": {
    "execution": {
     "iopub.execute_input": "2022-05-03T04:12:07.886432Z",
     "iopub.status.busy": "2022-05-03T04:12:07.885960Z",
     "iopub.status.idle": "2022-05-03T04:12:07.930834Z",
     "shell.execute_reply": "2022-05-03T04:12:07.929903Z"
    },
    "papermill": {
     "duration": 0.100013,
     "end_time": "2022-05-03T04:12:07.933531",
     "exception": false,
     "start_time": "2022-05-03T04:12:07.833518",
     "status": "completed"
    },
    "tags": []
   },
   "outputs": [
    {
     "data": {
      "text/html": [
       "<div>\n",
       "<style scoped>\n",
       "    .dataframe tbody tr th:only-of-type {\n",
       "        vertical-align: middle;\n",
       "    }\n",
       "\n",
       "    .dataframe tbody tr th {\n",
       "        vertical-align: top;\n",
       "    }\n",
       "\n",
       "    .dataframe thead th {\n",
       "        text-align: right;\n",
       "    }\n",
       "</style>\n",
       "<table border=\"1\" class=\"dataframe\">\n",
       "  <thead>\n",
       "    <tr style=\"text-align: right;\">\n",
       "      <th></th>\n",
       "      <th>id</th>\n",
       "      <th>Text</th>\n",
       "    </tr>\n",
       "  </thead>\n",
       "  <tbody>\n",
       "    <tr>\n",
       "      <th>0</th>\n",
       "      <td>787bc85b-20d4-46d8-84a0-562a2527f684</td>\n",
       "      <td>TRENDING: New Yorkers encounter empty supermar...</td>\n",
       "    </tr>\n",
       "    <tr>\n",
       "      <th>1</th>\n",
       "      <td>17e934cd-ba94-4d4f-9ac0-ead202abe241</td>\n",
       "      <td>When I couldn't find hand sanitizer at Fred Me...</td>\n",
       "    </tr>\n",
       "    <tr>\n",
       "      <th>2</th>\n",
       "      <td>5914534b-2b0f-4de8-bb8a-e25587697e0d</td>\n",
       "      <td>Find out how you can protect yourself and love...</td>\n",
       "    </tr>\n",
       "    <tr>\n",
       "      <th>3</th>\n",
       "      <td>cdf06cfe-29ae-48ee-ac6d-be448103ba45</td>\n",
       "      <td>#Panic buying hits #NewYork City as anxious sh...</td>\n",
       "    </tr>\n",
       "    <tr>\n",
       "      <th>4</th>\n",
       "      <td>aff63979-0256-4fb9-a2d9-86a3d3ca5470</td>\n",
       "      <td>#toiletpaper #dunnypaper #coronavirus #coronav...</td>\n",
       "    </tr>\n",
       "  </tbody>\n",
       "</table>\n",
       "</div>"
      ],
      "text/plain": [
       "                                     id  \\\n",
       "0  787bc85b-20d4-46d8-84a0-562a2527f684   \n",
       "1  17e934cd-ba94-4d4f-9ac0-ead202abe241   \n",
       "2  5914534b-2b0f-4de8-bb8a-e25587697e0d   \n",
       "3  cdf06cfe-29ae-48ee-ac6d-be448103ba45   \n",
       "4  aff63979-0256-4fb9-a2d9-86a3d3ca5470   \n",
       "\n",
       "                                                Text  \n",
       "0  TRENDING: New Yorkers encounter empty supermar...  \n",
       "1  When I couldn't find hand sanitizer at Fred Me...  \n",
       "2  Find out how you can protect yourself and love...  \n",
       "3  #Panic buying hits #NewYork City as anxious sh...  \n",
       "4  #toiletpaper #dunnypaper #coronavirus #coronav...  "
      ]
     },
     "execution_count": 8,
     "metadata": {},
     "output_type": "execute_result"
    }
   ],
   "source": [
    "test_df = pd.read_csv(DATA_PATH+'test.csv')\n",
    "test_df.head()"
   ]
  },
  {
   "cell_type": "markdown",
   "id": "4f6d9d71",
   "metadata": {
    "papermill": {
     "duration": 0.05236,
     "end_time": "2022-05-03T04:12:08.038973",
     "exception": false,
     "start_time": "2022-05-03T04:12:07.986613",
     "status": "completed"
    },
    "tags": []
   },
   "source": [
    "# Data cleaning"
   ]
  },
  {
   "cell_type": "code",
   "execution_count": 9,
   "id": "6223f282",
   "metadata": {
    "execution": {
     "iopub.execute_input": "2022-05-03T04:12:08.144845Z",
     "iopub.status.busy": "2022-05-03T04:12:08.144304Z",
     "iopub.status.idle": "2022-05-03T04:12:08.149917Z",
     "shell.execute_reply": "2022-05-03T04:12:08.148971Z"
    },
    "papermill": {
     "duration": 0.06101,
     "end_time": "2022-05-03T04:12:08.151998",
     "exception": false,
     "start_time": "2022-05-03T04:12:08.090988",
     "status": "completed"
    },
    "tags": []
   },
   "outputs": [],
   "source": [
    "def remove_special_characters(text, remove_digits=True):\n",
    "    text = re.sub('http://\\S+|https://\\S+|www.\\S+', '', text)\n",
    "    pattern = r'[^a-zA-z0-9\\s]' if not remove_digits else r'[^a-zA-z\\s]'\n",
    "    text = re.sub(pattern, '', text)\n",
    "    return text.strip()"
   ]
  },
  {
   "cell_type": "code",
   "execution_count": 10,
   "id": "a58f194e",
   "metadata": {
    "execution": {
     "iopub.execute_input": "2022-05-03T04:12:08.257499Z",
     "iopub.status.busy": "2022-05-03T04:12:08.256735Z",
     "iopub.status.idle": "2022-05-03T04:12:08.262056Z",
     "shell.execute_reply": "2022-05-03T04:12:08.261518Z"
    },
    "papermill": {
     "duration": 0.060079,
     "end_time": "2022-05-03T04:12:08.263942",
     "exception": false,
     "start_time": "2022-05-03T04:12:08.203863",
     "status": "completed"
    },
    "tags": []
   },
   "outputs": [
    {
     "data": {
      "text/plain": [
       "'eyeonthearctic MAR Russia consumer surveillance watchdog reported case in high Arctic where a man who traveled to Iran has COVID and  are observed'"
      ]
     },
     "execution_count": 10,
     "metadata": {},
     "output_type": "execute_result"
    }
   ],
   "source": [
    "sentence = '@eyeonthearctic 16MAR20 Russia consumer surveillance watchdog reported case in high Arctic where a man who traveled to Iran has COVID-19 and 101 are \"observed\" https://t.co/4WnrrK9oKC https://t.co/ld05k5Eyns'\n",
    "remove_special_characters(sentence)"
   ]
  },
  {
   "cell_type": "code",
   "execution_count": 11,
   "id": "190e04b0",
   "metadata": {
    "execution": {
     "iopub.execute_input": "2022-05-03T04:12:08.369796Z",
     "iopub.status.busy": "2022-05-03T04:12:08.369455Z",
     "iopub.status.idle": "2022-05-03T04:12:09.099686Z",
     "shell.execute_reply": "2022-05-03T04:12:09.099011Z"
    },
    "papermill": {
     "duration": 0.785366,
     "end_time": "2022-05-03T04:12:09.101667",
     "exception": false,
     "start_time": "2022-05-03T04:12:08.316301",
     "status": "completed"
    },
    "tags": []
   },
   "outputs": [
    {
     "data": {
      "text/html": [
       "<div>\n",
       "<style scoped>\n",
       "    .dataframe tbody tr th:only-of-type {\n",
       "        vertical-align: middle;\n",
       "    }\n",
       "\n",
       "    .dataframe tbody tr th {\n",
       "        vertical-align: top;\n",
       "    }\n",
       "\n",
       "    .dataframe thead th {\n",
       "        text-align: right;\n",
       "    }\n",
       "</style>\n",
       "<table border=\"1\" class=\"dataframe\">\n",
       "  <thead>\n",
       "    <tr style=\"text-align: right;\">\n",
       "      <th></th>\n",
       "      <th>Unnamed: 0</th>\n",
       "      <th>Text</th>\n",
       "      <th>Sentiment</th>\n",
       "    </tr>\n",
       "  </thead>\n",
       "  <tbody>\n",
       "    <tr>\n",
       "      <th>0</th>\n",
       "      <td>0</td>\n",
       "      <td>MeNyrbie Phil_Gahan Chrisitv  and  and</td>\n",
       "      <td>Neutral</td>\n",
       "    </tr>\n",
       "    <tr>\n",
       "      <th>1</th>\n",
       "      <td>1</td>\n",
       "      <td>advice Talk to your neighbours family to excha...</td>\n",
       "      <td>Positive</td>\n",
       "    </tr>\n",
       "    <tr>\n",
       "      <th>2</th>\n",
       "      <td>2</td>\n",
       "      <td>Coronavirus Australia Woolworths to give elder...</td>\n",
       "      <td>Positive</td>\n",
       "    </tr>\n",
       "    <tr>\n",
       "      <th>3</th>\n",
       "      <td>3</td>\n",
       "      <td>My food stock is not the only one which is emp...</td>\n",
       "      <td>Positive</td>\n",
       "    </tr>\n",
       "    <tr>\n",
       "      <th>4</th>\n",
       "      <td>4</td>\n",
       "      <td>Me ready to go at supermarket during the COVID...</td>\n",
       "      <td>Extremely Negative</td>\n",
       "    </tr>\n",
       "  </tbody>\n",
       "</table>\n",
       "</div>"
      ],
      "text/plain": [
       "  Unnamed: 0                                               Text  \\\n",
       "0          0             MeNyrbie Phil_Gahan Chrisitv  and  and   \n",
       "1          1  advice Talk to your neighbours family to excha...   \n",
       "2          2  Coronavirus Australia Woolworths to give elder...   \n",
       "3          3  My food stock is not the only one which is emp...   \n",
       "4          4  Me ready to go at supermarket during the COVID...   \n",
       "\n",
       "            Sentiment  \n",
       "0             Neutral  \n",
       "1            Positive  \n",
       "2            Positive  \n",
       "3            Positive  \n",
       "4  Extremely Negative  "
      ]
     },
     "execution_count": 11,
     "metadata": {},
     "output_type": "execute_result"
    }
   ],
   "source": [
    "train_df.Text = train_df.Text.apply(remove_special_characters)\n",
    "train_df.head()"
   ]
  },
  {
   "cell_type": "code",
   "execution_count": 12,
   "id": "2aeb4511",
   "metadata": {
    "execution": {
     "iopub.execute_input": "2022-05-03T04:12:09.209453Z",
     "iopub.status.busy": "2022-05-03T04:12:09.209043Z",
     "iopub.status.idle": "2022-05-03T04:12:09.286329Z",
     "shell.execute_reply": "2022-05-03T04:12:09.285774Z"
    },
    "papermill": {
     "duration": 0.133931,
     "end_time": "2022-05-03T04:12:09.288236",
     "exception": false,
     "start_time": "2022-05-03T04:12:09.154305",
     "status": "completed"
    },
    "tags": []
   },
   "outputs": [
    {
     "data": {
      "text/html": [
       "<div>\n",
       "<style scoped>\n",
       "    .dataframe tbody tr th:only-of-type {\n",
       "        vertical-align: middle;\n",
       "    }\n",
       "\n",
       "    .dataframe tbody tr th {\n",
       "        vertical-align: top;\n",
       "    }\n",
       "\n",
       "    .dataframe thead th {\n",
       "        text-align: right;\n",
       "    }\n",
       "</style>\n",
       "<table border=\"1\" class=\"dataframe\">\n",
       "  <thead>\n",
       "    <tr style=\"text-align: right;\">\n",
       "      <th></th>\n",
       "      <th>id</th>\n",
       "      <th>Text</th>\n",
       "    </tr>\n",
       "  </thead>\n",
       "  <tbody>\n",
       "    <tr>\n",
       "      <th>0</th>\n",
       "      <td>787bc85b-20d4-46d8-84a0-562a2527f684</td>\n",
       "      <td>TRENDING New Yorkers encounter empty supermark...</td>\n",
       "    </tr>\n",
       "    <tr>\n",
       "      <th>1</th>\n",
       "      <td>17e934cd-ba94-4d4f-9ac0-ead202abe241</td>\n",
       "      <td>When I couldnt find hand sanitizer at Fred Mey...</td>\n",
       "    </tr>\n",
       "    <tr>\n",
       "      <th>2</th>\n",
       "      <td>5914534b-2b0f-4de8-bb8a-e25587697e0d</td>\n",
       "      <td>Find out how you can protect yourself and love...</td>\n",
       "    </tr>\n",
       "    <tr>\n",
       "      <th>3</th>\n",
       "      <td>cdf06cfe-29ae-48ee-ac6d-be448103ba45</td>\n",
       "      <td>Panic buying hits NewYork City as anxious shop...</td>\n",
       "    </tr>\n",
       "    <tr>\n",
       "      <th>4</th>\n",
       "      <td>aff63979-0256-4fb9-a2d9-86a3d3ca5470</td>\n",
       "      <td>toiletpaper dunnypaper coronavirus coronavirus...</td>\n",
       "    </tr>\n",
       "  </tbody>\n",
       "</table>\n",
       "</div>"
      ],
      "text/plain": [
       "                                     id  \\\n",
       "0  787bc85b-20d4-46d8-84a0-562a2527f684   \n",
       "1  17e934cd-ba94-4d4f-9ac0-ead202abe241   \n",
       "2  5914534b-2b0f-4de8-bb8a-e25587697e0d   \n",
       "3  cdf06cfe-29ae-48ee-ac6d-be448103ba45   \n",
       "4  aff63979-0256-4fb9-a2d9-86a3d3ca5470   \n",
       "\n",
       "                                                Text  \n",
       "0  TRENDING New Yorkers encounter empty supermark...  \n",
       "1  When I couldnt find hand sanitizer at Fred Mey...  \n",
       "2  Find out how you can protect yourself and love...  \n",
       "3  Panic buying hits NewYork City as anxious shop...  \n",
       "4  toiletpaper dunnypaper coronavirus coronavirus...  "
      ]
     },
     "execution_count": 12,
     "metadata": {},
     "output_type": "execute_result"
    }
   ],
   "source": [
    "test_df.Text = test_df.Text.apply(remove_special_characters)\n",
    "test_df.head()"
   ]
  },
  {
   "cell_type": "code",
   "execution_count": 13,
   "id": "6e761cc3",
   "metadata": {
    "execution": {
     "iopub.execute_input": "2022-05-03T04:12:09.396100Z",
     "iopub.status.busy": "2022-05-03T04:12:09.395717Z",
     "iopub.status.idle": "2022-05-03T04:12:09.896952Z",
     "shell.execute_reply": "2022-05-03T04:12:09.896395Z"
    },
    "papermill": {
     "duration": 0.557414,
     "end_time": "2022-05-03T04:12:09.898773",
     "exception": false,
     "start_time": "2022-05-03T04:12:09.341359",
     "status": "completed"
    },
    "tags": []
   },
   "outputs": [
    {
     "data": {
      "text/plain": [
       "<AxesSubplot:>"
      ]
     },
     "execution_count": 13,
     "metadata": {},
     "output_type": "execute_result"
    },
    {
     "data": {
      "image/png": "[encoded data removed]",
      "text/plain": [
       "<Figure size 432x288 with 1 Axes>"
      ]
     },
     "metadata": {
      "needs_background": "light"
     },
     "output_type": "display_data"
    }
   ],
   "source": [
    "train_df[\"number_of_words\"] = train_df.Text.apply(lambda txt: len(txt.split()))\n",
    "train_df[\"number_of_words\"].hist()"
   ]
  },
  {
   "cell_type": "code",
   "execution_count": 14,
   "id": "23d89b70",
   "metadata": {
    "execution": {
     "iopub.execute_input": "2022-05-03T04:12:10.010615Z",
     "iopub.status.busy": "2022-05-03T04:12:10.010166Z",
     "iopub.status.idle": "2022-05-03T04:12:10.027990Z",
     "shell.execute_reply": "2022-05-03T04:12:10.027432Z"
    },
    "papermill": {
     "duration": 0.075647,
     "end_time": "2022-05-03T04:12:10.030019",
     "exception": false,
     "start_time": "2022-05-03T04:12:09.954372",
     "status": "completed"
    },
    "tags": []
   },
   "outputs": [
    {
     "data": {
      "text/html": [
       "<div>\n",
       "<style scoped>\n",
       "    .dataframe tbody tr th:only-of-type {\n",
       "        vertical-align: middle;\n",
       "    }\n",
       "\n",
       "    .dataframe tbody tr th {\n",
       "        vertical-align: top;\n",
       "    }\n",
       "\n",
       "    .dataframe thead th {\n",
       "        text-align: right;\n",
       "    }\n",
       "</style>\n",
       "<table border=\"1\" class=\"dataframe\">\n",
       "  <thead>\n",
       "    <tr style=\"text-align: right;\">\n",
       "      <th></th>\n",
       "      <th>Unnamed: 0</th>\n",
       "      <th>Text</th>\n",
       "      <th>Sentiment</th>\n",
       "      <th>number_of_words</th>\n",
       "    </tr>\n",
       "  </thead>\n",
       "  <tbody>\n",
       "    <tr>\n",
       "      <th>583</th>\n",
       "      <td>583</td>\n",
       "      <td>__</td>\n",
       "      <td>Neutral</td>\n",
       "      <td>1</td>\n",
       "    </tr>\n",
       "    <tr>\n",
       "      <th>2385</th>\n",
       "      <td>2385</td>\n",
       "      <td></td>\n",
       "      <td>Neutral</td>\n",
       "      <td>0</td>\n",
       "    </tr>\n",
       "    <tr>\n",
       "      <th>5214</th>\n",
       "      <td>5214</td>\n",
       "      <td></td>\n",
       "      <td>Neutral</td>\n",
       "      <td>0</td>\n",
       "    </tr>\n",
       "    <tr>\n",
       "      <th>8803</th>\n",
       "      <td>8803</td>\n",
       "      <td>coronavirus</td>\n",
       "      <td>Neutral</td>\n",
       "      <td>1</td>\n",
       "    </tr>\n",
       "    <tr>\n",
       "      <th>8808</th>\n",
       "      <td>8808</td>\n",
       "      <td>ynetalerts</td>\n",
       "      <td>Neutral</td>\n",
       "      <td>1</td>\n",
       "    </tr>\n",
       "    <tr>\n",
       "      <th>8841</th>\n",
       "      <td>8841</td>\n",
       "      <td></td>\n",
       "      <td>Neutral</td>\n",
       "      <td>0</td>\n",
       "    </tr>\n",
       "    <tr>\n",
       "      <th>13843</th>\n",
       "      <td>13843</td>\n",
       "      <td></td>\n",
       "      <td>Neutral</td>\n",
       "      <td>0</td>\n",
       "    </tr>\n",
       "    <tr>\n",
       "      <th>14840</th>\n",
       "      <td>14840</td>\n",
       "      <td>__</td>\n",
       "      <td>Neutral</td>\n",
       "      <td>1</td>\n",
       "    </tr>\n",
       "    <tr>\n",
       "      <th>16920</th>\n",
       "      <td>16920</td>\n",
       "      <td></td>\n",
       "      <td>Neutral</td>\n",
       "      <td>0</td>\n",
       "    </tr>\n",
       "    <tr>\n",
       "      <th>18437</th>\n",
       "      <td>18437</td>\n",
       "      <td></td>\n",
       "      <td>Neutral</td>\n",
       "      <td>0</td>\n",
       "    </tr>\n",
       "    <tr>\n",
       "      <th>23975</th>\n",
       "      <td>23975</td>\n",
       "      <td>Unbelievable</td>\n",
       "      <td>Positive</td>\n",
       "      <td>1</td>\n",
       "    </tr>\n",
       "    <tr>\n",
       "      <th>25414</th>\n",
       "      <td>25414</td>\n",
       "      <td>COVIDLockDownDontPanicThereIsMoreFoodDeputyAgr...</td>\n",
       "      <td>Negative</td>\n",
       "      <td>1</td>\n",
       "    </tr>\n",
       "    <tr>\n",
       "      <th>26814</th>\n",
       "      <td>26814</td>\n",
       "      <td>America</td>\n",
       "      <td>Neutral</td>\n",
       "      <td>1</td>\n",
       "    </tr>\n",
       "    <tr>\n",
       "      <th>27610</th>\n",
       "      <td>27610</td>\n",
       "      <td>BrazilHealthOfficialConfirmFirstIndigenousCoro...</td>\n",
       "      <td>Positive</td>\n",
       "      <td>1</td>\n",
       "    </tr>\n",
       "    <tr>\n",
       "      <th>27932</th>\n",
       "      <td>27932</td>\n",
       "      <td>____</td>\n",
       "      <td>Neutral</td>\n",
       "      <td>1</td>\n",
       "    </tr>\n",
       "    <tr>\n",
       "      <th>29711</th>\n",
       "      <td>29711</td>\n",
       "      <td>YouTube</td>\n",
       "      <td>Neutral</td>\n",
       "      <td>1</td>\n",
       "    </tr>\n",
       "    <tr>\n",
       "      <th>29888</th>\n",
       "      <td>29888</td>\n",
       "      <td></td>\n",
       "      <td>Neutral</td>\n",
       "      <td>0</td>\n",
       "    </tr>\n",
       "    <tr>\n",
       "      <th>32455</th>\n",
       "      <td>32455</td>\n",
       "      <td></td>\n",
       "      <td>Neutral</td>\n",
       "      <td>0</td>\n",
       "    </tr>\n",
       "    <tr>\n",
       "      <th>32841</th>\n",
       "      <td>32841</td>\n",
       "      <td>nhk_news</td>\n",
       "      <td>Neutral</td>\n",
       "      <td>1</td>\n",
       "    </tr>\n",
       "    <tr>\n",
       "      <th>33694</th>\n",
       "      <td>33693</td>\n",
       "      <td>Heartbreaking</td>\n",
       "      <td>Negative</td>\n",
       "      <td>1</td>\n",
       "    </tr>\n",
       "    <tr>\n",
       "      <th>34719</th>\n",
       "      <td>34718</td>\n",
       "      <td>KedaceramicsGhanaandSundaInternationaldealersi...</td>\n",
       "      <td>Neutral</td>\n",
       "      <td>1</td>\n",
       "    </tr>\n",
       "    <tr>\n",
       "      <th>35527</th>\n",
       "      <td>35526</td>\n",
       "      <td>amp</td>\n",
       "      <td>Neutral</td>\n",
       "      <td>1</td>\n",
       "    </tr>\n",
       "    <tr>\n",
       "      <th>36782</th>\n",
       "      <td>36781</td>\n",
       "      <td></td>\n",
       "      <td>Neutral</td>\n",
       "      <td>0</td>\n",
       "    </tr>\n",
       "  </tbody>\n",
       "</table>\n",
       "</div>"
      ],
      "text/plain": [
       "      Unnamed: 0                                               Text Sentiment  \\\n",
       "583          583                                                 __   Neutral   \n",
       "2385        2385                                                      Neutral   \n",
       "5214        5214                                                      Neutral   \n",
       "8803        8803                                        coronavirus   Neutral   \n",
       "8808        8808                                         ynetalerts   Neutral   \n",
       "8841        8841                                                      Neutral   \n",
       "13843      13843                                                      Neutral   \n",
       "14840      14840                                                 __   Neutral   \n",
       "16920      16920                                                      Neutral   \n",
       "18437      18437                                                      Neutral   \n",
       "23975      23975                                       Unbelievable  Positive   \n",
       "25414      25414  COVIDLockDownDontPanicThereIsMoreFoodDeputyAgr...  Negative   \n",
       "26814      26814                                            America   Neutral   \n",
       "27610      27610  BrazilHealthOfficialConfirmFirstIndigenousCoro...  Positive   \n",
       "27932      27932                                               ____   Neutral   \n",
       "29711      29711                                            YouTube   Neutral   \n",
       "29888      29888                                                      Neutral   \n",
       "32455      32455                                                      Neutral   \n",
       "32841      32841                                           nhk_news   Neutral   \n",
       "33694      33693                                      Heartbreaking  Negative   \n",
       "34719      34718  KedaceramicsGhanaandSundaInternationaldealersi...   Neutral   \n",
       "35527      35526                                                amp   Neutral   \n",
       "36782      36781                                                      Neutral   \n",
       "\n",
       "       number_of_words  \n",
       "583                  1  \n",
       "2385                 0  \n",
       "5214                 0  \n",
       "8803                 1  \n",
       "8808                 1  \n",
       "8841                 0  \n",
       "13843                0  \n",
       "14840                1  \n",
       "16920                0  \n",
       "18437                0  \n",
       "23975                1  \n",
       "25414                1  \n",
       "26814                1  \n",
       "27610                1  \n",
       "27932                1  \n",
       "29711                1  \n",
       "29888                0  \n",
       "32455                0  \n",
       "32841                1  \n",
       "33694                1  \n",
       "34719                1  \n",
       "35527                1  \n",
       "36782                0  "
      ]
     },
     "execution_count": 14,
     "metadata": {},
     "output_type": "execute_result"
    }
   ],
   "source": [
    "train_df.query(\"number_of_words<=1\")"
   ]
  },
  {
   "cell_type": "markdown",
   "id": "2e0d29b7",
   "metadata": {
    "papermill": {
     "duration": 0.054601,
     "end_time": "2022-05-03T04:12:10.140458",
     "exception": false,
     "start_time": "2022-05-03T04:12:10.085857",
     "status": "completed"
    },
    "tags": []
   },
   "source": [
    "# Split data into Test and Train"
   ]
  },
  {
   "cell_type": "code",
   "execution_count": 15,
   "id": "875939fe",
   "metadata": {
    "execution": {
     "iopub.execute_input": "2022-05-03T04:12:10.252260Z",
     "iopub.status.busy": "2022-05-03T04:12:10.251789Z",
     "iopub.status.idle": "2022-05-03T04:12:10.262812Z",
     "shell.execute_reply": "2022-05-03T04:12:10.262260Z"
    },
    "papermill": {
     "duration": 0.069353,
     "end_time": "2022-05-03T04:12:10.264722",
     "exception": false,
     "start_time": "2022-05-03T04:12:10.195369",
     "status": "completed"
    },
    "tags": []
   },
   "outputs": [
    {
     "data": {
      "text/html": [
       "<div>\n",
       "<style scoped>\n",
       "    .dataframe tbody tr th:only-of-type {\n",
       "        vertical-align: middle;\n",
       "    }\n",
       "\n",
       "    .dataframe tbody tr th {\n",
       "        vertical-align: top;\n",
       "    }\n",
       "\n",
       "    .dataframe thead th {\n",
       "        text-align: right;\n",
       "    }\n",
       "</style>\n",
       "<table border=\"1\" class=\"dataframe\">\n",
       "  <thead>\n",
       "    <tr style=\"text-align: right;\">\n",
       "      <th></th>\n",
       "      <th>Sentence</th>\n",
       "      <th>Label</th>\n",
       "    </tr>\n",
       "  </thead>\n",
       "  <tbody>\n",
       "    <tr>\n",
       "      <th>0</th>\n",
       "      <td>MeNyrbie Phil_Gahan Chrisitv  and  and</td>\n",
       "      <td>Neutral</td>\n",
       "    </tr>\n",
       "    <tr>\n",
       "      <th>1</th>\n",
       "      <td>advice Talk to your neighbours family to excha...</td>\n",
       "      <td>Positive</td>\n",
       "    </tr>\n",
       "    <tr>\n",
       "      <th>2</th>\n",
       "      <td>Coronavirus Australia Woolworths to give elder...</td>\n",
       "      <td>Positive</td>\n",
       "    </tr>\n",
       "    <tr>\n",
       "      <th>3</th>\n",
       "      <td>My food stock is not the only one which is emp...</td>\n",
       "      <td>Positive</td>\n",
       "    </tr>\n",
       "    <tr>\n",
       "      <th>4</th>\n",
       "      <td>Me ready to go at supermarket during the COVID...</td>\n",
       "      <td>Extremely Negative</td>\n",
       "    </tr>\n",
       "  </tbody>\n",
       "</table>\n",
       "</div>"
      ],
      "text/plain": [
       "                                            Sentence               Label\n",
       "0             MeNyrbie Phil_Gahan Chrisitv  and  and             Neutral\n",
       "1  advice Talk to your neighbours family to excha...            Positive\n",
       "2  Coronavirus Australia Woolworths to give elder...            Positive\n",
       "3  My food stock is not the only one which is emp...            Positive\n",
       "4  Me ready to go at supermarket during the COVID...  Extremely Negative"
      ]
     },
     "execution_count": 15,
     "metadata": {},
     "output_type": "execute_result"
    }
   ],
   "source": [
    "sentimental_data = train_df[['Text', 'Sentiment']]\n",
    "sentimental_data.columns=['Sentence', 'Label']\n",
    "sentimental_data.head()"
   ]
  },
  {
   "cell_type": "code",
   "execution_count": 16,
   "id": "2672be35",
   "metadata": {
    "execution": {
     "iopub.execute_input": "2022-05-03T04:12:10.378720Z",
     "iopub.status.busy": "2022-05-03T04:12:10.378089Z",
     "iopub.status.idle": "2022-05-03T04:12:10.446884Z",
     "shell.execute_reply": "2022-05-03T04:12:10.446032Z"
    },
    "papermill": {
     "duration": 0.128242,
     "end_time": "2022-05-03T04:12:10.449146",
     "exception": false,
     "start_time": "2022-05-03T04:12:10.320904",
     "status": "completed"
    },
    "tags": []
   },
   "outputs": [
    {
     "data": {
      "text/plain": [
       "((32924,), (8231,), (32924,), (8231,))"
      ]
     },
     "execution_count": 16,
     "metadata": {},
     "output_type": "execute_result"
    }
   ],
   "source": [
    "X_train, X_val, y_train, y_val = train_test_split(train_df.Text, train_df.Sentiment,\n",
    "                                                  stratify=train_df.Sentiment, \n",
    "                                                  test_size=0.2,\n",
    "                                                  random_state=SEED)\n",
    "X_train.shape, X_val.shape, y_train.shape, y_val.shape"
   ]
  },
  {
   "cell_type": "code",
   "execution_count": 17,
   "id": "7831ffb2",
   "metadata": {
    "execution": {
     "iopub.execute_input": "2022-05-03T04:12:10.563317Z",
     "iopub.status.busy": "2022-05-03T04:12:10.563015Z",
     "iopub.status.idle": "2022-05-03T04:12:13.553027Z",
     "shell.execute_reply": "2022-05-03T04:12:13.552134Z"
    },
    "papermill": {
     "duration": 3.050275,
     "end_time": "2022-05-03T04:12:13.555585",
     "exception": false,
     "start_time": "2022-05-03T04:12:10.505310",
     "status": "completed"
    },
    "tags": []
   },
   "outputs": [],
   "source": [
    "tokenizer = Tokenizer(num_words=MAX_VOCAB_SIZE)\n",
    "tokenizer.fit_on_texts(list(X_train) + list(X_val) + list(test_df.Text))\n",
    "X_train = tokenizer.texts_to_sequences(X_train)\n",
    "X_val = tokenizer.texts_to_sequences(X_val)\n",
    "X_test = tokenizer.texts_to_sequences(test_df.Text)"
   ]
  },
  {
   "cell_type": "code",
   "execution_count": 18,
   "id": "cd26b45e",
   "metadata": {
    "execution": {
     "iopub.execute_input": "2022-05-03T04:12:13.669952Z",
     "iopub.status.busy": "2022-05-03T04:12:13.669545Z",
     "iopub.status.idle": "2022-05-03T04:12:13.993301Z",
     "shell.execute_reply": "2022-05-03T04:12:13.992688Z"
    },
    "papermill": {
     "duration": 0.383131,
     "end_time": "2022-05-03T04:12:13.995116",
     "exception": false,
     "start_time": "2022-05-03T04:12:13.611985",
     "status": "completed"
    },
    "tags": []
   },
   "outputs": [
    {
     "data": {
      "text/plain": [
       "<AxesSubplot:ylabel='Frequency'>"
      ]
     },
     "execution_count": 18,
     "metadata": {},
     "output_type": "execute_result"
    },
    {
     "data": {
      "image/png": "[encoded data removed]",
      "text/plain": [
       "<Figure size 432x288 with 1 Axes>"
      ]
     },
     "metadata": {
      "needs_background": "light"
     },
     "output_type": "display_data"
    }
   ],
   "source": [
    "All_sentenses = pd.concat([train_df.Text, test_df.Text], axis=0)\n",
    "lens = All_sentenses.apply(lambda s: len(s))\n",
    "lens.plot.hist(bins=50)"
   ]
  },
  {
   "cell_type": "code",
   "execution_count": 19,
   "id": "1c13ddf9",
   "metadata": {
    "execution": {
     "iopub.execute_input": "2022-05-03T04:12:14.112316Z",
     "iopub.status.busy": "2022-05-03T04:12:14.111919Z",
     "iopub.status.idle": "2022-05-03T04:12:14.126306Z",
     "shell.execute_reply": "2022-05-03T04:12:14.125746Z"
    },
    "papermill": {
     "duration": 0.076029,
     "end_time": "2022-05-03T04:12:14.128145",
     "exception": false,
     "start_time": "2022-05-03T04:12:14.052116",
     "status": "completed"
    },
    "tags": []
   },
   "outputs": [
    {
     "data": {
      "text/plain": [
       "(267.0, 304)"
      ]
     },
     "execution_count": 19,
     "metadata": {},
     "output_type": "execute_result"
    }
   ],
   "source": [
    "lens.quantile(0.95), max(lens)"
   ]
  },
  {
   "cell_type": "code",
   "execution_count": 20,
   "id": "d92fa449",
   "metadata": {
    "execution": {
     "iopub.execute_input": "2022-05-03T04:12:14.247183Z",
     "iopub.status.busy": "2022-05-03T04:12:14.246644Z",
     "iopub.status.idle": "2022-05-03T04:12:14.250801Z",
     "shell.execute_reply": "2022-05-03T04:12:14.250128Z"
    },
    "papermill": {
     "duration": 0.067102,
     "end_time": "2022-05-03T04:12:14.252815",
     "exception": false,
     "start_time": "2022-05-03T04:12:14.185713",
     "status": "completed"
    },
    "tags": []
   },
   "outputs": [],
   "source": [
    "MAX_TEXT_LEN = 280"
   ]
  },
  {
   "cell_type": "code",
   "execution_count": 21,
   "id": "16d85815",
   "metadata": {
    "execution": {
     "iopub.execute_input": "2022-05-03T04:12:14.369415Z",
     "iopub.status.busy": "2022-05-03T04:12:14.369101Z",
     "iopub.status.idle": "2022-05-03T04:12:14.690669Z",
     "shell.execute_reply": "2022-05-03T04:12:14.689699Z"
    },
    "papermill": {
     "duration": 0.383296,
     "end_time": "2022-05-03T04:12:14.693640",
     "exception": false,
     "start_time": "2022-05-03T04:12:14.310344",
     "status": "completed"
    },
    "tags": []
   },
   "outputs": [],
   "source": [
    "X_train = pad_sequences(X_train, maxlen=MAX_TEXT_LEN)\n",
    "X_val = pad_sequences(X_val, maxlen=MAX_TEXT_LEN)\n",
    "X_test = pad_sequences(X_test, maxlen=MAX_TEXT_LEN)"
   ]
  },
  {
   "cell_type": "code",
   "execution_count": 22,
   "id": "97f9fe08",
   "metadata": {
    "execution": {
     "iopub.execute_input": "2022-05-03T04:12:14.811308Z",
     "iopub.status.busy": "2022-05-03T04:12:14.811042Z",
     "iopub.status.idle": "2022-05-03T04:12:14.830295Z",
     "shell.execute_reply": "2022-05-03T04:12:14.829414Z"
    },
    "papermill": {
     "duration": 0.080366,
     "end_time": "2022-05-03T04:12:14.832291",
     "exception": false,
     "start_time": "2022-05-03T04:12:14.751925",
     "status": "completed"
    },
    "tags": []
   },
   "outputs": [
    {
     "data": {
      "text/plain": [
       "array([0, 1, 0, ..., 1, 2, 1])"
      ]
     },
     "execution_count": 22,
     "metadata": {},
     "output_type": "execute_result"
    }
   ],
   "source": [
    "le = LabelEncoder()\n",
    "y_train = le.fit_transform(y_train)\n",
    "y_val = le.transform(y_val)\n",
    "y_train"
   ]
  },
  {
   "cell_type": "code",
   "execution_count": 23,
   "id": "c0484f06",
   "metadata": {
    "execution": {
     "iopub.execute_input": "2022-05-03T04:12:14.950377Z",
     "iopub.status.busy": "2022-05-03T04:12:14.949828Z",
     "iopub.status.idle": "2022-05-03T04:12:14.956826Z",
     "shell.execute_reply": "2022-05-03T04:12:14.956132Z"
    },
    "papermill": {
     "duration": 0.068166,
     "end_time": "2022-05-03T04:12:14.958727",
     "exception": false,
     "start_time": "2022-05-03T04:12:14.890561",
     "status": "completed"
    },
    "tags": []
   },
   "outputs": [
    {
     "data": {
      "text/plain": [
       "0               Neutral\n",
       "1              Positive\n",
       "2              Positive\n",
       "3              Positive\n",
       "4    Extremely Negative\n",
       "Name: Sentiment, dtype: object"
      ]
     },
     "execution_count": 23,
     "metadata": {},
     "output_type": "execute_result"
    }
   ],
   "source": [
    "train_df.Sentiment.head()"
   ]
  },
  {
   "cell_type": "code",
   "execution_count": 24,
   "id": "a9abe06b",
   "metadata": {
    "execution": {
     "iopub.execute_input": "2022-05-03T04:12:15.078048Z",
     "iopub.status.busy": "2022-05-03T04:12:15.077494Z",
     "iopub.status.idle": "2022-05-03T04:19:40.542553Z",
     "shell.execute_reply": "2022-05-03T04:19:40.541027Z"
    },
    "papermill": {
     "duration": 445.529174,
     "end_time": "2022-05-03T04:19:40.546026",
     "exception": false,
     "start_time": "2022-05-03T04:12:15.016852",
     "status": "completed"
    },
    "tags": []
   },
   "outputs": [
    {
     "name": "stdout",
     "output_type": "stream",
     "text": [
      "--2022-05-03 04:12:15--  http://nlp.stanford.edu/data/glove.840B.300d.zip\r\n",
      "Resolving nlp.stanford.edu (nlp.stanford.edu)... 171.64.67.140\r\n",
      "Connecting to nlp.stanford.edu (nlp.stanford.edu)|171.64.67.140|:80... connected.\r\n",
      "HTTP request sent, awaiting response... 302 Found\r\n",
      "Location: https://nlp.stanford.edu/data/glove.840B.300d.zip [following]\r\n",
      "--2022-05-03 04:12:15--  https://nlp.stanford.edu/data/glove.840B.300d.zip\r\n",
      "Connecting to nlp.stanford.edu (nlp.stanford.edu)|171.64.67.140|:443... connected.\r\n",
      "HTTP request sent, awaiting response... 301 Moved Permanently\r\n",
      "Location: http://downloads.cs.stanford.edu/nlp/data/glove.840B.300d.zip [following]\r\n",
      "--2022-05-03 04:12:15--  http://downloads.cs.stanford.edu/nlp/data/glove.840B.300d.zip\r\n",
      "Resolving downloads.cs.stanford.edu (downloads.cs.stanford.edu)... 171.64.64.22\r\n",
      "Connecting to downloads.cs.stanford.edu (downloads.cs.stanford.edu)|171.64.64.22|:80... connected.\r\n",
      "HTTP request sent, awaiting response... 200 OK\r\n",
      "Length: 2176768927 (2.0G) [application/zip]\r\n",
      "Saving to: ‘glove.840B.300d.zip’\r\n",
      "\r\n",
      "glove.840B.300d.zip 100%[===================>]   2.03G  4.63MB/s    in 7m 24s  \r\n",
      "\r\n",
      "2022-05-03 04:19:40 (4.67 MB/s) - ‘glove.840B.300d.zip’ saved [2176768927/2176768927]\r\n",
      "\r\n"
     ]
    }
   ],
   "source": [
    "!wget http://nlp.stanford.edu/data/glove.840B.300d.zip"
   ]
  },
  {
   "cell_type": "code",
   "execution_count": 25,
   "id": "b92c6472",
   "metadata": {
    "execution": {
     "iopub.execute_input": "2022-05-03T04:19:41.193632Z",
     "iopub.status.busy": "2022-05-03T04:19:41.192310Z",
     "iopub.status.idle": "2022-05-03T04:20:42.019778Z",
     "shell.execute_reply": "2022-05-03T04:20:42.018655Z"
    },
    "papermill": {
     "duration": 61.15574,
     "end_time": "2022-05-03T04:20:42.022415",
     "exception": false,
     "start_time": "2022-05-03T04:19:40.866675",
     "status": "completed"
    },
    "tags": []
   },
   "outputs": [
    {
     "name": "stdout",
     "output_type": "stream",
     "text": [
      "Archive:  glove.840B.300d.zip\r\n",
      "  inflating: glove.840B.300d.txt     \r\n",
      "total 7639892\r\n",
      "---------- 1 root root     225251 May  3 04:20 __notebook__.ipynb\r\n",
      "drwxr-xr-x 2 root root       4096 May  3 04:19 .\r\n",
      "drwxr-xr-x 6 root root       4096 May  3 04:11 ..\r\n",
      "-rw-r--r-- 1 root root 2176768927 Oct 24  2015 glove.840B.300d.zip\r\n",
      "-rw-rw-r-- 1 root root 5646236541 Oct 24  2015 glove.840B.300d.txt\r\n"
     ]
    }
   ],
   "source": [
    "!unzip glove.840B.300d.zip\n",
    "!ls -lat"
   ]
  },
  {
   "cell_type": "code",
   "execution_count": 26,
   "id": "feaf72ca",
   "metadata": {
    "execution": {
     "iopub.execute_input": "2022-05-03T04:20:42.670525Z",
     "iopub.status.busy": "2022-05-03T04:20:42.670160Z",
     "iopub.status.idle": "2022-05-03T04:20:42.681113Z",
     "shell.execute_reply": "2022-05-03T04:20:42.680428Z"
    },
    "papermill": {
     "duration": 0.33832,
     "end_time": "2022-05-03T04:20:42.683226",
     "exception": false,
     "start_time": "2022-05-03T04:20:42.344906",
     "status": "completed"
    },
    "tags": []
   },
   "outputs": [],
   "source": [
    "def load_glove(word_index):\n",
    "    EMBEDDING_FILE = 'glove.840B.300d.txt'\n",
    "    def get_coefs(word,*arr): return word, np.asarray(arr, dtype='float32')[:300]\n",
    "    embeddings_index = dict(get_coefs(*o.split(\" \")) for o in open(EMBEDDING_FILE))\n",
    "    \n",
    "    all_embs = np.stack(embeddings_index.values())\n",
    "    emb_mean,emb_std = -0.005838499,0.48782197\n",
    "    embed_size = all_embs.shape[1]\n",
    "\n",
    "    nb_words = min(MAX_VOCAB_SIZE, len(word_index)+1)\n",
    "    embedding_matrix = np.random.normal(emb_mean, emb_std, (nb_words, embed_size))\n",
    "    for word, i in word_index.items():\n",
    "        if i >= MAX_VOCAB_SIZE: continue\n",
    "        embedding_vector = embeddings_index.get(word)\n",
    "        if embedding_vector is not None: \n",
    "            embedding_matrix[i] = embedding_vector\n",
    "        else:\n",
    "            embedding_vector = embeddings_index.get(word.capitalize())\n",
    "            if embedding_vector is not None: \n",
    "                embedding_matrix[i] = embedding_vector\n",
    "    return embedding_matrix"
   ]
  },
  {
   "cell_type": "code",
   "execution_count": 27,
   "id": "2ab1b017",
   "metadata": {
    "execution": {
     "iopub.execute_input": "2022-05-03T04:20:44.553204Z",
     "iopub.status.busy": "2022-05-03T04:20:44.552601Z",
     "iopub.status.idle": "2022-05-03T04:23:59.243735Z",
     "shell.execute_reply": "2022-05-03T04:23:59.242629Z"
    },
    "papermill": {
     "duration": 195.018898,
     "end_time": "2022-05-03T04:23:59.246604",
     "exception": false,
     "start_time": "2022-05-03T04:20:44.227706",
     "status": "completed"
    },
    "tags": []
   },
   "outputs": [
    {
     "name": "stderr",
     "output_type": "stream",
     "text": [
      "/opt/conda/lib/python3.7/site-packages/IPython/core/interactiveshell.py:3524: FutureWarning: arrays to stack must be passed as a \"sequence\" type such as list or tuple. Support for non-sequence iterables such as generators is deprecated as of NumPy 1.16 and will raise an error in the future.\n",
      "  exec(code_obj, self.user_global_ns, self.user_ns)\n"
     ]
    }
   ],
   "source": [
    "if debug:\n",
    "    embedding_matrix = np.random.randn(MAX_VOCAB_SIZE,300)\n",
    "else:\n",
    "    embedding_matrix = load_glove(tokenizer.word_index)"
   ]
  },
  {
   "cell_type": "code",
   "execution_count": 28,
   "id": "a72befda",
   "metadata": {
    "execution": {
     "iopub.execute_input": "2022-05-03T04:23:59.887647Z",
     "iopub.status.busy": "2022-05-03T04:23:59.887082Z",
     "iopub.status.idle": "2022-05-03T04:23:59.890781Z",
     "shell.execute_reply": "2022-05-03T04:23:59.890204Z"
    },
    "papermill": {
     "duration": 0.327307,
     "end_time": "2022-05-03T04:23:59.892638",
     "exception": false,
     "start_time": "2022-05-03T04:23:59.565331",
     "status": "completed"
    },
    "tags": []
   },
   "outputs": [],
   "source": [
    "max_features, embed_size = embedding_matrix.shape"
   ]
  },
  {
   "cell_type": "markdown",
   "id": "d88f8e0e",
   "metadata": {
    "papermill": {
     "duration": 0.319427,
     "end_time": "2022-05-03T04:24:00.534066",
     "exception": false,
     "start_time": "2022-05-03T04:24:00.214639",
     "status": "completed"
    },
    "tags": []
   },
   "source": [
    "# BiLSTM"
   ]
  },
  {
   "cell_type": "code",
   "execution_count": 29,
   "id": "dbc0225a",
   "metadata": {
    "execution": {
     "iopub.execute_input": "2022-05-03T04:24:01.175228Z",
     "iopub.status.busy": "2022-05-03T04:24:01.174725Z",
     "iopub.status.idle": "2022-05-03T04:24:01.184786Z",
     "shell.execute_reply": "2022-05-03T04:24:01.184197Z"
    },
    "papermill": {
     "duration": 0.332229,
     "end_time": "2022-05-03T04:24:01.186727",
     "exception": false,
     "start_time": "2022-05-03T04:24:00.854498",
     "status": "completed"
    },
    "tags": []
   },
   "outputs": [],
   "source": [
    "class BiLSTM(nn.Module):\n",
    "    \n",
    "    def __init__(self):\n",
    "        super(BiLSTM, self).__init__()\n",
    "        self.hidden_size = 64\n",
    "        drp = 0.1\n",
    "        n_classes = len(le.classes_)\n",
    "        self.embedding = nn.Embedding(max_features, embed_size)\n",
    "        self.embedding.weight = nn.Parameter(torch.tensor(embedding_matrix, dtype=torch.float32))\n",
    "        self.embedding.weight.requires_grad = False\n",
    "        self.lstm = nn.LSTM(embed_size, self.hidden_size, bidirectional=True, batch_first=True)\n",
    "        self.linear = nn.Linear(self.hidden_size*4 , 64)\n",
    "        self.relu = nn.ReLU()\n",
    "        self.dropout = nn.Dropout(drp)\n",
    "        self.out = nn.Linear(64, n_classes)\n",
    "\n",
    "\n",
    "    def forward(self, x):\n",
    "        #rint(x.size())\n",
    "        h_embedding = self.embedding(x)\n",
    "        #_embedding = torch.squeeze(torch.unsqueeze(h_embedding, 0))\n",
    "        h_lstm, _ = self.lstm(h_embedding)\n",
    "        avg_pool = torch.mean(h_lstm, 1)\n",
    "        max_pool, _ = torch.max(h_lstm, 1)\n",
    "        conc = torch.cat(( avg_pool, max_pool), 1)\n",
    "        conc = self.relu(self.linear(conc))\n",
    "        conc = self.dropout(conc)\n",
    "        out = self.out(conc)\n",
    "        return out"
   ]
  },
  {
   "cell_type": "code",
   "execution_count": 30,
   "id": "aeb71f48",
   "metadata": {
    "execution": {
     "iopub.execute_input": "2022-05-03T04:24:01.824534Z",
     "iopub.status.busy": "2022-05-03T04:24:01.824012Z",
     "iopub.status.idle": "2022-05-03T04:24:02.052608Z",
     "shell.execute_reply": "2022-05-03T04:24:02.051804Z"
    },
    "papermill": {
     "duration": 0.549378,
     "end_time": "2022-05-03T04:24:02.054963",
     "exception": false,
     "start_time": "2022-05-03T04:24:01.505585",
     "status": "completed"
    },
    "tags": []
   },
   "outputs": [],
   "source": [
    "n_epochs = 3 \n",
    "model = BiLSTM()\n",
    "loss_fn = nn.CrossEntropyLoss(reduction='sum')\n",
    "optimizer = torch.optim.Adam(filter(lambda p: p.requires_grad, model.parameters()), lr=0.001)"
   ]
  },
  {
   "cell_type": "code",
   "execution_count": 31,
   "id": "3ed819d9",
   "metadata": {
    "execution": {
     "iopub.execute_input": "2022-05-03T04:24:02.694714Z",
     "iopub.status.busy": "2022-05-03T04:24:02.693877Z",
     "iopub.status.idle": "2022-05-03T04:24:02.706024Z",
     "shell.execute_reply": "2022-05-03T04:24:02.705353Z"
    },
    "papermill": {
     "duration": 0.333828,
     "end_time": "2022-05-03T04:24:02.707832",
     "exception": false,
     "start_time": "2022-05-03T04:24:02.374004",
     "status": "completed"
    },
    "tags": []
   },
   "outputs": [
    {
     "data": {
      "text/plain": [
       "BiLSTM(\n",
       "  (embedding): Embedding(64607, 300)\n",
       "  (lstm): LSTM(300, 64, batch_first=True, bidirectional=True)\n",
       "  (linear): Linear(in_features=256, out_features=64, bias=True)\n",
       "  (relu): ReLU()\n",
       "  (dropout): Dropout(p=0.1, inplace=False)\n",
       "  (out): Linear(in_features=64, out_features=5, bias=True)\n",
       ")"
      ]
     },
     "execution_count": 31,
     "metadata": {},
     "output_type": "execute_result"
    }
   ],
   "source": [
    "model.to(device)"
   ]
  },
  {
   "cell_type": "code",
   "execution_count": 32,
   "id": "621798e8",
   "metadata": {
    "execution": {
     "iopub.execute_input": "2022-05-03T04:24:03.347392Z",
     "iopub.status.busy": "2022-05-03T04:24:03.346804Z",
     "iopub.status.idle": "2022-05-03T04:24:03.365330Z",
     "shell.execute_reply": "2022-05-03T04:24:03.364654Z"
    },
    "papermill": {
     "duration": 0.341822,
     "end_time": "2022-05-03T04:24:03.367948",
     "exception": false,
     "start_time": "2022-05-03T04:24:03.026126",
     "status": "completed"
    },
    "tags": []
   },
   "outputs": [],
   "source": [
    "# Load train and test in CUDA Memory\n",
    "X_train = torch.tensor(X_train, dtype=torch.long).to(device)\n",
    "y_train = torch.tensor(y_train, dtype=torch.long).to(device)\n",
    "X_val = torch.tensor(X_val, dtype=torch.long).to(device)\n",
    "y_val = torch.tensor(y_val, dtype=torch.long).to(device)\n",
    "X_test = torch.tensor(X_test, dtype=torch.long).to(device)"
   ]
  },
  {
   "cell_type": "code",
   "execution_count": 33,
   "id": "fd790865",
   "metadata": {
    "execution": {
     "iopub.execute_input": "2022-05-03T04:24:04.025482Z",
     "iopub.status.busy": "2022-05-03T04:24:04.025142Z",
     "iopub.status.idle": "2022-05-03T04:24:04.030417Z",
     "shell.execute_reply": "2022-05-03T04:24:04.029417Z"
    },
    "papermill": {
     "duration": 0.326026,
     "end_time": "2022-05-03T04:24:04.032359",
     "exception": false,
     "start_time": "2022-05-03T04:24:03.706333",
     "status": "completed"
    },
    "tags": []
   },
   "outputs": [],
   "source": [
    "# Create Torch datasets\n",
    "train = torch.utils.data.TensorDataset(X_train, y_train)\n",
    "valid = torch.utils.data.TensorDataset(X_val, y_val)"
   ]
  },
  {
   "cell_type": "code",
   "execution_count": 34,
   "id": "ffd31d48",
   "metadata": {
    "execution": {
     "iopub.execute_input": "2022-05-03T04:24:04.673367Z",
     "iopub.status.busy": "2022-05-03T04:24:04.672923Z",
     "iopub.status.idle": "2022-05-03T04:24:04.678401Z",
     "shell.execute_reply": "2022-05-03T04:24:04.677725Z"
    },
    "papermill": {
     "duration": 0.330001,
     "end_time": "2022-05-03T04:24:04.680382",
     "exception": false,
     "start_time": "2022-05-03T04:24:04.350381",
     "status": "completed"
    },
    "tags": []
   },
   "outputs": [],
   "source": [
    "# Create Data Loaders\n",
    "train_loader = torch.utils.data.DataLoader(train, batch_size=BATCH_SIZE, shuffle=True)\n",
    "valid_loader = torch.utils.data.DataLoader(valid, batch_size=BATCH_SIZE, shuffle=False)"
   ]
  },
  {
   "cell_type": "code",
   "execution_count": 35,
   "id": "fd6f2af5",
   "metadata": {
    "execution": {
     "iopub.execute_input": "2022-05-03T04:24:05.326411Z",
     "iopub.status.busy": "2022-05-03T04:24:05.325966Z",
     "iopub.status.idle": "2022-05-03T04:35:29.811092Z",
     "shell.execute_reply": "2022-05-03T04:35:29.810137Z"
    },
    "papermill": {
     "duration": 685.132917,
     "end_time": "2022-05-03T04:35:30.134645",
     "exception": false,
     "start_time": "2022-05-03T04:24:05.001728",
     "status": "completed"
    },
    "tags": []
   },
   "outputs": [
    {
     "name": "stderr",
     "output_type": "stream",
     "text": [
      "/opt/conda/lib/python3.7/site-packages/ipykernel_launcher.py:29: UserWarning: Implicit dimension choice for softmax has been deprecated. Change the call to include dim=X as an argument.\n"
     ]
    },
    {
     "name": "stdout",
     "output_type": "stream",
     "text": [
      "Epoch 1/3 \t loss=82.5679 \t val_loss=67.8535  \t val_acc=0.5489  \t time=229.78s\n",
      "Epoch 2/3 \t loss=64.2356 \t val_loss=60.4816  \t val_acc=0.6094  \t time=228.40s\n",
      "Epoch 3/3 \t loss=55.7946 \t val_loss=55.1380  \t val_acc=0.6512  \t time=226.30s\n"
     ]
    }
   ],
   "source": [
    "train_loss = []\n",
    "valid_loss = []\n",
    "\n",
    "for epoch in range(n_epochs):\n",
    "    start_time = time.time()\n",
    "    # Set model to train configuration\n",
    "    model.to(device)\n",
    "    model.train()\n",
    "    avg_loss = 0.  \n",
    "    for i, (x_batch, y_batch) in enumerate(train_loader):\n",
    "        # Predict/Forward Pass\n",
    "        y_pred = model(x_batch)\n",
    "        # Compute loss\n",
    "        loss = loss_fn(y_pred, y_batch)\n",
    "        optimizer.zero_grad()\n",
    "        loss.backward()\n",
    "        optimizer.step()\n",
    "        avg_loss += loss.item() / len(train_loader)\n",
    "    \n",
    "    # Set model to validation configuration -Doesn't get trained here\n",
    "    model.eval()        \n",
    "    avg_val_loss = 0.\n",
    "    val_preds = np.zeros((len(X_val),len(le.classes_)))\n",
    "    \n",
    "    for i, (x_batch, y_batch) in enumerate(valid_loader):\n",
    "        y_pred = model(x_batch).detach()\n",
    "        avg_val_loss += loss_fn(y_pred, y_batch).item() / len(valid_loader)\n",
    "        # keep/store predictions\n",
    "        val_preds[i * BATCH_SIZE : (i+1) * BATCH_SIZE] = F.softmax(y_pred).cpu().numpy()\n",
    "    \n",
    "    # Check Accuracy\n",
    "    val_accuracy = sum(torch.eq(torch.tensor(val_preds.argmax(axis=1)), y_val)) / len(y_val)\n",
    "    train_loss.append(avg_loss)\n",
    "    valid_loss.append(avg_val_loss)\n",
    "    elapsed_time = time.time() - start_time \n",
    "    print('Epoch {}/{} \\t loss={:.4f} \\t val_loss={:.4f}  \\t val_acc={:.4f}  \\t time={:.2f}s'.format(\n",
    "                epoch + 1, n_epochs, avg_loss, avg_val_loss, val_accuracy, elapsed_time))"
   ]
  },
  {
   "cell_type": "code",
   "execution_count": 36,
   "id": "51291947",
   "metadata": {
    "execution": {
     "iopub.execute_input": "2022-05-03T04:35:30.905966Z",
     "iopub.status.busy": "2022-05-03T04:35:30.905362Z",
     "iopub.status.idle": "2022-05-03T04:35:30.913044Z",
     "shell.execute_reply": "2022-05-03T04:35:30.912504Z"
    },
    "papermill": {
     "duration": 0.335057,
     "end_time": "2022-05-03T04:35:30.915041",
     "exception": false,
     "start_time": "2022-05-03T04:35:30.579984",
     "status": "completed"
    },
    "tags": []
   },
   "outputs": [],
   "source": [
    "def plot_graph(epochs):\n",
    "    fig = plt.figure(figsize=(12,12))\n",
    "    plt.title(\"Train/Validation Loss\")\n",
    "    plt.plot(list(np.arange(epochs) + 1) , train_loss, label='train')\n",
    "    plt.plot(list(np.arange(epochs) + 1), valid_loss, label='validation')\n",
    "    plt.xlabel('num_epochs', fontsize=12)\n",
    "    plt.ylabel('loss', fontsize=12)\n",
    "    plt.legend(loc='best')"
   ]
  },
  {
   "cell_type": "code",
   "execution_count": 37,
   "id": "9805c965",
   "metadata": {
    "execution": {
     "iopub.execute_input": "2022-05-03T04:35:31.561557Z",
     "iopub.status.busy": "2022-05-03T04:35:31.561032Z",
     "iopub.status.idle": "2022-05-03T04:35:31.853085Z",
     "shell.execute_reply": "2022-05-03T04:35:31.852232Z"
    },
    "papermill": {
     "duration": 0.617562,
     "end_time": "2022-05-03T04:35:31.855308",
     "exception": false,
     "start_time": "2022-05-03T04:35:31.237746",
     "status": "completed"
    },
    "tags": []
   },
   "outputs": [
    {
     "data": {
      "image/png": "[encoded data removed]",
      "text/plain": [
       "<Figure size 864x864 with 1 Axes>"
      ]
     },
     "metadata": {
      "needs_background": "light"
     },
     "output_type": "display_data"
    }
   ],
   "source": [
    "plot_graph(n_epochs)"
   ]
  },
  {
   "cell_type": "code",
   "execution_count": 38,
   "id": "16eaffcc",
   "metadata": {
    "execution": {
     "iopub.execute_input": "2022-05-03T04:35:32.508279Z",
     "iopub.status.busy": "2022-05-03T04:35:32.507759Z",
     "iopub.status.idle": "2022-05-03T04:35:33.039575Z",
     "shell.execute_reply": "2022-05-03T04:35:33.038790Z"
    },
    "papermill": {
     "duration": 0.859492,
     "end_time": "2022-05-03T04:35:33.041461",
     "exception": false,
     "start_time": "2022-05-03T04:35:32.181969",
     "status": "completed"
    },
    "tags": []
   },
   "outputs": [
    {
     "data": {
      "text/plain": [
       "<AxesSubplot:title={'center':'Confusion Matrix'}, xlabel='Predicted label', ylabel='True label'>"
      ]
     },
     "execution_count": 38,
     "metadata": {},
     "output_type": "execute_result"
    },
    {
     "data": {
      "image/png": "[encoded data removed]",
      "text/plain": [
       "<Figure size 864x864 with 2 Axes>"
      ]
     },
     "metadata": {
      "needs_background": "light"
     },
     "output_type": "display_data"
    }
   ],
   "source": [
    "import scikitplot as skplt\n",
    "y_true = [le.classes_[x] for x in y_val]\n",
    "y_pred = [le.classes_[x] for x in val_preds.argmax(axis=1)]\n",
    "skplt.metrics.plot_confusion_matrix(\n",
    "    y_true, \n",
    "    y_pred,\n",
    "    figsize=(12,12),x_tick_rotation=90)"
   ]
  },
  {
   "cell_type": "markdown",
   "id": "9cb9e8a1",
   "metadata": {
    "papermill": {
     "duration": 0.325353,
     "end_time": "2022-05-03T04:35:33.700419",
     "exception": false,
     "start_time": "2022-05-03T04:35:33.375066",
     "status": "completed"
    },
    "tags": []
   },
   "source": [
    "# Submission"
   ]
  },
  {
   "cell_type": "code",
   "execution_count": 39,
   "id": "35e3d50b",
   "metadata": {
    "execution": {
     "iopub.execute_input": "2022-05-03T04:35:34.405726Z",
     "iopub.status.busy": "2022-05-03T04:35:34.405142Z",
     "iopub.status.idle": "2022-05-03T04:35:34.444462Z",
     "shell.execute_reply": "2022-05-03T04:35:34.443548Z"
    },
    "papermill": {
     "duration": 0.395166,
     "end_time": "2022-05-03T04:35:34.446592",
     "exception": false,
     "start_time": "2022-05-03T04:35:34.051426",
     "status": "completed"
    },
    "tags": []
   },
   "outputs": [
    {
     "data": {
      "text/html": [
       "<div>\n",
       "<style scoped>\n",
       "    .dataframe tbody tr th:only-of-type {\n",
       "        vertical-align: middle;\n",
       "    }\n",
       "\n",
       "    .dataframe tbody tr th {\n",
       "        vertical-align: top;\n",
       "    }\n",
       "\n",
       "    .dataframe thead th {\n",
       "        text-align: right;\n",
       "    }\n",
       "</style>\n",
       "<table border=\"1\" class=\"dataframe\">\n",
       "  <thead>\n",
       "    <tr style=\"text-align: right;\">\n",
       "      <th></th>\n",
       "      <th>id</th>\n",
       "      <th>Sentiment</th>\n",
       "    </tr>\n",
       "  </thead>\n",
       "  <tbody>\n",
       "    <tr>\n",
       "      <th>0</th>\n",
       "      <td>787bc85b-20d4-46d8-84a0-562a2527f684</td>\n",
       "      <td>Neutral</td>\n",
       "    </tr>\n",
       "    <tr>\n",
       "      <th>1</th>\n",
       "      <td>17e934cd-ba94-4d4f-9ac0-ead202abe241</td>\n",
       "      <td>Neutral</td>\n",
       "    </tr>\n",
       "    <tr>\n",
       "      <th>2</th>\n",
       "      <td>5914534b-2b0f-4de8-bb8a-e25587697e0d</td>\n",
       "      <td>Neutral</td>\n",
       "    </tr>\n",
       "    <tr>\n",
       "      <th>3</th>\n",
       "      <td>cdf06cfe-29ae-48ee-ac6d-be448103ba45</td>\n",
       "      <td>Neutral</td>\n",
       "    </tr>\n",
       "    <tr>\n",
       "      <th>4</th>\n",
       "      <td>aff63979-0256-4fb9-a2d9-86a3d3ca5470</td>\n",
       "      <td>Neutral</td>\n",
       "    </tr>\n",
       "  </tbody>\n",
       "</table>\n",
       "</div>"
      ],
      "text/plain": [
       "                                     id Sentiment\n",
       "0  787bc85b-20d4-46d8-84a0-562a2527f684   Neutral\n",
       "1  17e934cd-ba94-4d4f-9ac0-ead202abe241   Neutral\n",
       "2  5914534b-2b0f-4de8-bb8a-e25587697e0d   Neutral\n",
       "3  cdf06cfe-29ae-48ee-ac6d-be448103ba45   Neutral\n",
       "4  aff63979-0256-4fb9-a2d9-86a3d3ca5470   Neutral"
      ]
     },
     "execution_count": 39,
     "metadata": {},
     "output_type": "execute_result"
    }
   ],
   "source": [
    "sample_submission = pd.read_csv(DATA_PATH+'sample_submission.csv')\n",
    "sample_submission.head()"
   ]
  },
  {
   "cell_type": "code",
   "execution_count": 40,
   "id": "c3cac42d",
   "metadata": {
    "execution": {
     "iopub.execute_input": "2022-05-03T04:35:35.104070Z",
     "iopub.status.busy": "2022-05-03T04:35:35.103766Z",
     "iopub.status.idle": "2022-05-03T04:35:35.113001Z",
     "shell.execute_reply": "2022-05-03T04:35:35.112180Z"
    },
    "papermill": {
     "duration": 0.340098,
     "end_time": "2022-05-03T04:35:35.115185",
     "exception": false,
     "start_time": "2022-05-03T04:35:34.775087",
     "status": "completed"
    },
    "tags": []
   },
   "outputs": [
    {
     "data": {
      "text/plain": [
       "Neutral    3798\n",
       "Name: Sentiment, dtype: int64"
      ]
     },
     "execution_count": 40,
     "metadata": {},
     "output_type": "execute_result"
    }
   ],
   "source": [
    "sample_submission.Sentiment.value_counts()"
   ]
  },
  {
   "cell_type": "code",
   "execution_count": 41,
   "id": "d683a071",
   "metadata": {
    "execution": {
     "iopub.execute_input": "2022-05-03T04:35:35.774134Z",
     "iopub.status.busy": "2022-05-03T04:35:35.773239Z",
     "iopub.status.idle": "2022-05-03T04:35:51.744320Z",
     "shell.execute_reply": "2022-05-03T04:35:51.743184Z"
    },
    "papermill": {
     "duration": 16.307734,
     "end_time": "2022-05-03T04:35:51.748350",
     "exception": false,
     "start_time": "2022-05-03T04:35:35.440616",
     "status": "completed"
    },
    "tags": []
   },
   "outputs": [],
   "source": [
    "pred = model(X_test).detach()"
   ]
  },
  {
   "cell_type": "code",
   "execution_count": 42,
   "id": "645553e1",
   "metadata": {
    "execution": {
     "iopub.execute_input": "2022-05-03T04:35:52.402180Z",
     "iopub.status.busy": "2022-05-03T04:35:52.401598Z",
     "iopub.status.idle": "2022-05-03T04:35:52.407393Z",
     "shell.execute_reply": "2022-05-03T04:35:52.406517Z"
    },
    "papermill": {
     "duration": 0.334306,
     "end_time": "2022-05-03T04:35:52.409571",
     "exception": false,
     "start_time": "2022-05-03T04:35:52.075265",
     "status": "completed"
    },
    "tags": []
   },
   "outputs": [
    {
     "name": "stderr",
     "output_type": "stream",
     "text": [
      "/opt/conda/lib/python3.7/site-packages/ipykernel_launcher.py:1: UserWarning: Implicit dimension choice for softmax has been deprecated. Change the call to include dim=X as an argument.\n",
      "  \"\"\"Entry point for launching an IPython kernel.\n"
     ]
    }
   ],
   "source": [
    "pred = F.softmax(pred).cpu().numpy()"
   ]
  },
  {
   "cell_type": "code",
   "execution_count": 43,
   "id": "9662fd95",
   "metadata": {
    "execution": {
     "iopub.execute_input": "2022-05-03T04:35:53.070625Z",
     "iopub.status.busy": "2022-05-03T04:35:53.070309Z",
     "iopub.status.idle": "2022-05-03T04:35:53.074419Z",
     "shell.execute_reply": "2022-05-03T04:35:53.073615Z"
    },
    "papermill": {
     "duration": 0.335621,
     "end_time": "2022-05-03T04:35:53.076410",
     "exception": false,
     "start_time": "2022-05-03T04:35:52.740789",
     "status": "completed"
    },
    "tags": []
   },
   "outputs": [],
   "source": [
    "pred = pred.argmax(axis=1)"
   ]
  },
  {
   "cell_type": "code",
   "execution_count": 44,
   "id": "431f780c",
   "metadata": {
    "execution": {
     "iopub.execute_input": "2022-05-03T04:35:53.733151Z",
     "iopub.status.busy": "2022-05-03T04:35:53.732640Z",
     "iopub.status.idle": "2022-05-03T04:35:53.736099Z",
     "shell.execute_reply": "2022-05-03T04:35:53.735545Z"
    },
    "papermill": {
     "duration": 0.33291,
     "end_time": "2022-05-03T04:35:53.737762",
     "exception": false,
     "start_time": "2022-05-03T04:35:53.404852",
     "status": "completed"
    },
    "tags": []
   },
   "outputs": [],
   "source": [
    "pred = le.classes_[pred]"
   ]
  },
  {
   "cell_type": "code",
   "execution_count": 45,
   "id": "55222c4c",
   "metadata": {
    "execution": {
     "iopub.execute_input": "2022-05-03T04:35:54.395123Z",
     "iopub.status.busy": "2022-05-03T04:35:54.394596Z",
     "iopub.status.idle": "2022-05-03T04:35:54.398977Z",
     "shell.execute_reply": "2022-05-03T04:35:54.398385Z"
    },
    "papermill": {
     "duration": 0.334003,
     "end_time": "2022-05-03T04:35:54.400806",
     "exception": false,
     "start_time": "2022-05-03T04:35:54.066803",
     "status": "completed"
    },
    "tags": []
   },
   "outputs": [],
   "source": [
    "sample_submission.Sentiment = pred"
   ]
  },
  {
   "cell_type": "code",
   "execution_count": 46,
   "id": "87809fbf",
   "metadata": {
    "execution": {
     "iopub.execute_input": "2022-05-03T04:35:55.057431Z",
     "iopub.status.busy": "2022-05-03T04:35:55.056849Z",
     "iopub.status.idle": "2022-05-03T04:35:55.065874Z",
     "shell.execute_reply": "2022-05-03T04:35:55.065082Z"
    },
    "papermill": {
     "duration": 0.341517,
     "end_time": "2022-05-03T04:35:55.068017",
     "exception": false,
     "start_time": "2022-05-03T04:35:54.726500",
     "status": "completed"
    },
    "tags": []
   },
   "outputs": [
    {
     "data": {
      "text/html": [
       "<div>\n",
       "<style scoped>\n",
       "    .dataframe tbody tr th:only-of-type {\n",
       "        vertical-align: middle;\n",
       "    }\n",
       "\n",
       "    .dataframe tbody tr th {\n",
       "        vertical-align: top;\n",
       "    }\n",
       "\n",
       "    .dataframe thead th {\n",
       "        text-align: right;\n",
       "    }\n",
       "</style>\n",
       "<table border=\"1\" class=\"dataframe\">\n",
       "  <thead>\n",
       "    <tr style=\"text-align: right;\">\n",
       "      <th></th>\n",
       "      <th>id</th>\n",
       "      <th>Sentiment</th>\n",
       "    </tr>\n",
       "  </thead>\n",
       "  <tbody>\n",
       "    <tr>\n",
       "      <th>0</th>\n",
       "      <td>787bc85b-20d4-46d8-84a0-562a2527f684</td>\n",
       "      <td>Negative</td>\n",
       "    </tr>\n",
       "    <tr>\n",
       "      <th>1</th>\n",
       "      <td>17e934cd-ba94-4d4f-9ac0-ead202abe241</td>\n",
       "      <td>Extremely Positive</td>\n",
       "    </tr>\n",
       "    <tr>\n",
       "      <th>2</th>\n",
       "      <td>5914534b-2b0f-4de8-bb8a-e25587697e0d</td>\n",
       "      <td>Extremely Positive</td>\n",
       "    </tr>\n",
       "    <tr>\n",
       "      <th>3</th>\n",
       "      <td>cdf06cfe-29ae-48ee-ac6d-be448103ba45</td>\n",
       "      <td>Negative</td>\n",
       "    </tr>\n",
       "    <tr>\n",
       "      <th>4</th>\n",
       "      <td>aff63979-0256-4fb9-a2d9-86a3d3ca5470</td>\n",
       "      <td>Neutral</td>\n",
       "    </tr>\n",
       "  </tbody>\n",
       "</table>\n",
       "</div>"
      ],
      "text/plain": [
       "                                     id           Sentiment\n",
       "0  787bc85b-20d4-46d8-84a0-562a2527f684            Negative\n",
       "1  17e934cd-ba94-4d4f-9ac0-ead202abe241  Extremely Positive\n",
       "2  5914534b-2b0f-4de8-bb8a-e25587697e0d  Extremely Positive\n",
       "3  cdf06cfe-29ae-48ee-ac6d-be448103ba45            Negative\n",
       "4  aff63979-0256-4fb9-a2d9-86a3d3ca5470             Neutral"
      ]
     },
     "execution_count": 46,
     "metadata": {},
     "output_type": "execute_result"
    }
   ],
   "source": [
    "sample_submission.head()"
   ]
  },
  {
   "cell_type": "code",
   "execution_count": 47,
   "id": "673b49da",
   "metadata": {
    "execution": {
     "iopub.execute_input": "2022-05-03T04:35:55.728850Z",
     "iopub.status.busy": "2022-05-03T04:35:55.728506Z",
     "iopub.status.idle": "2022-05-03T04:35:55.751423Z",
     "shell.execute_reply": "2022-05-03T04:35:55.750412Z"
    },
    "papermill": {
     "duration": 0.358308,
     "end_time": "2022-05-03T04:35:55.753934",
     "exception": false,
     "start_time": "2022-05-03T04:35:55.395626",
     "status": "completed"
    },
    "tags": []
   },
   "outputs": [],
   "source": [
    "sample_submission.to_csv('submission.csv', index=False)"
   ]
  }
 ],
 "metadata": {
  "kernelspec": {
   "display_name": "Python 3",
   "language": "python",
   "name": "python3"
  },
  "language_info": {
   "codemirror_mode": {
    "name": "ipython",
    "version": 3
   },
   "file_extension": ".py",
   "mimetype": "text/x-python",
   "name": "python",
   "nbconvert_exporter": "python",
   "pygments_lexer": "ipython3",
   "version": "3.7.12"
  },
  "papermill": {
   "default_parameters": {},
   "duration": 1451.398473,
   "end_time": "2022-05-03T04:35:59.699339",
   "environment_variables": {},
   "exception": null,
   "input_path": "__notebook__.ipynb",
   "output_path": "__notebook__.ipynb",
   "parameters": {},
   "start_time": "2022-05-03T04:11:48.300866",
   "version": "2.3.4"
  }
 },
 "nbformat": 4,
 "nbformat_minor": 5
}
