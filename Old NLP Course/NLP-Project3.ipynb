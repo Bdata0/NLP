{
 "cells": [
  {
   "cell_type": "markdown",
   "metadata": {
    "id": "Zd5wsNhS0ewB"
   },
   "source": [
    "## Возможности и ограничения языковых моделей"
   ]
  },
  {
   "cell_type": "markdown",
   "metadata": {
    "id": "4dSYyxBI0ewG"
   },
   "source": [
    "**Тут есть важное действие, которое нужно сделать перед тем, как запускать этот ноутбук**\n",
    "\n",
    "Если вы делаете это задание в Google Colab, первым делом переключите Runtime в GPU. Это задание нормально посчитается и на CPU, но некоторые из будущих кейсов потребуют GPU (либо вам придётся несколько часов или даже дней, чтобы модель обучилась - и мы не преувиличиваем). Ещё мы рекомендуем переключить язык интерфейса на английский, потому что русская локализация ужасна да и вообще не нужна.\n",
    "\n",
    "О том, как переключить рантайм: https://www.geeksforgeeks.org/how-to-use-google-colab/"
   ]
  },
  {
   "cell_type": "code",
   "execution_count": 1,
   "metadata": {
    "executionInfo": {
     "elapsed": 12080,
     "status": "ok",
     "timestamp": 1635543368077,
     "user": {
      "displayName": "Konstantin Korsovsky",
      "photoUrl": "https://lh3.googleusercontent.com/a-/AOh14Gjjj9SSMtAkeiIi7NmMOzlE_DsgamduAm4aJZ4Kfg=s64",
      "userId": "02243307702777771097"
     },
     "user_tz": -180
    },
    "id": "wqRGVCt50ewL"
   },
   "outputs": [],
   "source": [
    "!pip install datasets transformers[torch]==2.10.0 tqdm > /dev/null"
   ]
  },
  {
   "cell_type": "code",
   "execution_count": 2,
   "metadata": {
    "executionInfo": {
     "elapsed": 28421,
     "status": "ok",
     "timestamp": 1635543396491,
     "user": {
      "displayName": "Konstantin Korsovsky",
      "photoUrl": "https://lh3.googleusercontent.com/a-/AOh14Gjjj9SSMtAkeiIi7NmMOzlE_DsgamduAm4aJZ4Kfg=s64",
      "userId": "02243307702777771097"
     },
     "user_tz": -180
    },
    "id": "mcr7RqWl0ewN"
   },
   "outputs": [],
   "source": [
    "from transformers import AutoModel, AutoTokenizer, GPT2LMHeadModel\n",
    "import datasets\n",
    "\n",
    "import torch\n",
    "from torch.nn import functional as F\n",
    "from tqdm import tqdm\n",
    "import warnings"
   ]
  },
  {
   "cell_type": "code",
   "execution_count": 3,
   "metadata": {
    "executionInfo": {
     "elapsed": 36,
     "status": "ok",
     "timestamp": 1635543396493,
     "user": {
      "displayName": "Konstantin Korsovsky",
      "photoUrl": "https://lh3.googleusercontent.com/a-/AOh14Gjjj9SSMtAkeiIi7NmMOzlE_DsgamduAm4aJZ4Kfg=s64",
      "userId": "02243307702777771097"
     },
     "user_tz": -180
    },
    "id": "FJvskQ8T0ewO"
   },
   "outputs": [],
   "source": [
    "warnings.filterwarnings(\"ignore\")"
   ]
  },
  {
   "cell_type": "code",
   "execution_count": 4,
   "metadata": {
    "colab": {
     "base_uri": "https://localhost:8080/"
    },
    "executionInfo": {
     "elapsed": 36,
     "status": "ok",
     "timestamp": 1635543396496,
     "user": {
      "displayName": "Konstantin Korsovsky",
      "photoUrl": "https://lh3.googleusercontent.com/a-/AOh14Gjjj9SSMtAkeiIi7NmMOzlE_DsgamduAm4aJZ4Kfg=s64",
      "userId": "02243307702777771097"
     },
     "user_tz": -180
    },
    "id": "diaudnwY0ewQ",
    "outputId": "35cba643-749c-4b66-ae8e-7d6bb7295ada"
   },
   "outputs": [
    {
     "name": "stdout",
     "output_type": "stream",
     "text": [
      "2.10.0\n"
     ]
    }
   ],
   "source": [
    "import transformers\n",
    "print(transformers.__version__)  # should be above or equal 4.0.1"
   ]
  },
  {
   "cell_type": "markdown",
   "metadata": {
    "id": "fVYGHVGT0ewS"
   },
   "source": [
    "В этом модуле мы с вами познакомились с большими языковыми моделями и обсудили их возможности, а также ограничения. В этом задании вам предлагается поэкспериментировать с одной из больших языковых моделей -- GPT-2 -- и самим убедиться, так ли она хороша, как о ней рассказывают."
   ]
  },
  {
   "cell_type": "markdown",
   "metadata": {
    "id": "NXk55qyo0ewT"
   },
   "source": [
    "## Библиотека transformers\n",
    "\n",
    "Вы уже сталкивались с библиотекой transformers в этом курсе.\n",
    "\n",
    "Мы [загрузим gpt-2](https://huggingface.co/transformers/model_doc/gpt2.html) с помощью метода from_pretrained. Так как мы будем использовать её для задачи языкового моделирования, нам потребуется GPT2LMHeadModel, прочитать про неё можно [тут](https://huggingface.co/transformers/model_doc/gpt2.html#gpt2lmheadmodel). У GPT-2 свой токенизатор, про него можно почитать [тут](https://huggingface.co/transformers/model_doc/gpt2.html#gpt2tokenizer).\n",
    "\n",
    "GPT-2 -- большая модель, время ее работы на CPU будет слишком большим, так что мы сразу отправим её на GPU."
   ]
  },
  {
   "cell_type": "code",
   "execution_count": 50,
   "metadata": {
    "executionInfo": {
     "elapsed": 242,
     "status": "ok",
     "timestamp": 1635544334393,
     "user": {
      "displayName": "Konstantin Korsovsky",
      "photoUrl": "https://lh3.googleusercontent.com/a-/AOh14Gjjj9SSMtAkeiIi7NmMOzlE_DsgamduAm4aJZ4Kfg=s64",
      "userId": "02243307702777771097"
     },
     "user_tz": -180
    },
    "id": "Nq9fHovY0ewU"
   },
   "outputs": [],
   "source": [
    "model_name = 'gpt2-medium'\n",
    "device = 'cuda'"
   ]
  },
  {
   "cell_type": "code",
   "execution_count": 6,
   "metadata": {
    "colab": {
     "base_uri": "https://localhost:8080/",
     "height": 113,
     "referenced_widgets": [
      "aee8eec4ae6a4963ab766d246923ed68",
      "a928a998a9674a4588fb88ac1a8280d4",
      "82af1132e2dd4a3c8191f8d2168f2cc5",
      "697758307ddd4de6b6522adf0cda2f9a",
      "af10a1ba7ec94adca66bd6cc9b50398a",
      "6c3578f5925e4473a0b2934393af4462",
      "fa212e7fe39a423d97e1a10b3127ad23",
      "baae7a88bf3e49e9970182d79c9bb992",
      "4e6b9969e83b46019597184eb042e009",
      "e103280465a04d4d8e3f4aa90ef473a5",
      "e023c0c3e0a040598cef5c999289de2c",
      "f676f1b2b6554cdfa961030bc2119463",
      "25ba25a888b94199bd78ace424eb4cce",
      "b8a36f4f781d44d3945036cebb39cc40",
      "04749986e56942fcb0ea70023a282f72",
      "74309eb45827450ca60b666a9a0b5fe2",
      "8abc928fc08e4f5f942a8fa1135eba6d",
      "97aba5da14d24c78818dd2579cc60e88",
      "6d10846ce0f048b68fe001dc3ee289f4",
      "c8ab89c6eefc4b0d852d36b1e3b96c3f",
      "bd5911a438bc43b89346121f8561dd40",
      "06a3320dcc114e6dbc08d25c05aca61b",
      "b8ad0216b629472e9719709bc92af2b8",
      "550cf13eba914286a238b3f6181ac53d",
      "35f035d20a324259ad980c195a02d525",
      "849ef553fd904edcbe803abb911c49e5",
      "4d09e8a1d0c7409e8600b51ea9416b7c",
      "06244a4050cc4eda96ab07f0c188c895",
      "ef17ae05ac794817886999c0bf8f25d7",
      "a00f124b7e2e46579ad550f8295c35a0",
      "664cd67e397b49d2b9e7dc0aebe261b7",
      "75954b42503749d0811903458c639d5d",
      "542c74f7746f4891ab2c1ccffd56b369"
     ]
    },
    "executionInfo": {
     "elapsed": 1456,
     "status": "ok",
     "timestamp": 1635543397926,
     "user": {
      "displayName": "Konstantin Korsovsky",
      "photoUrl": "https://lh3.googleusercontent.com/a-/AOh14Gjjj9SSMtAkeiIi7NmMOzlE_DsgamduAm4aJZ4Kfg=s64",
      "userId": "02243307702777771097"
     },
     "user_tz": -180
    },
    "id": "eVJ-USzH0ewW",
    "outputId": "05d3fa96-c9d2-4e37-a253-ff0ad4dab469"
   },
   "outputs": [
    {
     "data": {
      "application/vnd.jupyter.widget-view+json": {
       "model_id": "aee8eec4ae6a4963ab766d246923ed68",
       "version_major": 2,
       "version_minor": 0
      },
      "text/plain": [
       "Downloading:   0%|          | 0.00/718 [00:00<?, ?B/s]"
      ]
     },
     "metadata": {},
     "output_type": "display_data"
    },
    {
     "data": {
      "application/vnd.jupyter.widget-view+json": {
       "model_id": "f676f1b2b6554cdfa961030bc2119463",
       "version_major": 2,
       "version_minor": 0
      },
      "text/plain": [
       "Downloading:   0%|          | 0.00/1.04M [00:00<?, ?B/s]"
      ]
     },
     "metadata": {},
     "output_type": "display_data"
    },
    {
     "data": {
      "application/vnd.jupyter.widget-view+json": {
       "model_id": "b8ad0216b629472e9719709bc92af2b8",
       "version_major": 2,
       "version_minor": 0
      },
      "text/plain": [
       "Downloading:   0%|          | 0.00/456k [00:00<?, ?B/s]"
      ]
     },
     "metadata": {},
     "output_type": "display_data"
    }
   ],
   "source": [
    "tokenizer = AutoTokenizer.from_pretrained(model_name)\n",
    "tokenizer.pad_token = tokenizer.eos_token"
   ]
  },
  {
   "cell_type": "code",
   "execution_count": 7,
   "metadata": {
    "colab": {
     "base_uri": "https://localhost:8080/",
     "height": 49,
     "referenced_widgets": [
      "2a4c046dfe8a4412991405666be0bc17",
      "e98b1d3e7267494295b7d1d619907d9f",
      "24168793d59443be81c2d9799510fc84",
      "750491ed0657461f8c0ac728f2bc9f43",
      "649f1d8fd4e84c4c8fab855f9d8edcd5",
      "de34ba5b2395431787c996c3d71c903e",
      "e5cee7ae3612423bb2efc67faf74d792",
      "15a15f51bde8419d82adccbe018c77e0",
      "1694bfbdbe184251b83f85612343bf15",
      "082ecfeed2b948719583eefd482b65a8",
      "372e32c2a40b4068b2c34b31eaace327"
     ]
    },
    "executionInfo": {
     "elapsed": 62144,
     "status": "ok",
     "timestamp": 1635543460066,
     "user": {
      "displayName": "Konstantin Korsovsky",
      "photoUrl": "https://lh3.googleusercontent.com/a-/AOh14Gjjj9SSMtAkeiIi7NmMOzlE_DsgamduAm4aJZ4Kfg=s64",
      "userId": "02243307702777771097"
     },
     "user_tz": -180
    },
    "id": "jTXvTSFN0ewZ",
    "outputId": "54e31bba-9291-4989-8706-506d310eb6a1"
   },
   "outputs": [
    {
     "data": {
      "application/vnd.jupyter.widget-view+json": {
       "model_id": "2a4c046dfe8a4412991405666be0bc17",
       "version_major": 2,
       "version_minor": 0
      },
      "text/plain": [
       "Downloading:   0%|          | 0.00/1.52G [00:00<?, ?B/s]"
      ]
     },
     "metadata": {},
     "output_type": "display_data"
    }
   ],
   "source": [
    "model = GPT2LMHeadModel.from_pretrained(model_name)\n",
    "model = model.to(device)"
   ]
  },
  {
   "cell_type": "markdown",
   "metadata": {
    "id": "LJispE3M0ewa"
   },
   "source": [
    "### Подсчёт числа параметров модели"
   ]
  },
  {
   "cell_type": "markdown",
   "metadata": {
    "id": "asygaKxt0ewb"
   },
   "source": [
    "Чтобы понять, насколько GPT большая модель, подсчитаем число ее параметров"
   ]
  },
  {
   "cell_type": "code",
   "execution_count": 8,
   "metadata": {
    "colab": {
     "base_uri": "https://localhost:8080/"
    },
    "executionInfo": {
     "elapsed": 46,
     "status": "ok",
     "timestamp": 1635543460069,
     "user": {
      "displayName": "Konstantin Korsovsky",
      "photoUrl": "https://lh3.googleusercontent.com/a-/AOh14Gjjj9SSMtAkeiIi7NmMOzlE_DsgamduAm4aJZ4Kfg=s64",
      "userId": "02243307702777771097"
     },
     "user_tz": -180
    },
    "id": "FrKJmIHo0ewc",
    "outputId": "958ff8fd-c4c6-429d-83c3-3bb71700b962"
   },
   "outputs": [
    {
     "data": {
      "text/plain": [
       "354823168"
      ]
     },
     "execution_count": 8,
     "metadata": {},
     "output_type": "execute_result"
    }
   ],
   "source": [
    "## Домашнее задание\n",
    "\n",
    "# TASK: compute number of model parameters\n",
    "# iterate over model weights and count number of parameters in each of them, then sum it up\n",
    "# note: you may find model.parameters() method useful\n",
    "# Our implementation is 2 lines\n",
    "\n",
    "params = 0\n",
    "# YOUR CODE STARTS\n",
    "params = sum([params.numel() for params in model.parameters()])\n",
    "# YOUR CODE ENDS\n",
    "params"
   ]
  },
  {
   "cell_type": "markdown",
   "metadata": {
    "id": "CHOJXyah0ewd"
   },
   "source": [
    "Как видим, это большое число параметров, на несколько порядок больше, чем те модели, которые вы обучали до этого! Использовать такое в продакшене как правило невозможно из-за больших требований по ресурсам"
   ]
  },
  {
   "cell_type": "markdown",
   "metadata": {
    "id": "D1-PmKrq0ewd"
   },
   "source": [
    "# Часть 1. Генерация отзывов моделью GPT\n",
    "\n",
    "В преыдущем задании мы генерировали ровно 1 токен, так как нам нужно было предсказать сентимент, а оба слова \"positive\" и \"negative\" есть в словаре GPT.\n",
    "\n",
    "В этом задании мы пойдём дальше и самостоятельно реализуем top-k сэмплирование, чтобы генерировать отзывы на фильмы, подобные тем, что в датасете IMDB.\n",
    "\n",
    "Мы будем продолжать отзывы, используя в качестве \"затравки\" для модели начало реальных ревью."
   ]
  },
  {
   "cell_type": "markdown",
   "metadata": {
    "id": "sUnAhWXm0ewd"
   },
   "source": [
    "### Top-k & Top-p sampling\n",
    "\n",
    "Чтобы генерация текста была более разнообразной, мы будем использовать top k сэмплирование, которое мы изучали в этом юните. Его смысл в том, что на каждом шаге мы перед сэмплированием зануляем вероятности всех слов, кроме k самых вероятных."
   ]
  },
  {
   "cell_type": "code",
   "execution_count": 9,
   "metadata": {
    "executionInfo": {
     "elapsed": 37,
     "status": "ok",
     "timestamp": 1635543460071,
     "user": {
      "displayName": "Konstantin Korsovsky",
      "photoUrl": "https://lh3.googleusercontent.com/a-/AOh14Gjjj9SSMtAkeiIi7NmMOzlE_DsgamduAm4aJZ4Kfg=s64",
      "userId": "02243307702777771097"
     },
     "user_tz": -180
    },
    "id": "6T4TM0EL0ewf"
   },
   "outputs": [],
   "source": [
    "# Домашнее задание\n",
    "\n",
    "def topk_sample(scores, k):\n",
    "    \"\"\"\n",
    "    Sample from logits using multinomial distribution\n",
    "    Before sampling, all logits except k greatest are zeroed out.\n",
    "    Args:\n",
    "        scores: scores for every word in the vocabulary. Must be 1-dimensional: (num_words_in_vocab)\n",
    "        k: int, how many hypotheses to sample from\n",
    "    Returns:\n",
    "        1 draw from dictribution, torch.LongTensor of shape (1)\n",
    "    \"\"\"\n",
    "    assert k >= 1, 'k must be >=1'\n",
    "    assert scores.ndim == 1, 'logits must have 1 dimension' \n",
    "\n",
    "    # TASK: implement top-k sampling\n",
    "    # First, get top k values and theoir indices using torch.topk\n",
    "    # 2nd, fill logits with some small value (e. g. 1e-6)\n",
    "    # Next, move values back to their place. Note that you will find ellipsis (...) and None useful\n",
    "    # Finally, use softmax to obtain probabilities and get \n",
    "    # Our implementation is 6 lines\n",
    "    \n",
    "    # YOUR CODE STARTS\n",
    "\n",
    "    predicted_ids = scores.clone()\n",
    "    predicted_ids.fill_(-1e6)\n",
    "\n",
    "    vals, inds = scores.topk(k) \n",
    "\n",
    "    predicted_ids[inds] = vals\n",
    "\n",
    "    predicted_ids = F.softmax(predicted_ids,dim=-1)\n",
    "\n",
    "    # YOUR CODE ENDS\n",
    "    return predicted_ids"
   ]
  },
  {
   "cell_type": "markdown",
   "metadata": {
    "id": "vvm41e190ewf"
   },
   "source": [
    "Проверка кода:"
   ]
  },
  {
   "cell_type": "code",
   "execution_count": 10,
   "metadata": {
    "colab": {
     "base_uri": "https://localhost:8080/"
    },
    "executionInfo": {
     "elapsed": 34,
     "status": "ok",
     "timestamp": 1635543460072,
     "user": {
      "displayName": "Konstantin Korsovsky",
      "photoUrl": "https://lh3.googleusercontent.com/a-/AOh14Gjjj9SSMtAkeiIi7NmMOzlE_DsgamduAm4aJZ4Kfg=s64",
      "userId": "02243307702777771097"
     },
     "user_tz": -180
    },
    "id": "bweAAHPHqkuS",
    "outputId": "e8d80af6-4945-4a7a-8ea2-72ec8bc0a072"
   },
   "outputs": [
    {
     "name": "stdout",
     "output_type": "stream",
     "text": [
      "in:  tensor([-1.1256,  1.5893, -1.2233, -0.4460, -1.6299])\n",
      "out: tensor([0.0000, 0.8845, 0.0000, 0.1155, 0.0000]) \n",
      "\n",
      "in:  tensor([-0.3856, -0.0810,  0.0271, -0.3725, -0.7134])\n",
      "out: tensor([0.0000, 0.4730, 0.5270, 0.0000, 0.0000]) \n",
      "\n",
      "in:  tensor([ 2.8173,  0.6406,  1.1968, -1.8260,  0.7936])\n",
      "out: tensor([0.8349, 0.0000, 0.1651, 0.0000, 0.0000]) \n",
      "\n",
      "in:  tensor([-1.2056,  0.1685,  0.4811, -1.3436, -0.5050])\n",
      "out: tensor([0.0000, 0.4225, 0.5775, 0.0000, 0.0000]) \n",
      "\n",
      "in:  tensor([ 0.9245,  0.3863,  0.9873, -1.1035,  0.1816])\n",
      "out: tensor([0.4843, 0.0000, 0.5157, 0.0000, 0.0000]) \n",
      "\n",
      "in:  tensor([ 0.3306,  0.8258,  0.8079, -1.0557, -0.9766])\n",
      "out: tensor([0.0000, 0.5045, 0.4955, 0.0000, 0.0000]) \n",
      "\n",
      "in:  tensor([ 0.8606, -0.3469, -2.1483,  0.6126, -1.4041])\n",
      "out: tensor([0.5617, 0.0000, 0.0000, 0.4383, 0.0000]) \n",
      "\n",
      "in:  tensor([-0.5253,  0.9481,  0.1531,  1.5525, -1.2911])\n",
      "out: tensor([0.0000, 0.3533, 0.0000, 0.6467, 0.0000]) \n",
      "\n",
      "in:  tensor([-0.6507,  0.3133, -0.7402, -0.3925,  1.8440])\n",
      "out: tensor([0.0000, 0.1779, 0.0000, 0.0000, 0.8221]) \n",
      "\n",
      "in:  tensor([ 0.2701,  2.1625, -0.0462,  0.1327, -0.7704])\n",
      "out: tensor([0.1310, 0.8690, 0.0000, 0.0000, 0.0000]) \n",
      "\n"
     ]
    }
   ],
   "source": [
    "for _ in range(10):\n",
    "  logits = torch.randn(5)\n",
    "  print(f'in:  {logits}')\n",
    "  print(f'out: {topk_sample(logits, 2)}','\\n')"
   ]
  },
  {
   "cell_type": "code",
   "execution_count": 11,
   "metadata": {
    "executionInfo": {
     "elapsed": 28,
     "status": "ok",
     "timestamp": 1635543460074,
     "user": {
      "displayName": "Konstantin Korsovsky",
      "photoUrl": "https://lh3.googleusercontent.com/a-/AOh14Gjjj9SSMtAkeiIi7NmMOzlE_DsgamduAm4aJZ4Kfg=s64",
      "userId": "02243307702777771097"
     },
     "user_tz": -180
    },
    "id": "AFpPyxFt0ewg"
   },
   "outputs": [],
   "source": [
    "# logits = torch.randn(5)\n",
    "# for _ in range(10):\n",
    "#     res1 = topk_sample(logits, 1)\n",
    "#     res2  = topk_sample(logits, 1)\n",
    "#     assert res1.ndim == 0  ## <<< Not correct by task condition\n",
    "\n",
    "#     assert res1.equal(res2)\n",
    "\n",
    "# not_equal = False\n",
    "# for _ in range(10):\n",
    "#     if not topk_sample(logits, 2).equal(topk_sample(logits, 2)): ## <<< controversial condition check\n",
    "#         not_equal = True\n",
    "# assert not_equal\n",
    "# print('OK!')"
   ]
  },
  {
   "cell_type": "markdown",
   "metadata": {
    "id": "v2VBo0eotL6Z"
   },
   "source": [
    "Также мы будем использовать top-p sampling, который мы уже проходили на лекциях."
   ]
  },
  {
   "cell_type": "code",
   "execution_count": 12,
   "metadata": {
    "executionInfo": {
     "elapsed": 28,
     "status": "ok",
     "timestamp": 1635543460075,
     "user": {
      "displayName": "Konstantin Korsovsky",
      "photoUrl": "https://lh3.googleusercontent.com/a-/AOh14Gjjj9SSMtAkeiIi7NmMOzlE_DsgamduAm4aJZ4Kfg=s64",
      "userId": "02243307702777771097"
     },
     "user_tz": -180
    },
    "id": "DQ8divSy0ewh"
   },
   "outputs": [],
   "source": [
    "# Домашнее задание\n",
    "\n",
    "def topp_sample(scores, p):\n",
    "    \"\"\"\n",
    "    Sample from logits using multinomial distribution\n",
    "    Before sampling, all logits except those largest\n",
    "    whose cumsum exceeds p are zeroed out\n",
    "    Args:\n",
    "        scores: scores for every word in the vocabulary. Must be 1-dimensional: (num_words_in_vocab)\n",
    "        p: float, cumulative probability of most high-scored tokens\n",
    "    Returns:\n",
    "        1 draw from dictribution, torch.LongTensor of shape (1)\n",
    "    \"\"\"\n",
    "    assert  0 < p < 1, 'p must be between 0 and 1'\n",
    "    assert scores.ndim == 1, 'logits must have 1 dimension' \n",
    "\n",
    "    # TASK: implement top-p sampling\n",
    "    # 1. sort scores with descending order\n",
    "    # 2. get cumulative sum of softmaxed logits\n",
    "    # 3. get indices when cumulative sum is larger than p. These indices should be zeroed out\n",
    "    # 4. get real indices that should be zeroes out from sorted indices. Use tensor slicing\n",
    "    # 5. fill these indices with some small value (e. g. -1e6)\n",
    "    # 6. sample, as you did in top-k sampling\n",
    "    # Our implementation is 7 lines\n",
    "    \n",
    "    # YOUR CODE STARTS\n",
    "    \n",
    "    xval, xind = torch.sort(scores, descending=True) # сортировка входного вектора и сохранение отсортированных значений и их исходных индексов\n",
    "    \n",
    "    xval = F.softmax(xval,dim=-1)\n",
    "\n",
    "    xvalcumsum = torch.cumsum(xval,dim=-1)\n",
    "\n",
    "    for i in range(xval.shape[0]):    # обнуление всех значений после достижения накопленной вероятности p\n",
    "      if xvalcumsum[i] > 0.8:\n",
    "        xval[i+1:] = -1e6\n",
    "        break\n",
    "\n",
    "    predicted_ids = xval.clone()\n",
    "    predicted_ids[xind] = xval # возвращение значений по исходным индексам\n",
    "    \n",
    "    # YOUR CODE ENDS\n",
    "    return F.softmax(predicted_ids,dim=-1)"
   ]
  },
  {
   "cell_type": "markdown",
   "metadata": {
    "id": "9-0t8dHgtN3N"
   },
   "source": [
    "Проверка кода:"
   ]
  },
  {
   "cell_type": "code",
   "execution_count": 13,
   "metadata": {
    "executionInfo": {
     "elapsed": 26,
     "status": "ok",
     "timestamp": 1635543460075,
     "user": {
      "displayName": "Konstantin Korsovsky",
      "photoUrl": "https://lh3.googleusercontent.com/a-/AOh14Gjjj9SSMtAkeiIi7NmMOzlE_DsgamduAm4aJZ4Kfg=s64",
      "userId": "02243307702777771097"
     },
     "user_tz": -180
    },
    "id": "WrDbJBlc0ewi"
   },
   "outputs": [],
   "source": [
    "# Часть \n",
    "# logits = torch.Tensor([-.1, -.2, .9])   \n",
    "# for _ in range(10):\n",
    "#     res1 = topp_sample(logits, 0.8)\n",
    "#     res2  = topp_sample(logits, 0.8)\n",
    "#     assert res1.ndim == 0\n",
    "\n",
    "#     assert res1.equal(res2)\n",
    "# logits = torch.Tensor([.5, .5, .5])\n",
    "# not_equal = False\n",
    "# for _ in range(10):\n",
    "#     if not topp_sample(logits, 0.8).equal(topp_sample(logits, 0.8)):\n",
    "#         not_equal = True\n",
    "# assert not_equal\n",
    "# print('OK!')"
   ]
  },
  {
   "cell_type": "code",
   "execution_count": 14,
   "metadata": {
    "colab": {
     "base_uri": "https://localhost:8080/"
    },
    "executionInfo": {
     "elapsed": 26,
     "status": "ok",
     "timestamp": 1635543460076,
     "user": {
      "displayName": "Konstantin Korsovsky",
      "photoUrl": "https://lh3.googleusercontent.com/a-/AOh14Gjjj9SSMtAkeiIi7NmMOzlE_DsgamduAm4aJZ4Kfg=s64",
      "userId": "02243307702777771097"
     },
     "user_tz": -180
    },
    "id": "BEDvrfgZ5nnL",
    "outputId": "cf8be718-770f-4708-dbc9-ed6026b79833"
   },
   "outputs": [
    {
     "name": "stdout",
     "output_type": "stream",
     "text": [
      "in:\t tensor([-0.1000, -0.2000,  0.9000])\n",
      "smax:\t tensor([0.2163, 0.1957, 0.5880])\n",
      "out:\t tensor([0.4081, 0.0000, 0.5919])\n"
     ]
    }
   ],
   "source": [
    "# z = torch.tensor([-0.4105, -1.4342,  2.6922, -0.1102, -0.2479])\n",
    "z = torch.Tensor([-.1, -.2, .9])\n",
    "\n",
    "print(f'in:\\t {z}')\n",
    "print(f'smax:\\t {F.softmax(z,dim=0)}')\n",
    "print(f'out:\\t {topp_sample(z, 0.8)}')"
   ]
  },
  {
   "cell_type": "code",
   "execution_count": 15,
   "metadata": {
    "colab": {
     "base_uri": "https://localhost:8080/"
    },
    "executionInfo": {
     "elapsed": 445,
     "status": "ok",
     "timestamp": 1635543460501,
     "user": {
      "displayName": "Konstantin Korsovsky",
      "photoUrl": "https://lh3.googleusercontent.com/a-/AOh14Gjjj9SSMtAkeiIi7NmMOzlE_DsgamduAm4aJZ4Kfg=s64",
      "userId": "02243307702777771097"
     },
     "user_tz": -180
    },
    "id": "VxQrmrJwuWMZ",
    "outputId": "d730d0ee-cfad-4dde-f85e-d77b7f57e56e"
   },
   "outputs": [
    {
     "name": "stdout",
     "output_type": "stream",
     "text": [
      "in:  tensor([ 1.0016,  0.0354, -0.9133, -1.8887, -0.3428])\n",
      "out: tensor([0.4194, 0.2997, 0.0000, 0.0000, 0.2809]) \n",
      "\n",
      "in:  tensor([ 0.5689,  0.7551, -0.5713,  0.4813,  0.4783])\n",
      "out: tensor([0.2494, 0.2614, 0.0000, 0.2447, 0.2445]) \n",
      "\n",
      "in:  tensor([ 0.8534,  0.0608,  1.0421, -0.0794, -0.3659])\n",
      "out: tensor([0.2668, 0.2266, 0.2839, 0.2226, 0.0000]) \n",
      "\n",
      "in:  tensor([-0.5800,  1.8308, -2.1892, -0.5793, -0.8938])\n",
      "out: tensor([0.0000, 0.6727, 0.0000, 0.3273, 0.0000]) \n",
      "\n",
      "in:  tensor([0.1809, 0.3830, 0.2818, 2.2337, 0.4611])\n",
      "out: tensor([0.0000, 0.2701, 0.0000, 0.4577, 0.2722]) \n",
      "\n",
      "in:  tensor([ 0.5310,  0.5479,  0.9969, -0.7187,  0.5424])\n",
      "out: tensor([0.2419, 0.2427, 0.2730, 0.0000, 0.2424]) \n",
      "\n",
      "in:  tensor([ 0.9272,  1.3809,  0.6884,  0.2582, -1.5839])\n",
      "out: tensor([0.3222, 0.3725, 0.3053, 0.0000, 0.0000]) \n",
      "\n",
      "in:  tensor([-1.6031, -0.9918, -0.6458, -0.2329, -1.1511])\n",
      "out: tensor([0.0000, 0.2348, 0.2518, 0.2843, 0.2291]) \n",
      "\n",
      "in:  tensor([ 0.2995, -0.1212,  0.1805, -0.0863, -0.1727])\n",
      "out: tensor([0.2627, 0.2403, 0.2552, 0.2418, 0.0000]) \n",
      "\n",
      "in:  tensor([-0.1275,  0.1222, -0.5189, -0.0738, -0.2484])\n",
      "out: tensor([0.2470, 0.2618, 0.0000, 0.2498, 0.2414]) \n",
      "\n"
     ]
    }
   ],
   "source": [
    "for _ in range(10):\n",
    "  logits = torch.randn(5)\n",
    "  print(f'in:  {logits}')\n",
    "  print(f'out: {topp_sample(logits, 0.8)}','\\n')"
   ]
  },
  {
   "cell_type": "markdown",
   "metadata": {
    "id": "dgqFirKjtPrz"
   },
   "source": [
    "Теперь напишите функцию генерации текста:"
   ]
  },
  {
   "cell_type": "code",
   "execution_count": 16,
   "metadata": {
    "executionInfo": {
     "elapsed": 21,
     "status": "ok",
     "timestamp": 1635543460502,
     "user": {
      "displayName": "Konstantin Korsovsky",
      "photoUrl": "https://lh3.googleusercontent.com/a-/AOh14Gjjj9SSMtAkeiIi7NmMOzlE_DsgamduAm4aJZ4Kfg=s64",
      "userId": "02243307702777771097"
     },
     "user_tz": -180
    },
    "id": "3sNwScYY0ewj"
   },
   "outputs": [],
   "source": [
    "def generate_text(model, ids, length, k=None, p=None):\n",
    "    \"\"\"\n",
    "    Generate text with language model with ids as prompt\n",
    "    Args:\n",
    "        model: huggingface LM model\n",
    "        ids: input ids, from tokenizer.encode, must be 2-dimensional\n",
    "        length: int, how many tokens to geenrate\n",
    "        k: int, how many hypotheses to sample from in top-k sampling\n",
    "    Returns:\n",
    "        token ids from generated text, together with token ids of prompts, 2d LongTensor\n",
    "    \"\"\"\n",
    "    assert length >= 1\n",
    "    if k and p:\n",
    "        raise RuntimeError('Cannot use topk and topp sampling simultaneously')\n",
    "    # TASK: write generation loop\n",
    "    \n",
    "    # YOUR CODE STARTS\n",
    "    ids = model.generate(\n",
    "        ids,\n",
    "        max_length=length,\n",
    "        repetition_penalty=1.2,\n",
    "        do_sample=True,\n",
    "        top_k=k,\n",
    "        top_p=p\n",
    "        )\n",
    "\n",
    "    ids.squeeze_()\n",
    "    # YOUR CODE ENDS\n",
    "    return ids.cpu().detach()"
   ]
  },
  {
   "cell_type": "markdown",
   "metadata": {
    "id": "QB6g8UWp0ewj"
   },
   "source": [
    "\n",
    "Проверка кода:"
   ]
  },
  {
   "cell_type": "code",
   "execution_count": 17,
   "metadata": {
    "executionInfo": {
     "elapsed": 20,
     "status": "ok",
     "timestamp": 1635543460503,
     "user": {
      "displayName": "Konstantin Korsovsky",
      "photoUrl": "https://lh3.googleusercontent.com/a-/AOh14Gjjj9SSMtAkeiIi7NmMOzlE_DsgamduAm4aJZ4Kfg=s64",
      "userId": "02243307702777771097"
     },
     "user_tz": -180
    },
    "id": "c8mpDF_O0ewk"
   },
   "outputs": [],
   "source": [
    "# Assert is not correct\n",
    "\n",
    "# ids = torch.randint(0, 1000, (4,)).to(device)\n",
    "# ids.unsqueeze_(dim=0)\n",
    "# generation = generate_text(model, ids, 4, k=2)\n",
    "\n",
    "# assert generation.shape == torch.Size([5])\n",
    "\n",
    "# generation = generate_text(model, ids, 3, p=.5)\n",
    "\n",
    "# assert generation.shape == torch.Size([5])"
   ]
  },
  {
   "cell_type": "markdown",
   "metadata": {
    "id": "N5uhuTT30ewl"
   },
   "source": [
    "### Запускаем генерацию\n",
    "\n",
    "Зададим модели какой-нибудь prompt, например восторженный отзыв о фильме, и посмотрим, как она продолжит его. Так как модель сэмплит на каждом шаге, нам интересно посмотреть на несколько траекторий сразу. Для этого мы и писали батч-режим в генерации."
   ]
  },
  {
   "cell_type": "code",
   "execution_count": 18,
   "metadata": {
    "executionInfo": {
     "elapsed": 22,
     "status": "ok",
     "timestamp": 1635543460506,
     "user": {
      "displayName": "Konstantin Korsovsky",
      "photoUrl": "https://lh3.googleusercontent.com/a-/AOh14Gjjj9SSMtAkeiIi7NmMOzlE_DsgamduAm4aJZ4Kfg=s64",
      "userId": "02243307702777771097"
     },
     "user_tz": -180
    },
    "id": "jntDAgA90ewm"
   },
   "outputs": [],
   "source": [
    "prompt = 'What a lovely film !'"
   ]
  },
  {
   "cell_type": "markdown",
   "metadata": {
    "id": "H_OBJte00ewm"
   },
   "source": [
    "Подготовим входные данные для GPT"
   ]
  },
  {
   "cell_type": "code",
   "execution_count": 19,
   "metadata": {
    "executionInfo": {
     "elapsed": 21,
     "status": "ok",
     "timestamp": 1635543460506,
     "user": {
      "displayName": "Konstantin Korsovsky",
      "photoUrl": "https://lh3.googleusercontent.com/a-/AOh14Gjjj9SSMtAkeiIi7NmMOzlE_DsgamduAm4aJZ4Kfg=s64",
      "userId": "02243307702777771097"
     },
     "user_tz": -180
    },
    "id": "rSwU95VV0ewn"
   },
   "outputs": [],
   "source": [
    "ids = tokenizer.encode(prompt, return_tensors=\"pt\")"
   ]
  },
  {
   "cell_type": "markdown",
   "metadata": {
    "id": "tew84_O80ewo"
   },
   "source": [
    "Запускаем генерацию! Можно запустить на 10-20 токенов, можно и больше"
   ]
  },
  {
   "cell_type": "code",
   "execution_count": 20,
   "metadata": {
    "executionInfo": {
     "elapsed": 21,
     "status": "ok",
     "timestamp": 1635543460507,
     "user": {
      "displayName": "Konstantin Korsovsky",
      "photoUrl": "https://lh3.googleusercontent.com/a-/AOh14Gjjj9SSMtAkeiIi7NmMOzlE_DsgamduAm4aJZ4Kfg=s64",
      "userId": "02243307702777771097"
     },
     "user_tz": -180
    },
    "id": "GSHTNksk0ewo"
   },
   "outputs": [],
   "source": [
    "n_tries = 5"
   ]
  },
  {
   "cell_type": "code",
   "execution_count": 21,
   "metadata": {
    "colab": {
     "base_uri": "https://localhost:8080/"
    },
    "executionInfo": {
     "elapsed": 41654,
     "status": "ok",
     "timestamp": 1635543502141,
     "user": {
      "displayName": "Konstantin Korsovsky",
      "photoUrl": "https://lh3.googleusercontent.com/a-/AOh14Gjjj9SSMtAkeiIi7NmMOzlE_DsgamduAm4aJZ4Kfg=s64",
      "userId": "02243307702777771097"
     },
     "user_tz": -180
    },
    "id": "rKRdXJYA0ewo",
    "outputId": "e1a0fcf7-c88f-461d-a751-e70d8bc9aaf8"
   },
   "outputs": [
    {
     "name": "stderr",
     "output_type": "stream",
     "text": [
      "Setting `pad_token_id` to 50256 (first `eos_token_id`) to generate sequence\n",
      "Setting `pad_token_id` to 50256 (first `eos_token_id`) to generate sequence\n",
      "Setting `pad_token_id` to 50256 (first `eos_token_id`) to generate sequence\n",
      "Setting `pad_token_id` to 50256 (first `eos_token_id`) to generate sequence\n",
      "Setting `pad_token_id` to 50256 (first `eos_token_id`) to generate sequence\n"
     ]
    }
   ],
   "source": [
    "generations = [generate_text(model, ids, length=70, k=10).cpu().detach() for _ in range(n_tries)]"
   ]
  },
  {
   "cell_type": "code",
   "execution_count": 22,
   "metadata": {
    "colab": {
     "base_uri": "https://localhost:8080/"
    },
    "executionInfo": {
     "elapsed": 28,
     "status": "ok",
     "timestamp": 1635543502144,
     "user": {
      "displayName": "Konstantin Korsovsky",
      "photoUrl": "https://lh3.googleusercontent.com/a-/AOh14Gjjj9SSMtAkeiIi7NmMOzlE_DsgamduAm4aJZ4Kfg=s64",
      "userId": "02243307702777771097"
     },
     "user_tz": -180
    },
    "id": "gq0AoI_50ewp",
    "outputId": "f50c9ea2-e140-44d0-9ddb-75758d8b427c"
   },
   "outputs": [
    {
     "name": "stdout",
     "output_type": "stream",
     "text": [
      "What a lovely film! I love the colour scheme as well. The lighting is perfect, and it's just so funny :). It has some fantastic moments of humour too:\n",
      "\n",
      "I've watched this several times now (and still can't get over how amazing every frame looks!)<|endoftext|>\n",
      "\n",
      "========================================\n",
      "\n",
      "What a lovely film! It is about an old girl with cancer and the boy who tries to help her but it's really sad. But what makes my eyes water in particular :D\n",
      "\n",
      "The only thing I don't like: some actors were too young, others seemed pretty childish or just plain ugly for their age (eagle). So they\n",
      "\n",
      "========================================\n",
      "\n",
      "What a lovely film!\n",
      "This was not the first time I have seen this one. It is my last viewing of it and i am really glad that they did so well with it, because in fact you could say that their films always make me laugh or smile :) In all honesty if you like comedy movies (or love them) please watch THIS\n",
      "\n",
      "========================================\n",
      "\n",
      "What a lovely film! It is one of my favourite films from 2001 and I'm still waiting for the sequel.\n",
      "\n",
      "I would like to thank you all again, very much<|endoftext|>\n",
      "\n",
      "========================================\n",
      "\n",
      "What a lovely film! It is very easy to understand and has an interesting story. I loved everything about it : the beautiful characters, good acting, wonderful animation (the first time in my life that i saw such excellent CGI), fantastic soundtracks by David Guetta and others etc. The music was so catchy! This movie reminded me of one from\n",
      "\n",
      "========================================\n",
      "\n"
     ]
    }
   ],
   "source": [
    "for generation in generations:\n",
    "    print(tokenizer.decode(generation))\n",
    "    print('\\n' + '=' * 40 + '\\n')"
   ]
  },
  {
   "cell_type": "markdown",
   "metadata": {
    "id": "YHM7qBeg0ewr"
   },
   "source": [
    "А теперь запустим генерацию с top-p сэмплированием"
   ]
  },
  {
   "cell_type": "code",
   "execution_count": 23,
   "metadata": {
    "colab": {
     "base_uri": "https://localhost:8080/"
    },
    "executionInfo": {
     "elapsed": 45351,
     "status": "ok",
     "timestamp": 1635543547479,
     "user": {
      "displayName": "Konstantin Korsovsky",
      "photoUrl": "https://lh3.googleusercontent.com/a-/AOh14Gjjj9SSMtAkeiIi7NmMOzlE_DsgamduAm4aJZ4Kfg=s64",
      "userId": "02243307702777771097"
     },
     "user_tz": -180
    },
    "id": "wQ4uzsOW0ewr",
    "outputId": "642435a2-014b-477b-f09d-de1301ddc407"
   },
   "outputs": [
    {
     "name": "stderr",
     "output_type": "stream",
     "text": [
      "Setting `pad_token_id` to 50256 (first `eos_token_id`) to generate sequence\n",
      "Setting `pad_token_id` to 50256 (first `eos_token_id`) to generate sequence\n",
      "Setting `pad_token_id` to 50256 (first `eos_token_id`) to generate sequence\n",
      "Setting `pad_token_id` to 50256 (first `eos_token_id`) to generate sequence\n",
      "Setting `pad_token_id` to 50256 (first `eos_token_id`) to generate sequence\n"
     ]
    },
    {
     "name": "stdout",
     "output_type": "stream",
     "text": [
      "What a lovely film! I have to admit that the ending was very surprising. It is one of those films which makes you wonder how they did it without any real plot or character development, but at least with all these characters and story lines in place.\n",
      "\n",
      "\n",
      "The soundtrack has been great too - so much more varied than anything else out there!\n",
      "\n",
      "========================================\n",
      "\n",
      "What a lovely film!\n",
      "I really enjoyed the opening scene of this movie. It was so nice to see that I could be in my own home and not have any fear or anxiety, just relax with all these beautiful trees around me (or as they call them here: \"tree-people\" ).  The ending is pretty much what you'd\n",
      "\n",
      "========================================\n",
      "\n",
      "What a lovely film!\n",
      "The story is set in the early days of an American colony, and it's quite interesting to see how many things are different today. For example: The US military has now expanded its control over Africa with their own drones that can carry out assassinations; they have also created \"bomber\" aircraft which kill people\n",
      "\n",
      "========================================\n",
      "\n",
      "What a lovely film!\n",
      "\n",
      "\n",
      "I was going to try it again but I am afraid the DVD is not available anymore. But this one seems very good, and worth watching for sure!<|endoftext|>\n",
      "\n",
      "========================================\n",
      "\n",
      "What a lovely film! I am sure you will be able to make it more accessible for the children.\n",
      "\n",
      "I hope that they can find something in this movie which makes them happy and who knows what else! It is not just about playing with dolls but also giving these wonderful creatures life, so we need lots of love here on Earth.\"\n",
      "\n",
      "\n",
      "========================================\n",
      "\n"
     ]
    }
   ],
   "source": [
    "generations = [generate_text(model, ids, length=70, p=0.5).cpu().detach() for _ in range(n_tries)]\n",
    "for generation in generations:\n",
    "    print(tokenizer.decode(generation))\n",
    "    print('\\n' + '=' * 40 + '\\n')"
   ]
  },
  {
   "cell_type": "markdown",
   "metadata": {
    "id": "isQrAwqG0ews"
   },
   "source": [
    "# Часть 2. Few-shot learning\n",
    "\n",
    "Одной из особенностей GPT, про которую авторы написали, является способность к few-shot learning. В этой части домашнего задания мы на примере хорошо знакомой нам задачи классификации текстов исследуем, как хорошо модель умеет различать сентимент отзывов без дополнительного обучения."
   ]
  },
  {
   "cell_type": "markdown",
   "metadata": {
    "id": "h2osAS3f0ews"
   },
   "source": [
    "## Датасет.\n",
    "Мы будем снова использовать датасет imdb, на котором мы уже обучили несколько моделей. Так как обучать саму модель мы не будем (в few-shot парадигме веса не меняются), то можем сразу взять валидационную часть датасета."
   ]
  },
  {
   "cell_type": "code",
   "execution_count": 24,
   "metadata": {
    "colab": {
     "base_uri": "https://localhost:8080/",
     "height": 202,
     "referenced_widgets": [
      "a3a379ffd974400689c25635391df67b",
      "71fb9d35b6af4332a4267475099a0d3e",
      "485a75b5943746dfae252fad0420778e",
      "1ee5e89b3e1849beaaef5cc865041991",
      "fde7047490d6455a9cb5445d4acd38f0",
      "8d52b22d0f6b44a083c1bc646dcdabc6",
      "b9e3c8fc647a4fbd9303825f4498274a",
      "99a40500233544768bade9ae8f8aba5a",
      "b9f67287d4f745b09c5a7a5d2d1bfe60",
      "504c6f1c2dcd43d186a48e146682c286",
      "5c0811eee5b446169fe8c0ea406ddb2c",
      "10112f34e7b9408f9f6242a75696e84e",
      "5520cc7236aa471e9f73daa5b823c870",
      "1fa751a03d3446ee89b64bd289a921c3",
      "a5e80efaf38242ccabc8b34376d54166",
      "1bcf196cc18b4c7888aa8e48381d8443",
      "658e88c9c63a47cf800eb90ebdfaac83",
      "35e9cfe97ef54803a846bfb2b6e1ab69",
      "7450384d624b4976b685c80f3c8097e1",
      "965eb79f582342e5b2fac1b35813121a",
      "81bb74aff583440ab15ff42d2ea45185",
      "d57eb631576e40aab36f7342328b8ec1",
      "89526e0189d3412fb4f34e484d49f876",
      "de87565989ef4c7baaef86f83a1d1d9b",
      "a913911214d74b2db1bd8e53f5f0996b",
      "07766765bffe4e468e2cdc8c404fc219",
      "8b56ea229f8c4051a0383f1d0fe3a76b",
      "321360e00fa74871851964f5f3579475",
      "6660f8d57dbd4418a0135c47528d1a0d",
      "522e44376dda4ce28f2088ec1b8a68a0",
      "d20be54f703a493eb0f2d4f273c71062",
      "6a80d3bd46084926a8e94ab3d191b5d9",
      "6dcc3b0f3a554a5f81e728fcd5ad33b4",
      "2c740b038177466dadacd97a57181d97",
      "1ca318a8876c4a0f997b5efcb68fd64b",
      "f5dd9b1381b84bd2a52300601324cbdd",
      "0ca45aee82784e78b2adfa43688c7af6",
      "9868bc78d10c4d29b6820863ea71f631",
      "ccf18ad2148349a6b8905d977fb60f1a",
      "60afdf9457a54feb8b7eb3eced416b95",
      "7bef77d34c7947e8b220ba31c07e1ffb",
      "79cdd5a0344740d6a632588484e2ac71",
      "990b72fb76bf4d12b16995cd0a976cea",
      "4e4235e5dd894457b06336d918b8a8b5",
      "6478bda0ea584640a60f65e89bb37ebe",
      "f16ed3da27374d9391243bdc5234ef71",
      "d8957da96f324c0690d8dfce27b35dea",
      "8a077b8653be4eca91a709b522c343a9",
      "04bc7641347c437faa0c6c083ec31ceb",
      "8555cb5d8baa4151b522bf2a312fffe7",
      "04ec2405fc4e42a0a5562098eba300ef",
      "eead4a2d65a7424eae12b886d69a8f1e",
      "fc9e2b3ecc174ffaaa9a9999d4809274",
      "916b9bc3fccd410384f26b6bfa8aec51",
      "beed4bab61e24dc7bf281104820d975a",
      "a95f4a3bbfdc47629431a908b5f19977",
      "667a4768e11a47efbc0d820f8d863bc6",
      "31debfcc5b8e488188fdf13cb30d5854",
      "cf428d04df454a5080ba0d88d764dd9b",
      "67a700a4646b49408013c204d355444e",
      "347dbfee833a4b00847a36ac5633f2a2",
      "4ea78f8133e14854be2d2947eb41a74c",
      "140d2eba70104a488c4b3326e06db8e7",
      "a768475f5b54441d8261eb431a085fe9",
      "d976b816f3414ef5b2482340852cde86",
      "9b7d98a5508f49a890e74293b7c1fe50",
      "901352b50fe14ed0a2bd702002ce33eb",
      "5ef91a27881e43cdb0caf41ed161a705",
      "fd6636798af74a3785de21d5a7096190",
      "0950600d974643439b267ed06e3cf208",
      "3646a6e925cb446b83f43f8e0c2011b6",
      "621b99fcd835450ba24dd57c4c9a4ec2",
      "5a71015040d24efca05660a1b22ba437",
      "6d98c2fedb114f668425b4357533459b",
      "2d7dd793d5d142e18c771f60242283ea",
      "e286acbe35b442148d432b6e1a0326fb",
      "07fd8374f0fa465fbdd0d15778654b06"
     ]
    },
    "executionInfo": {
     "elapsed": 52959,
     "status": "ok",
     "timestamp": 1635543600433,
     "user": {
      "displayName": "Konstantin Korsovsky",
      "photoUrl": "https://lh3.googleusercontent.com/a-/AOh14Gjjj9SSMtAkeiIi7NmMOzlE_DsgamduAm4aJZ4Kfg=s64",
      "userId": "02243307702777771097"
     },
     "user_tz": -180
    },
    "id": "UQpgFvhq0ewt",
    "outputId": "3874239e-f5f1-4aef-db72-0b2dc3345214"
   },
   "outputs": [
    {
     "data": {
      "application/vnd.jupyter.widget-view+json": {
       "model_id": "a3a379ffd974400689c25635391df67b",
       "version_major": 2,
       "version_minor": 0
      },
      "text/plain": [
       "Downloading:   0%|          | 0.00/1.92k [00:00<?, ?B/s]"
      ]
     },
     "metadata": {},
     "output_type": "display_data"
    },
    {
     "data": {
      "application/vnd.jupyter.widget-view+json": {
       "model_id": "10112f34e7b9408f9f6242a75696e84e",
       "version_major": 2,
       "version_minor": 0
      },
      "text/plain": [
       "Downloading:   0%|          | 0.00/1.05k [00:00<?, ?B/s]"
      ]
     },
     "metadata": {},
     "output_type": "display_data"
    },
    {
     "name": "stdout",
     "output_type": "stream",
     "text": [
      "Downloading and preparing dataset imdb/plain_text (download: 80.23 MiB, generated: 127.02 MiB, post-processed: Unknown size, total: 207.25 MiB) to /root/.cache/huggingface/datasets/imdb/plain_text/1.0.0/e3c66f1788a67a89c7058d97ff62b6c30531e05b549de56d3ab91891f0561f9a...\n"
     ]
    },
    {
     "data": {
      "application/vnd.jupyter.widget-view+json": {
       "model_id": "89526e0189d3412fb4f34e484d49f876",
       "version_major": 2,
       "version_minor": 0
      },
      "text/plain": [
       "Downloading:   0%|          | 0.00/84.1M [00:00<?, ?B/s]"
      ]
     },
     "metadata": {},
     "output_type": "display_data"
    },
    {
     "data": {
      "application/vnd.jupyter.widget-view+json": {
       "model_id": "2c740b038177466dadacd97a57181d97",
       "version_major": 2,
       "version_minor": 0
      },
      "text/plain": [
       "0 examples [00:00, ? examples/s]"
      ]
     },
     "metadata": {},
     "output_type": "display_data"
    },
    {
     "data": {
      "application/vnd.jupyter.widget-view+json": {
       "model_id": "6478bda0ea584640a60f65e89bb37ebe",
       "version_major": 2,
       "version_minor": 0
      },
      "text/plain": [
       "0 examples [00:00, ? examples/s]"
      ]
     },
     "metadata": {},
     "output_type": "display_data"
    },
    {
     "data": {
      "application/vnd.jupyter.widget-view+json": {
       "model_id": "a95f4a3bbfdc47629431a908b5f19977",
       "version_major": 2,
       "version_minor": 0
      },
      "text/plain": [
       "0 examples [00:00, ? examples/s]"
      ]
     },
     "metadata": {},
     "output_type": "display_data"
    },
    {
     "name": "stdout",
     "output_type": "stream",
     "text": [
      "Dataset imdb downloaded and prepared to /root/.cache/huggingface/datasets/imdb/plain_text/1.0.0/e3c66f1788a67a89c7058d97ff62b6c30531e05b549de56d3ab91891f0561f9a. Subsequent calls will reuse this data.\n"
     ]
    },
    {
     "data": {
      "application/vnd.jupyter.widget-view+json": {
       "model_id": "901352b50fe14ed0a2bd702002ce33eb",
       "version_major": 2,
       "version_minor": 0
      },
      "text/plain": [
       "  0%|          | 0/3 [00:00<?, ?it/s]"
      ]
     },
     "metadata": {},
     "output_type": "display_data"
    }
   ],
   "source": [
    "text_dataset = datasets.load_dataset(\"imdb\")\n",
    "texts = text_dataset[\"test\"][\"text\"]\n",
    "labels = text_dataset[\"test\"][\"label\"]"
   ]
  },
  {
   "cell_type": "markdown",
   "metadata": {
    "id": "1DPlm7ad0ewu"
   },
   "source": [
    "### Метки для задачи классификации на естественном языке\n",
    "Поскольку языковая модель знает только токены языка и не знает маппинга между индексами и лейблами, нам нужно будет сравнивать лейблы напрямую. С одной стороны, это создаёт дополнительные сложности: модель может предсказать \"Positive Sentiment\" вместо \"positive\", поэтому нам потребуется минимальный постпроцессинг, чтобы учесть большинство таких случаев."
   ]
  },
  {
   "cell_type": "code",
   "execution_count": 25,
   "metadata": {
    "colab": {
     "base_uri": "https://localhost:8080/"
    },
    "executionInfo": {
     "elapsed": 44,
     "status": "ok",
     "timestamp": 1635543600434,
     "user": {
      "displayName": "Konstantin Korsovsky",
      "photoUrl": "https://lh3.googleusercontent.com/a-/AOh14Gjjj9SSMtAkeiIi7NmMOzlE_DsgamduAm4aJZ4Kfg=s64",
      "userId": "02243307702777771097"
     },
     "user_tz": -180
    },
    "id": "j7qRUd-X0ewu",
    "outputId": "ce1f13e4-8120-4ae4-b670-99bbf99810c5"
   },
   "outputs": [
    {
     "data": {
      "text/plain": [
       "{0: 'neg', 1: 'pos'}"
      ]
     },
     "execution_count": 25,
     "metadata": {},
     "output_type": "execute_result"
    }
   ],
   "source": [
    "mapping = {idx: label for idx, label in enumerate(text_dataset[\"train\"].features[\"label\"].names)}\n",
    "mapping"
   ]
  },
  {
   "cell_type": "markdown",
   "metadata": {
    "id": "qmkvUl1W0ewv"
   },
   "source": [
    "### Игрушечный датасет\n",
    "Чтобы быстрее прототипировать наши вводы (prompts), полезно взять маленькую часть датасета и проверять гипотезы на ней. Так как imdb упорядочен по лейблам, а самих лейблов всего 2, мы берём одинаковое количество примеров с начала и с конца."
   ]
  },
  {
   "cell_type": "code",
   "execution_count": 26,
   "metadata": {
    "executionInfo": {
     "elapsed": 39,
     "status": "ok",
     "timestamp": 1635543600436,
     "user": {
      "displayName": "Konstantin Korsovsky",
      "photoUrl": "https://lh3.googleusercontent.com/a-/AOh14Gjjj9SSMtAkeiIi7NmMOzlE_DsgamduAm4aJZ4Kfg=s64",
      "userId": "02243307702777771097"
     },
     "user_tz": -180
    },
    "id": "bUrFRggy0ewv"
   },
   "outputs": [],
   "source": [
    "def get_toy_dataset(dataset, split, length = 100):\n",
    "    texts = dataset[split][\"text\"]\n",
    "    labels = dataset[split][\"label\"]\n",
    "    small_texts = texts[:length // 2] + texts[-length//2:]\n",
    "    small_labels = labels[:length // 2] + labels[-length//2:]\n",
    "    return small_texts, small_labels"
   ]
  },
  {
   "cell_type": "code",
   "execution_count": 27,
   "metadata": {
    "executionInfo": {
     "elapsed": 36,
     "status": "ok",
     "timestamp": 1635543600437,
     "user": {
      "displayName": "Konstantin Korsovsky",
      "photoUrl": "https://lh3.googleusercontent.com/a-/AOh14Gjjj9SSMtAkeiIi7NmMOzlE_DsgamduAm4aJZ4Kfg=s64",
      "userId": "02243307702777771097"
     },
     "user_tz": -180
    },
    "id": "g9gjyJGQ0eww"
   },
   "outputs": [],
   "source": [
    "assert len(get_toy_dataset(text_dataset, \"test\", 100)[0]) == 100"
   ]
  },
  {
   "cell_type": "markdown",
   "metadata": {
    "id": "lQovzfQu0eww"
   },
   "source": [
    "## Few-shot learning\n",
    "\n",
    "В данном задании мы будем не обучать модель на данных, а использовать уже обученную на огромном корпусе языковую модель, чтобы \"угадывать\" сентимент отзывов.\n",
    "\n",
    "Модель будет видеть в качестве затравки (prompt) описание задачи на естественном языке.\n",
    "\n",
    "Нам потребуется:\n",
    "- описание задачи\n",
    "- лейблы\n",
    "- несколько (хотя бы 3) примеров\n",
    "- вспомогательные маркеры (разделитель примеров и маркер конца входа)\n",
    "\n",
    "Например:\n",
    "\n",
    "```\n",
    "Translate from English to French\n",
    "sea otter => loutre de mer\n",
    "peppermint => menthe poivrée\n",
    "plush girafe  => \n",
    "```\n",
    "\n",
    "Первая строка здесь -- описание задачи. Мы решаем задачу классификации, поэтому нам нужно\n",
    "описать задачу примерно как `To which category does the text belong? positive , negative `\n",
    "\n",
    "Вторая и третья строки -- примеры входа и выхода. В нашем случае примерами входа и выхода будут служить тексты ревью и метки классов positive и negative (а не 0 и 1, как раньше).\n",
    "\n",
    "Наконец, последняя строка -- это тот текст, который модель должна классифицировать. Модель уже \"видела\" выше пример того, что после маркера конца входа идёт сентимент, и мы ожидаем, что она сможет выучить эту закономерность.\n",
    "\n",
    "В данном задании часть входа будет написана за вас, вам надо будет придумать обучающие примеры для few-shot learning'а"
   ]
  },
  {
   "cell_type": "code",
   "execution_count": 28,
   "metadata": {
    "executionInfo": {
     "elapsed": 35,
     "status": "ok",
     "timestamp": 1635543600438,
     "user": {
      "displayName": "Konstantin Korsovsky",
      "photoUrl": "https://lh3.googleusercontent.com/a-/AOh14Gjjj9SSMtAkeiIi7NmMOzlE_DsgamduAm4aJZ4Kfg=s64",
      "userId": "02243307702777771097"
     },
     "user_tz": -180
    },
    "id": "JZQgn9uG0ewx"
   },
   "outputs": [],
   "source": [
    "marker = ' => '\n",
    "separator = '\\n'"
   ]
  },
  {
   "cell_type": "code",
   "execution_count": 29,
   "metadata": {
    "executionInfo": {
     "elapsed": 34,
     "status": "ok",
     "timestamp": 1635543600438,
     "user": {
      "displayName": "Konstantin Korsovsky",
      "photoUrl": "https://lh3.googleusercontent.com/a-/AOh14Gjjj9SSMtAkeiIi7NmMOzlE_DsgamduAm4aJZ4Kfg=s64",
      "userId": "02243307702777771097"
     },
     "user_tz": -180
    },
    "id": "TFxS1Qnp0ewx"
   },
   "outputs": [],
   "source": [
    "labels_tmp = [\"positive\" , \"negative\"]\n",
    "labels_text = \" , \".join(labels_tmp)\n",
    "task_description = f'To which category does the text belong?: {labels_text} ' + separator"
   ]
  },
  {
   "cell_type": "code",
   "execution_count": 30,
   "metadata": {
    "executionInfo": {
     "elapsed": 34,
     "status": "ok",
     "timestamp": 1635543600439,
     "user": {
      "displayName": "Konstantin Korsovsky",
      "photoUrl": "https://lh3.googleusercontent.com/a-/AOh14Gjjj9SSMtAkeiIi7NmMOzlE_DsgamduAm4aJZ4Kfg=s64",
      "userId": "02243307702777771097"
     },
     "user_tz": -180
    },
    "id": "e-Z-wR-k0ewy"
   },
   "outputs": [],
   "source": [
    "examples = [\n",
    "    # TASK define examples\n",
    "    # They should be a tuple with text and label\n",
    "    # label should be from \"labels\"\n",
    "    # Get 3-10 different examples, they should cover both positive \n",
    "    # and negative reviews\n",
    "    # YOUR CODE STARTS\n",
    "    [\"resolution is an interesting one\",\"positive\"],\n",
    "    [\"I liked this film\",\"positive\"],\n",
    "    [\"voters see the brilliance in this script\",\"positive\"],\n",
    "    [\"the worst thing I have ever seen\",\"negative\"],\n",
    "    [\"This is clearly the worst\",\"negative\"],\n",
    "    [\"Terrible. Horrible acting.\",\"negative\"]\n",
    "    # YOUR CODE ENDS\n",
    "]"
   ]
  },
  {
   "cell_type": "code",
   "execution_count": 31,
   "metadata": {
    "executionInfo": {
     "elapsed": 35,
     "status": "ok",
     "timestamp": 1635543600441,
     "user": {
      "displayName": "Konstantin Korsovsky",
      "photoUrl": "https://lh3.googleusercontent.com/a-/AOh14Gjjj9SSMtAkeiIi7NmMOzlE_DsgamduAm4aJZ4Kfg=s64",
      "userId": "02243307702777771097"
     },
     "user_tz": -180
    },
    "id": "Aso2fG6_0ewz"
   },
   "outputs": [],
   "source": [
    "assert len(examples) > 1, 'Write at least two different examples'\n",
    "for ex in examples:\n",
    "    assert ex[1] in labels_tmp"
   ]
  },
  {
   "cell_type": "code",
   "execution_count": 32,
   "metadata": {
    "executionInfo": {
     "elapsed": 36,
     "status": "ok",
     "timestamp": 1635543600443,
     "user": {
      "displayName": "Konstantin Korsovsky",
      "photoUrl": "https://lh3.googleusercontent.com/a-/AOh14Gjjj9SSMtAkeiIi7NmMOzlE_DsgamduAm4aJZ4Kfg=s64",
      "userId": "02243307702777771097"
     },
     "user_tz": -180
    },
    "id": "Heu6rvlK0ewz"
   },
   "outputs": [],
   "source": [
    "input = task_description  + separator.join([marker.join(example) for example in examples])"
   ]
  },
  {
   "cell_type": "code",
   "execution_count": 33,
   "metadata": {
    "colab": {
     "base_uri": "https://localhost:8080/"
    },
    "executionInfo": {
     "elapsed": 36,
     "status": "ok",
     "timestamp": 1635543600444,
     "user": {
      "displayName": "Konstantin Korsovsky",
      "photoUrl": "https://lh3.googleusercontent.com/a-/AOh14Gjjj9SSMtAkeiIi7NmMOzlE_DsgamduAm4aJZ4Kfg=s64",
      "userId": "02243307702777771097"
     },
     "user_tz": -180
    },
    "id": "buEhQeHo0ew1",
    "outputId": "4e10b3bf-2eb4-444e-f412-c67a603b355a"
   },
   "outputs": [
    {
     "name": "stdout",
     "output_type": "stream",
     "text": [
      "To which category does the text belong?: positive , negative \n",
      "resolution is an interesting one => positive\n",
      "I liked this film => positive\n",
      "voters see the brilliance in this script => positive\n",
      "the worst thing I have ever seen => negative\n",
      "This is clearly the worst => negative\n",
      "Terrible. Horrible acting. => negative\n"
     ]
    }
   ],
   "source": [
    "print(input)"
   ]
  },
  {
   "cell_type": "markdown",
   "metadata": {
    "id": "lIHpblK80ew2"
   },
   "source": [
    "Сравните получившийся инпут с примером выше. Мы получили то, что надо!"
   ]
  },
  {
   "cell_type": "code",
   "execution_count": 34,
   "metadata": {
    "executionInfo": {
     "elapsed": 30,
     "status": "ok",
     "timestamp": 1635543600444,
     "user": {
      "displayName": "Konstantin Korsovsky",
      "photoUrl": "https://lh3.googleusercontent.com/a-/AOh14Gjjj9SSMtAkeiIi7NmMOzlE_DsgamduAm4aJZ4Kfg=s64",
      "userId": "02243307702777771097"
     },
     "user_tz": -180
    },
    "id": "Xds7hkfQ0ew3"
   },
   "outputs": [],
   "source": [
    "n_chars = 50"
   ]
  },
  {
   "cell_type": "code",
   "execution_count": 35,
   "metadata": {
    "executionInfo": {
     "elapsed": 29,
     "status": "ok",
     "timestamp": 1635543600445,
     "user": {
      "displayName": "Konstantin Korsovsky",
      "photoUrl": "https://lh3.googleusercontent.com/a-/AOh14Gjjj9SSMtAkeiIi7NmMOzlE_DsgamduAm4aJZ4Kfg=s64",
      "userId": "02243307702777771097"
     },
     "user_tz": -180
    },
    "id": "Slih0Fur0ew3"
   },
   "outputs": [],
   "source": [
    "def get_prompt(beginning, separator, text, marker) -> str:\n",
    "    return ' '.join([input,  separator, text[:n_chars] + text[-n_chars:], marker])"
   ]
  },
  {
   "cell_type": "markdown",
   "metadata": {
    "id": "hmQrc0fs0ew5"
   },
   "source": [
    "## Время проверить работу нашей модели на маленьком датасете!"
   ]
  },
  {
   "cell_type": "code",
   "execution_count": 36,
   "metadata": {
    "executionInfo": {
     "elapsed": 29,
     "status": "ok",
     "timestamp": 1635543600446,
     "user": {
      "displayName": "Konstantin Korsovsky",
      "photoUrl": "https://lh3.googleusercontent.com/a-/AOh14Gjjj9SSMtAkeiIi7NmMOzlE_DsgamduAm4aJZ4Kfg=s64",
      "userId": "02243307702777771097"
     },
     "user_tz": -180
    },
    "id": "P_0WPdws0ew5"
   },
   "outputs": [],
   "source": [
    "small_texts, small_labels = get_toy_dataset(text_dataset, \"test\")"
   ]
  },
  {
   "cell_type": "markdown",
   "metadata": {
    "id": "40bwRicj0ew5"
   },
   "source": [
    "Так как мы предсказываем сентимент текста, каждый из который задаётся одним токеном, то нам\n",
    "- не надо сэмплировать. Мы хотим, чтобы модель честно учитывала вероятности для токенов\n",
    "- достаточно сделать один шаг генерации. Модель должна будет предсказать лейбл текста, а он, как мы выяснили, однотокенный.\n",
    "\n",
    "Таким образом, нам просто надо сделать один шаг жадного предсказания (greedy decoding)."
   ]
  },
  {
   "cell_type": "code",
   "execution_count": 37,
   "metadata": {
    "executionInfo": {
     "elapsed": 29,
     "status": "ok",
     "timestamp": 1635543600447,
     "user": {
      "displayName": "Konstantin Korsovsky",
      "photoUrl": "https://lh3.googleusercontent.com/a-/AOh14Gjjj9SSMtAkeiIi7NmMOzlE_DsgamduAm4aJZ4Kfg=s64",
      "userId": "02243307702777771097"
     },
     "user_tz": -180
    },
    "id": "B8ax1sUE0ew6"
   },
   "outputs": [],
   "source": [
    "# Домашнее задание\n",
    "\n",
    "def predict_on_text(model, ids) -> int:\n",
    "    \"\"\"\n",
    "    Run Language Model on text and use logits from last time \n",
    "    step to predict sentence category with greedy decoding\n",
    "    Args:\n",
    "        model: huggingface LM model\n",
    "        ids: LongTensor . Text encoded with tokenizer.\n",
    "    Returns:\n",
    "        model prediction, index of most probable word\n",
    "    \"\"\"\n",
    "    # TASK: run a model and get index most probable logit\n",
    "    # HINT: do not forget to detach tensors\n",
    "    # HINT 2: GPT-2 model returns tuple where logits are stored in the\n",
    "    # 1st item. You do not need 2nd item at all\n",
    "    # Our implementation is 2 lines\n",
    "    # YOUR CODE STARTS\n",
    "    idx = model.generate(\n",
    "        ids.reshape(-1, ids.shape[0]),\n",
    "        max_length=ids.shape[0] + 1,\n",
    "        pad_token_id=tokenizer.eos_token_id,\n",
    "    )[0][-1]\n",
    "    # YOUR CODE ENDS\n",
    "    return idx.cpu().detach().item()"
   ]
  },
  {
   "cell_type": "markdown",
   "metadata": {
    "id": "mz6LoYwK0ew7"
   },
   "source": [
    "Проверка кода:"
   ]
  },
  {
   "cell_type": "code",
   "execution_count": 38,
   "metadata": {
    "executionInfo": {
     "elapsed": 341,
     "status": "ok",
     "timestamp": 1635543600760,
     "user": {
      "displayName": "Konstantin Korsovsky",
      "photoUrl": "https://lh3.googleusercontent.com/a-/AOh14Gjjj9SSMtAkeiIi7NmMOzlE_DsgamduAm4aJZ4Kfg=s64",
      "userId": "02243307702777771097"
     },
     "user_tz": -180
    },
    "id": "-Uo318VV0ew7"
   },
   "outputs": [],
   "source": [
    "ids = tokenizer.encode('hello world !', return_tensors=\"pt\",)\n",
    "prediction = predict_on_text(model, ids.to(device))\n",
    "assert isinstance(prediction, int)"
   ]
  },
  {
   "cell_type": "code",
   "execution_count": 39,
   "metadata": {
    "executionInfo": {
     "elapsed": 10,
     "status": "ok",
     "timestamp": 1635543600761,
     "user": {
      "displayName": "Konstantin Korsovsky",
      "photoUrl": "https://lh3.googleusercontent.com/a-/AOh14Gjjj9SSMtAkeiIi7NmMOzlE_DsgamduAm4aJZ4Kfg=s64",
      "userId": "02243307702777771097"
     },
     "user_tz": -180
    },
    "id": "69zOpqp90ew7"
   },
   "outputs": [],
   "source": [
    "def predict_on_dataset(model, texts, target, mapping):\n",
    "    \"\"\"\n",
    "    Run Language Model on a dataset and use its predictions as\n",
    "    labels for sentences\n",
    "    Args:\n",
    "        model: huggingface LM model\n",
    "        texts: List[str], texts of dataset\n",
    "        target: List[int], indices of classes\n",
    "        mapping: Dict[int, str] mapping from class indices to class labels\n",
    "    Returns:\n",
    "        model predictions, \"as is\", List[str]\n",
    "        target labels, after mapping, List[str]\n",
    "    \"\"\"\n",
    "    if len(texts) != len(target):\n",
    "        raise RuntimeError('Texts and target lengths mismatch')\n",
    "    # max_length has additional -1 because we will generate exactly 1 token \n",
    "    # with LM\n",
    "    max_length = model.config.n_ctx - 1\n",
    "    predictions = []\n",
    "    labels = []\n",
    "    for idx in tqdm(range(len(texts))):\n",
    "        text, label = texts[idx], target[idx]\n",
    "        ids = tokenizer.encode(\n",
    "            get_prompt(input, separator, text, marker), \n",
    "            add_special_tokens=False, \n",
    "            return_tensors=\"pt\",\n",
    "            max_length=max_length\n",
    "        ).squeeze()\n",
    "        idx = predict_on_text(model, ids.to(device))\n",
    "        predictions.append(tokenizer.decode([idx]))  # generation.cpu().numpy()[0][-1]\n",
    "        labels.append(mapping[label]) \n",
    "    return predictions, labels"
   ]
  },
  {
   "cell_type": "code",
   "execution_count": 40,
   "metadata": {
    "colab": {
     "base_uri": "https://localhost:8080/"
    },
    "executionInfo": {
     "elapsed": 171627,
     "status": "ok",
     "timestamp": 1635543772379,
     "user": {
      "displayName": "Konstantin Korsovsky",
      "photoUrl": "https://lh3.googleusercontent.com/a-/AOh14Gjjj9SSMtAkeiIi7NmMOzlE_DsgamduAm4aJZ4Kfg=s64",
      "userId": "02243307702777771097"
     },
     "user_tz": -180
    },
    "id": "abvFt18q0ew8",
    "outputId": "c93fabad-6553-4d48-9157-9e8244595eb6"
   },
   "outputs": [
    {
     "name": "stderr",
     "output_type": "stream",
     "text": [
      "100%|██████████| 100/100 [02:51<00:00,  1.72s/it]\n"
     ]
    }
   ],
   "source": [
    "predictions, target = predict_on_dataset(model, small_texts, small_labels, mapping)"
   ]
  },
  {
   "cell_type": "markdown",
   "metadata": {
    "id": "BIECT9O-0ew9"
   },
   "source": [
    "### Замер качества"
   ]
  },
  {
   "cell_type": "markdown",
   "metadata": {
    "id": "13EoUAQ10ew9"
   },
   "source": [
    "Посмотрим, что выдаёт нам языковая модель:"
   ]
  },
  {
   "cell_type": "code",
   "execution_count": 41,
   "metadata": {
    "colab": {
     "base_uri": "https://localhost:8080/"
    },
    "executionInfo": {
     "elapsed": 36,
     "status": "ok",
     "timestamp": 1635543772650,
     "user": {
      "displayName": "Konstantin Korsovsky",
      "photoUrl": "https://lh3.googleusercontent.com/a-/AOh14Gjjj9SSMtAkeiIi7NmMOzlE_DsgamduAm4aJZ4Kfg=s64",
      "userId": "02243307702777771097"
     },
     "user_tz": -180
    },
    "id": "bgiZYWnW0ew-",
    "outputId": "e3576423-9009-457f-dd94-f49d29d2acae"
   },
   "outputs": [
    {
     "name": "stdout",
     "output_type": "stream",
     "text": [
      "[' negative', ' negative', ' negative', ' negative', ' negative', ' positive', ' negative', ' positive', ' positive', ' negative']\n"
     ]
    }
   ],
   "source": [
    "print(predictions[:10])"
   ]
  },
  {
   "cell_type": "markdown",
   "metadata": {
    "id": "WjzhPs7i0ew_"
   },
   "source": [
    "Можно заметить, что предсказанные метки не совсем похожи на pos и neg, которые были у нас в таргете. Напишем простую функцию, которая нормализует предсказания модели"
   ]
  },
  {
   "cell_type": "code",
   "execution_count": 42,
   "metadata": {
    "executionInfo": {
     "elapsed": 30,
     "status": "ok",
     "timestamp": 1635543772651,
     "user": {
      "displayName": "Konstantin Korsovsky",
      "photoUrl": "https://lh3.googleusercontent.com/a-/AOh14Gjjj9SSMtAkeiIi7NmMOzlE_DsgamduAm4aJZ4Kfg=s64",
      "userId": "02243307702777771097"
     },
     "user_tz": -180
    },
    "id": "QPB04pnd0exA"
   },
   "outputs": [],
   "source": [
    "# Домашнее задание\n",
    "\n",
    "def normalize_prediction(raw_output: str) -> str:\n",
    "    \"\"\"\n",
    "    Helper that transforms model prediction to normal\n",
    "    For example, ' positive' -> 'pos', ' Negative' -> neg\n",
    "    Args:\n",
    "        raw_output: str, output from language model\n",
    "    Returns:\n",
    "        normalized value: no leading/trailing spaces, lowercase,\n",
    "        at most 3 chars long\n",
    "    \"\"\"\n",
    "    # TASK: write prediction normalizer\n",
    "    # You need to remove spaces, lowercase and get only 3 leading chars\n",
    "    # Our implementation is 1 line\n",
    "    # YOUR CODE STARTS\n",
    "    normalized_output = [x.strip().lower()[:3] for x in raw_output]\n",
    "    # YOUR CODE ENDS\n",
    "    return normalized_output"
   ]
  },
  {
   "cell_type": "markdown",
   "metadata": {
    "id": "euC0k3nFtojd"
   },
   "source": [
    "Напишем функцию, вычисляющую точность:"
   ]
  },
  {
   "cell_type": "code",
   "execution_count": 43,
   "metadata": {
    "executionInfo": {
     "elapsed": 30,
     "status": "ok",
     "timestamp": 1635543772653,
     "user": {
      "displayName": "Konstantin Korsovsky",
      "photoUrl": "https://lh3.googleusercontent.com/a-/AOh14Gjjj9SSMtAkeiIi7NmMOzlE_DsgamduAm4aJZ4Kfg=s64",
      "userId": "02243307702777771097"
     },
     "user_tz": -180
    },
    "id": "CozGfPMo0exA"
   },
   "outputs": [],
   "source": [
    "def accuracy(predictions, labels) -> float:\n",
    "    \"\"\"\n",
    "    Helper that transforms model prediction to normal\n",
    "    For example, ' positive' -> 'pos', ' Negative' -> neg\n",
    "    Args:\n",
    "        predictions: List[str], model predictions, should be labels in natural language\n",
    "        labels: List[str], target labels\n",
    "    Returns:\n",
    "        accuracy, float from [0, 1]\n",
    "    \"\"\"\n",
    "    if not labels:\n",
    "        # sanity check to avoid zero division\n",
    "        return 0\n",
    "    if len(predictions) != len(labels):\n",
    "        raise ValueError(f'Predictions and labels have mismatched length')\n",
    "    total = len(predictions)\n",
    "    match = 0\n",
    "    # TASK: calculate accuracy\n",
    "    # For every pair of predicted and real labels, check that they coincide.\n",
    "    # You can use zip() method for iteration over two sequences\n",
    "    # simultaneously.\n",
    "    # Our implementation is 3 lines\n",
    "    # YOUR CODE STARTS\n",
    "    for i,j in zip(predictions, labels):\n",
    "      if i==j:\n",
    "        match+=1\n",
    "    accuracy = match/total\n",
    "    # YOUR CODE ENDS\n",
    "    return accuracy"
   ]
  },
  {
   "cell_type": "code",
   "execution_count": 47,
   "metadata": {
    "executionInfo": {
     "elapsed": 256,
     "status": "ok",
     "timestamp": 1635544301603,
     "user": {
      "displayName": "Konstantin Korsovsky",
      "photoUrl": "https://lh3.googleusercontent.com/a-/AOh14Gjjj9SSMtAkeiIi7NmMOzlE_DsgamduAm4aJZ4Kfg=s64",
      "userId": "02243307702777771097"
     },
     "user_tz": -180
    },
    "id": "_632NyJB0exA"
   },
   "outputs": [],
   "source": [
    "normalized_predictions = normalize_prediction(predictions)"
   ]
  },
  {
   "cell_type": "code",
   "execution_count": 48,
   "metadata": {
    "colab": {
     "base_uri": "https://localhost:8080/"
    },
    "executionInfo": {
     "elapsed": 310,
     "status": "ok",
     "timestamp": 1635544303961,
     "user": {
      "displayName": "Konstantin Korsovsky",
      "photoUrl": "https://lh3.googleusercontent.com/a-/AOh14Gjjj9SSMtAkeiIi7NmMOzlE_DsgamduAm4aJZ4Kfg=s64",
      "userId": "02243307702777771097"
     },
     "user_tz": -180
    },
    "id": "S1hyGmSH0exB",
    "outputId": "75da9fa0-6481-4b0d-dc0f-688c650f1af2"
   },
   "outputs": [
    {
     "data": {
      "text/plain": [
       "0.68"
      ]
     },
     "execution_count": 48,
     "metadata": {},
     "output_type": "execute_result"
    }
   ],
   "source": [
    "accuracy(normalized_predictions, target)"
   ]
  },
  {
   "cell_type": "markdown",
   "metadata": {
    "id": "04SFZ3Wo0exC"
   },
   "source": [
    "### Ура, модель без обучения работает лучше случайного угадывания!\n",
    "\n",
    "Тем не менее, это заметно хуже, чем у полносвязной нейросети. **Учитывая требования по ресурсам и время \n",
    "работы, использование такой модели в реальных задачах непрактично!**"
   ]
  },
  {
   "cell_type": "markdown",
   "metadata": {
    "id": "srG4Gk3p0exC"
   },
   "source": [
    "## А теперь замер на всем тестовом сете:"
   ]
  },
  {
   "cell_type": "code",
   "execution_count": 55,
   "metadata": {
    "colab": {
     "base_uri": "https://localhost:8080/"
    },
    "executionInfo": {
     "elapsed": 2026579,
     "status": "ok",
     "timestamp": 1635548575195,
     "user": {
      "displayName": "Konstantin Korsovsky",
      "photoUrl": "https://lh3.googleusercontent.com/a-/AOh14Gjjj9SSMtAkeiIi7NmMOzlE_DsgamduAm4aJZ4Kfg=s64",
      "userId": "02243307702777771097"
     },
     "user_tz": -180
    },
    "id": "UoTvsnWP0exD",
    "outputId": "d626f2cf-343c-4035-f574-b68a93b672d7"
   },
   "outputs": [
    {
     "name": "stderr",
     "output_type": "stream",
     "text": [
      "100%|██████████| 25000/25000 [33:46<00:00, 12.34it/s]\n"
     ]
    },
    {
     "data": {
      "text/plain": [
       "0.65248"
      ]
     },
     "execution_count": 55,
     "metadata": {},
     "output_type": "execute_result"
    }
   ],
   "source": [
    "predictions, target = predict_on_dataset(model, texts, labels, mapping)\n",
    "normalized_predictions = normalize_prediction(predictions)\n",
    "accuracy(normalized_predictions, target)"
   ]
  },
  {
   "cell_type": "markdown",
   "metadata": {
    "id": "9NZiUCu2xmu_"
   },
   "source": [
    "Все задание считается выполненным, если вы достигли accuracy 0.6 и выше на тестовом датасете. "
   ]
  },
  {
   "cell_type": "markdown",
   "metadata": {
    "id": "xybBRqOz0exE"
   },
   "source": [
    "Данный пример призван продемонстрировать, что большая языковая модель хоть и справляется с задачей без лишних данных, но делает это заметно хуже специально созданных для задачи моделей, к тому же работает непростительно долго."
   ]
  },
  {
   "cell_type": "markdown",
   "metadata": {
    "id": "_cFiadD10exE"
   },
   "source": [
    "### Резюме\n",
    "\n",
    "В этом задании мы применили большие языковые модели на практике и решили с её помощью 2 задачи:\n",
    "- conditional генерация текста\n",
    "- few-shot классификация текстов\n",
    "\n",
    "Мы увидели, что модель генерирует связный текст и может решать задачу классификации без изменений своих весов.\n",
    "\n",
    "Несмотря на возможности языковых моделей, их применение на практике всё ещё осложнено большими потребляемыми ресурсами, а также невозможностью интерпретировать предсказания."
   ]
  }
 ],
 "metadata": {
  "accelerator": "GPU",
  "colab": {
   "collapsed_sections": [
    "04SFZ3Wo0exC"
   ],
   "name": "HW3 - GPT2.ipynb",
   "provenance": []
  },
  "kernelspec": {
   "display_name": "Python 3",
   "language": "python",
   "name": "python3"
  },
  "language_info": {
   "codemirror_mode": {
    "name": "ipython",
    "version": 3
   },
   "file_extension": ".py",
   "mimetype": "text/x-python",
   "name": "python",
   "nbconvert_exporter": "python",
   "pygments_lexer": "ipython3",
   "version": "3.8.5"
  },
  "widgets": {
   "application/vnd.jupyter.widget-state+json": {
    "04749986e56942fcb0ea70023a282f72": {
     "model_module": "@jupyter-widgets/controls",
     "model_module_version": "1.5.0",
     "model_name": "FloatProgressModel",
     "state": {
      "_dom_classes": [],
      "_model_module": "@jupyter-widgets/controls",
      "_model_module_version": "1.5.0",
      "_model_name": "FloatProgressModel",
      "_view_count": null,
      "_view_module": "@jupyter-widgets/controls",
      "_view_module_version": "1.5.0",
      "_view_name": "ProgressView",
      "bar_style": "success",
      "description": "",
      "description_tooltip": null,
      "layout": "IPY_MODEL_c8ab89c6eefc4b0d852d36b1e3b96c3f",
      "max": 1042301,
      "min": 0,
      "orientation": "horizontal",
      "style": "IPY_MODEL_6d10846ce0f048b68fe001dc3ee289f4",
      "value": 1042301
     }
    },
    "04bc7641347c437faa0c6c083ec31ceb": {
     "model_module": "@jupyter-widgets/controls",
     "model_module_version": "1.5.0",
     "model_name": "HTMLModel",
     "state": {
      "_dom_classes": [],
      "_model_module": "@jupyter-widgets/controls",
      "_model_module_version": "1.5.0",
      "_model_name": "HTMLModel",
      "_view_count": null,
      "_view_module": "@jupyter-widgets/controls",
      "_view_module_version": "1.5.0",
      "_view_name": "HTMLView",
      "description": "",
      "description_tooltip": null,
      "layout": "IPY_MODEL_beed4bab61e24dc7bf281104820d975a",
      "placeholder": "​",
      "style": "IPY_MODEL_916b9bc3fccd410384f26b6bfa8aec51",
      "value": " 24142/0 [00:02&lt;00:00, 8548.51 examples/s]"
     }
    },
    "04ec2405fc4e42a0a5562098eba300ef": {
     "model_module": "@jupyter-widgets/base",
     "model_module_version": "1.2.0",
     "model_name": "LayoutModel",
     "state": {
      "_model_module": "@jupyter-widgets/base",
      "_model_module_version": "1.2.0",
      "_model_name": "LayoutModel",
      "_view_count": null,
      "_view_module": "@jupyter-widgets/base",
      "_view_module_version": "1.2.0",
      "_view_name": "LayoutView",
      "align_content": null,
      "align_items": null,
      "align_self": null,
      "border": null,
      "bottom": null,
      "display": null,
      "flex": null,
      "flex_flow": null,
      "grid_area": null,
      "grid_auto_columns": null,
      "grid_auto_flow": null,
      "grid_auto_rows": null,
      "grid_column": null,
      "grid_gap": null,
      "grid_row": null,
      "grid_template_areas": null,
      "grid_template_columns": null,
      "grid_template_rows": null,
      "height": null,
      "justify_content": null,
      "justify_items": null,
      "left": null,
      "margin": null,
      "max_height": null,
      "max_width": null,
      "min_height": null,
      "min_width": null,
      "object_fit": null,
      "object_position": null,
      "order": null,
      "overflow": null,
      "overflow_x": null,
      "overflow_y": null,
      "padding": null,
      "right": null,
      "top": null,
      "visibility": null,
      "width": null
     }
    },
    "06244a4050cc4eda96ab07f0c188c895": {
     "model_module": "@jupyter-widgets/controls",
     "model_module_version": "1.5.0",
     "model_name": "DescriptionStyleModel",
     "state": {
      "_model_module": "@jupyter-widgets/controls",
      "_model_module_version": "1.5.0",
      "_model_name": "DescriptionStyleModel",
      "_view_count": null,
      "_view_module": "@jupyter-widgets/base",
      "_view_module_version": "1.2.0",
      "_view_name": "StyleView",
      "description_width": ""
     }
    },
    "06a3320dcc114e6dbc08d25c05aca61b": {
     "model_module": "@jupyter-widgets/base",
     "model_module_version": "1.2.0",
     "model_name": "LayoutModel",
     "state": {
      "_model_module": "@jupyter-widgets/base",
      "_model_module_version": "1.2.0",
      "_model_name": "LayoutModel",
      "_view_count": null,
      "_view_module": "@jupyter-widgets/base",
      "_view_module_version": "1.2.0",
      "_view_name": "LayoutView",
      "align_content": null,
      "align_items": null,
      "align_self": null,
      "border": null,
      "bottom": null,
      "display": null,
      "flex": null,
      "flex_flow": null,
      "grid_area": null,
      "grid_auto_columns": null,
      "grid_auto_flow": null,
      "grid_auto_rows": null,
      "grid_column": null,
      "grid_gap": null,
      "grid_row": null,
      "grid_template_areas": null,
      "grid_template_columns": null,
      "grid_template_rows": null,
      "height": null,
      "justify_content": null,
      "justify_items": null,
      "left": null,
      "margin": null,
      "max_height": null,
      "max_width": null,
      "min_height": null,
      "min_width": null,
      "object_fit": null,
      "object_position": null,
      "order": null,
      "overflow": null,
      "overflow_x": null,
      "overflow_y": null,
      "padding": null,
      "right": null,
      "top": null,
      "visibility": null,
      "width": null
     }
    },
    "07766765bffe4e468e2cdc8c404fc219": {
     "model_module": "@jupyter-widgets/controls",
     "model_module_version": "1.5.0",
     "model_name": "FloatProgressModel",
     "state": {
      "_dom_classes": [],
      "_model_module": "@jupyter-widgets/controls",
      "_model_module_version": "1.5.0",
      "_model_name": "FloatProgressModel",
      "_view_count": null,
      "_view_module": "@jupyter-widgets/controls",
      "_view_module_version": "1.5.0",
      "_view_name": "ProgressView",
      "bar_style": "success",
      "description": "",
      "description_tooltip": null,
      "layout": "IPY_MODEL_d20be54f703a493eb0f2d4f273c71062",
      "max": 84125825,
      "min": 0,
      "orientation": "horizontal",
      "style": "IPY_MODEL_522e44376dda4ce28f2088ec1b8a68a0",
      "value": 84125825
     }
    },
    "07fd8374f0fa465fbdd0d15778654b06": {
     "model_module": "@jupyter-widgets/base",
     "model_module_version": "1.2.0",
     "model_name": "LayoutModel",
     "state": {
      "_model_module": "@jupyter-widgets/base",
      "_model_module_version": "1.2.0",
      "_model_name": "LayoutModel",
      "_view_count": null,
      "_view_module": "@jupyter-widgets/base",
      "_view_module_version": "1.2.0",
      "_view_name": "LayoutView",
      "align_content": null,
      "align_items": null,
      "align_self": null,
      "border": null,
      "bottom": null,
      "display": null,
      "flex": null,
      "flex_flow": null,
      "grid_area": null,
      "grid_auto_columns": null,
      "grid_auto_flow": null,
      "grid_auto_rows": null,
      "grid_column": null,
      "grid_gap": null,
      "grid_row": null,
      "grid_template_areas": null,
      "grid_template_columns": null,
      "grid_template_rows": null,
      "height": null,
      "justify_content": null,
      "justify_items": null,
      "left": null,
      "margin": null,
      "max_height": null,
      "max_width": null,
      "min_height": null,
      "min_width": null,
      "object_fit": null,
      "object_position": null,
      "order": null,
      "overflow": null,
      "overflow_x": null,
      "overflow_y": null,
      "padding": null,
      "right": null,
      "top": null,
      "visibility": null,
      "width": null
     }
    },
    "082ecfeed2b948719583eefd482b65a8": {
     "model_module": "@jupyter-widgets/controls",
     "model_module_version": "1.5.0",
     "model_name": "DescriptionStyleModel",
     "state": {
      "_model_module": "@jupyter-widgets/controls",
      "_model_module_version": "1.5.0",
      "_model_name": "DescriptionStyleModel",
      "_view_count": null,
      "_view_module": "@jupyter-widgets/base",
      "_view_module_version": "1.2.0",
      "_view_name": "StyleView",
      "description_width": ""
     }
    },
    "0950600d974643439b267ed06e3cf208": {
     "model_module": "@jupyter-widgets/controls",
     "model_module_version": "1.5.0",
     "model_name": "FloatProgressModel",
     "state": {
      "_dom_classes": [],
      "_model_module": "@jupyter-widgets/controls",
      "_model_module_version": "1.5.0",
      "_model_name": "FloatProgressModel",
      "_view_count": null,
      "_view_module": "@jupyter-widgets/controls",
      "_view_module_version": "1.5.0",
      "_view_name": "ProgressView",
      "bar_style": "success",
      "description": "",
      "description_tooltip": null,
      "layout": "IPY_MODEL_2d7dd793d5d142e18c771f60242283ea",
      "max": 3,
      "min": 0,
      "orientation": "horizontal",
      "style": "IPY_MODEL_6d98c2fedb114f668425b4357533459b",
      "value": 3
     }
    },
    "0ca45aee82784e78b2adfa43688c7af6": {
     "model_module": "@jupyter-widgets/controls",
     "model_module_version": "1.5.0",
     "model_name": "FloatProgressModel",
     "state": {
      "_dom_classes": [],
      "_model_module": "@jupyter-widgets/controls",
      "_model_module_version": "1.5.0",
      "_model_name": "FloatProgressModel",
      "_view_count": null,
      "_view_module": "@jupyter-widgets/controls",
      "_view_module_version": "1.5.0",
      "_view_name": "ProgressView",
      "bar_style": "info",
      "description": "",
      "description_tooltip": null,
      "layout": "IPY_MODEL_79cdd5a0344740d6a632588484e2ac71",
      "max": 1,
      "min": 0,
      "orientation": "horizontal",
      "style": "IPY_MODEL_7bef77d34c7947e8b220ba31c07e1ffb",
      "value": 1
     }
    },
    "10112f34e7b9408f9f6242a75696e84e": {
     "model_module": "@jupyter-widgets/controls",
     "model_module_version": "1.5.0",
     "model_name": "HBoxModel",
     "state": {
      "_dom_classes": [],
      "_model_module": "@jupyter-widgets/controls",
      "_model_module_version": "1.5.0",
      "_model_name": "HBoxModel",
      "_view_count": null,
      "_view_module": "@jupyter-widgets/controls",
      "_view_module_version": "1.5.0",
      "_view_name": "HBoxView",
      "box_style": "",
      "children": [
       "IPY_MODEL_1fa751a03d3446ee89b64bd289a921c3",
       "IPY_MODEL_a5e80efaf38242ccabc8b34376d54166",
       "IPY_MODEL_1bcf196cc18b4c7888aa8e48381d8443"
      ],
      "layout": "IPY_MODEL_5520cc7236aa471e9f73daa5b823c870"
     }
    },
    "140d2eba70104a488c4b3326e06db8e7": {
     "model_module": "@jupyter-widgets/controls",
     "model_module_version": "1.5.0",
     "model_name": "ProgressStyleModel",
     "state": {
      "_model_module": "@jupyter-widgets/controls",
      "_model_module_version": "1.5.0",
      "_model_name": "ProgressStyleModel",
      "_view_count": null,
      "_view_module": "@jupyter-widgets/base",
      "_view_module_version": "1.2.0",
      "_view_name": "StyleView",
      "bar_color": null,
      "description_width": ""
     }
    },
    "15a15f51bde8419d82adccbe018c77e0": {
     "model_module": "@jupyter-widgets/controls",
     "model_module_version": "1.5.0",
     "model_name": "ProgressStyleModel",
     "state": {
      "_model_module": "@jupyter-widgets/controls",
      "_model_module_version": "1.5.0",
      "_model_name": "ProgressStyleModel",
      "_view_count": null,
      "_view_module": "@jupyter-widgets/base",
      "_view_module_version": "1.2.0",
      "_view_name": "StyleView",
      "bar_color": null,
      "description_width": ""
     }
    },
    "1694bfbdbe184251b83f85612343bf15": {
     "model_module": "@jupyter-widgets/base",
     "model_module_version": "1.2.0",
     "model_name": "LayoutModel",
     "state": {
      "_model_module": "@jupyter-widgets/base",
      "_model_module_version": "1.2.0",
      "_model_name": "LayoutModel",
      "_view_count": null,
      "_view_module": "@jupyter-widgets/base",
      "_view_module_version": "1.2.0",
      "_view_name": "LayoutView",
      "align_content": null,
      "align_items": null,
      "align_self": null,
      "border": null,
      "bottom": null,
      "display": null,
      "flex": null,
      "flex_flow": null,
      "grid_area": null,
      "grid_auto_columns": null,
      "grid_auto_flow": null,
      "grid_auto_rows": null,
      "grid_column": null,
      "grid_gap": null,
      "grid_row": null,
      "grid_template_areas": null,
      "grid_template_columns": null,
      "grid_template_rows": null,
      "height": null,
      "justify_content": null,
      "justify_items": null,
      "left": null,
      "margin": null,
      "max_height": null,
      "max_width": null,
      "min_height": null,
      "min_width": null,
      "object_fit": null,
      "object_position": null,
      "order": null,
      "overflow": null,
      "overflow_x": null,
      "overflow_y": null,
      "padding": null,
      "right": null,
      "top": null,
      "visibility": null,
      "width": null
     }
    },
    "1bcf196cc18b4c7888aa8e48381d8443": {
     "model_module": "@jupyter-widgets/controls",
     "model_module_version": "1.5.0",
     "model_name": "HTMLModel",
     "state": {
      "_dom_classes": [],
      "_model_module": "@jupyter-widgets/controls",
      "_model_module_version": "1.5.0",
      "_model_name": "HTMLModel",
      "_view_count": null,
      "_view_module": "@jupyter-widgets/controls",
      "_view_module_version": "1.5.0",
      "_view_name": "HTMLView",
      "description": "",
      "description_tooltip": null,
      "layout": "IPY_MODEL_d57eb631576e40aab36f7342328b8ec1",
      "placeholder": "​",
      "style": "IPY_MODEL_81bb74aff583440ab15ff42d2ea45185",
      "value": " 2.17k/? [00:00&lt;00:00, 29.4kB/s]"
     }
    },
    "1ca318a8876c4a0f997b5efcb68fd64b": {
     "model_module": "@jupyter-widgets/base",
     "model_module_version": "1.2.0",
     "model_name": "LayoutModel",
     "state": {
      "_model_module": "@jupyter-widgets/base",
      "_model_module_version": "1.2.0",
      "_model_name": "LayoutModel",
      "_view_count": null,
      "_view_module": "@jupyter-widgets/base",
      "_view_module_version": "1.2.0",
      "_view_name": "LayoutView",
      "align_content": null,
      "align_items": null,
      "align_self": null,
      "border": null,
      "bottom": null,
      "display": null,
      "flex": null,
      "flex_flow": null,
      "grid_area": null,
      "grid_auto_columns": null,
      "grid_auto_flow": null,
      "grid_auto_rows": null,
      "grid_column": null,
      "grid_gap": null,
      "grid_row": null,
      "grid_template_areas": null,
      "grid_template_columns": null,
      "grid_template_rows": null,
      "height": null,
      "justify_content": null,
      "justify_items": null,
      "left": null,
      "margin": null,
      "max_height": null,
      "max_width": null,
      "min_height": null,
      "min_width": null,
      "object_fit": null,
      "object_position": null,
      "order": null,
      "overflow": null,
      "overflow_x": null,
      "overflow_y": null,
      "padding": null,
      "right": null,
      "top": null,
      "visibility": null,
      "width": null
     }
    },
    "1ee5e89b3e1849beaaef5cc865041991": {
     "model_module": "@jupyter-widgets/controls",
     "model_module_version": "1.5.0",
     "model_name": "FloatProgressModel",
     "state": {
      "_dom_classes": [],
      "_model_module": "@jupyter-widgets/controls",
      "_model_module_version": "1.5.0",
      "_model_name": "FloatProgressModel",
      "_view_count": null,
      "_view_module": "@jupyter-widgets/controls",
      "_view_module_version": "1.5.0",
      "_view_name": "ProgressView",
      "bar_style": "success",
      "description": "",
      "description_tooltip": null,
      "layout": "IPY_MODEL_b9f67287d4f745b09c5a7a5d2d1bfe60",
      "max": 1916,
      "min": 0,
      "orientation": "horizontal",
      "style": "IPY_MODEL_99a40500233544768bade9ae8f8aba5a",
      "value": 1916
     }
    },
    "1fa751a03d3446ee89b64bd289a921c3": {
     "model_module": "@jupyter-widgets/controls",
     "model_module_version": "1.5.0",
     "model_name": "HTMLModel",
     "state": {
      "_dom_classes": [],
      "_model_module": "@jupyter-widgets/controls",
      "_model_module_version": "1.5.0",
      "_model_name": "HTMLModel",
      "_view_count": null,
      "_view_module": "@jupyter-widgets/controls",
      "_view_module_version": "1.5.0",
      "_view_name": "HTMLView",
      "description": "",
      "description_tooltip": null,
      "layout": "IPY_MODEL_35e9cfe97ef54803a846bfb2b6e1ab69",
      "placeholder": "​",
      "style": "IPY_MODEL_658e88c9c63a47cf800eb90ebdfaac83",
      "value": "Downloading: "
     }
    },
    "24168793d59443be81c2d9799510fc84": {
     "model_module": "@jupyter-widgets/controls",
     "model_module_version": "1.5.0",
     "model_name": "HTMLModel",
     "state": {
      "_dom_classes": [],
      "_model_module": "@jupyter-widgets/controls",
      "_model_module_version": "1.5.0",
      "_model_name": "HTMLModel",
      "_view_count": null,
      "_view_module": "@jupyter-widgets/controls",
      "_view_module_version": "1.5.0",
      "_view_name": "HTMLView",
      "description": "",
      "description_tooltip": null,
      "layout": "IPY_MODEL_e5cee7ae3612423bb2efc67faf74d792",
      "placeholder": "​",
      "style": "IPY_MODEL_de34ba5b2395431787c996c3d71c903e",
      "value": "Downloading: 100%"
     }
    },
    "25ba25a888b94199bd78ace424eb4cce": {
     "model_module": "@jupyter-widgets/base",
     "model_module_version": "1.2.0",
     "model_name": "LayoutModel",
     "state": {
      "_model_module": "@jupyter-widgets/base",
      "_model_module_version": "1.2.0",
      "_model_name": "LayoutModel",
      "_view_count": null,
      "_view_module": "@jupyter-widgets/base",
      "_view_module_version": "1.2.0",
      "_view_name": "LayoutView",
      "align_content": null,
      "align_items": null,
      "align_self": null,
      "border": null,
      "bottom": null,
      "display": null,
      "flex": null,
      "flex_flow": null,
      "grid_area": null,
      "grid_auto_columns": null,
      "grid_auto_flow": null,
      "grid_auto_rows": null,
      "grid_column": null,
      "grid_gap": null,
      "grid_row": null,
      "grid_template_areas": null,
      "grid_template_columns": null,
      "grid_template_rows": null,
      "height": null,
      "justify_content": null,
      "justify_items": null,
      "left": null,
      "margin": null,
      "max_height": null,
      "max_width": null,
      "min_height": null,
      "min_width": null,
      "object_fit": null,
      "object_position": null,
      "order": null,
      "overflow": null,
      "overflow_x": null,
      "overflow_y": null,
      "padding": null,
      "right": null,
      "top": null,
      "visibility": null,
      "width": null
     }
    },
    "2a4c046dfe8a4412991405666be0bc17": {
     "model_module": "@jupyter-widgets/controls",
     "model_module_version": "1.5.0",
     "model_name": "HBoxModel",
     "state": {
      "_dom_classes": [],
      "_model_module": "@jupyter-widgets/controls",
      "_model_module_version": "1.5.0",
      "_model_name": "HBoxModel",
      "_view_count": null,
      "_view_module": "@jupyter-widgets/controls",
      "_view_module_version": "1.5.0",
      "_view_name": "HBoxView",
      "box_style": "",
      "children": [
       "IPY_MODEL_24168793d59443be81c2d9799510fc84",
       "IPY_MODEL_750491ed0657461f8c0ac728f2bc9f43",
       "IPY_MODEL_649f1d8fd4e84c4c8fab855f9d8edcd5"
      ],
      "layout": "IPY_MODEL_e98b1d3e7267494295b7d1d619907d9f"
     }
    },
    "2c740b038177466dadacd97a57181d97": {
     "model_module": "@jupyter-widgets/controls",
     "model_module_version": "1.5.0",
     "model_name": "HBoxModel",
     "state": {
      "_dom_classes": [],
      "_model_module": "@jupyter-widgets/controls",
      "_model_module_version": "1.5.0",
      "_model_name": "HBoxModel",
      "_view_count": null,
      "_view_module": "@jupyter-widgets/controls",
      "_view_module_version": "1.5.0",
      "_view_name": "HBoxView",
      "box_style": "",
      "children": [
       "IPY_MODEL_f5dd9b1381b84bd2a52300601324cbdd",
       "IPY_MODEL_0ca45aee82784e78b2adfa43688c7af6",
       "IPY_MODEL_9868bc78d10c4d29b6820863ea71f631"
      ],
      "layout": "IPY_MODEL_1ca318a8876c4a0f997b5efcb68fd64b"
     }
    },
    "2d7dd793d5d142e18c771f60242283ea": {
     "model_module": "@jupyter-widgets/base",
     "model_module_version": "1.2.0",
     "model_name": "LayoutModel",
     "state": {
      "_model_module": "@jupyter-widgets/base",
      "_model_module_version": "1.2.0",
      "_model_name": "LayoutModel",
      "_view_count": null,
      "_view_module": "@jupyter-widgets/base",
      "_view_module_version": "1.2.0",
      "_view_name": "LayoutView",
      "align_content": null,
      "align_items": null,
      "align_self": null,
      "border": null,
      "bottom": null,
      "display": null,
      "flex": null,
      "flex_flow": null,
      "grid_area": null,
      "grid_auto_columns": null,
      "grid_auto_flow": null,
      "grid_auto_rows": null,
      "grid_column": null,
      "grid_gap": null,
      "grid_row": null,
      "grid_template_areas": null,
      "grid_template_columns": null,
      "grid_template_rows": null,
      "height": null,
      "justify_content": null,
      "justify_items": null,
      "left": null,
      "margin": null,
      "max_height": null,
      "max_width": null,
      "min_height": null,
      "min_width": null,
      "object_fit": null,
      "object_position": null,
      "order": null,
      "overflow": null,
      "overflow_x": null,
      "overflow_y": null,
      "padding": null,
      "right": null,
      "top": null,
      "visibility": null,
      "width": null
     }
    },
    "31debfcc5b8e488188fdf13cb30d5854": {
     "model_module": "@jupyter-widgets/controls",
     "model_module_version": "1.5.0",
     "model_name": "HTMLModel",
     "state": {
      "_dom_classes": [],
      "_model_module": "@jupyter-widgets/controls",
      "_model_module_version": "1.5.0",
      "_model_name": "HTMLModel",
      "_view_count": null,
      "_view_module": "@jupyter-widgets/controls",
      "_view_module_version": "1.5.0",
      "_view_name": "HTMLView",
      "description": "",
      "description_tooltip": null,
      "layout": "IPY_MODEL_4ea78f8133e14854be2d2947eb41a74c",
      "placeholder": "​",
      "style": "IPY_MODEL_347dbfee833a4b00847a36ac5633f2a2",
      "value": ""
     }
    },
    "321360e00fa74871851964f5f3579475": {
     "model_module": "@jupyter-widgets/controls",
     "model_module_version": "1.5.0",
     "model_name": "DescriptionStyleModel",
     "state": {
      "_model_module": "@jupyter-widgets/controls",
      "_model_module_version": "1.5.0",
      "_model_name": "DescriptionStyleModel",
      "_view_count": null,
      "_view_module": "@jupyter-widgets/base",
      "_view_module_version": "1.2.0",
      "_view_name": "StyleView",
      "description_width": ""
     }
    },
    "347dbfee833a4b00847a36ac5633f2a2": {
     "model_module": "@jupyter-widgets/controls",
     "model_module_version": "1.5.0",
     "model_name": "DescriptionStyleModel",
     "state": {
      "_model_module": "@jupyter-widgets/controls",
      "_model_module_version": "1.5.0",
      "_model_name": "DescriptionStyleModel",
      "_view_count": null,
      "_view_module": "@jupyter-widgets/base",
      "_view_module_version": "1.2.0",
      "_view_name": "StyleView",
      "description_width": ""
     }
    },
    "35e9cfe97ef54803a846bfb2b6e1ab69": {
     "model_module": "@jupyter-widgets/base",
     "model_module_version": "1.2.0",
     "model_name": "LayoutModel",
     "state": {
      "_model_module": "@jupyter-widgets/base",
      "_model_module_version": "1.2.0",
      "_model_name": "LayoutModel",
      "_view_count": null,
      "_view_module": "@jupyter-widgets/base",
      "_view_module_version": "1.2.0",
      "_view_name": "LayoutView",
      "align_content": null,
      "align_items": null,
      "align_self": null,
      "border": null,
      "bottom": null,
      "display": null,
      "flex": null,
      "flex_flow": null,
      "grid_area": null,
      "grid_auto_columns": null,
      "grid_auto_flow": null,
      "grid_auto_rows": null,
      "grid_column": null,
      "grid_gap": null,
      "grid_row": null,
      "grid_template_areas": null,
      "grid_template_columns": null,
      "grid_template_rows": null,
      "height": null,
      "justify_content": null,
      "justify_items": null,
      "left": null,
      "margin": null,
      "max_height": null,
      "max_width": null,
      "min_height": null,
      "min_width": null,
      "object_fit": null,
      "object_position": null,
      "order": null,
      "overflow": null,
      "overflow_x": null,
      "overflow_y": null,
      "padding": null,
      "right": null,
      "top": null,
      "visibility": null,
      "width": null
     }
    },
    "35f035d20a324259ad980c195a02d525": {
     "model_module": "@jupyter-widgets/controls",
     "model_module_version": "1.5.0",
     "model_name": "HTMLModel",
     "state": {
      "_dom_classes": [],
      "_model_module": "@jupyter-widgets/controls",
      "_model_module_version": "1.5.0",
      "_model_name": "HTMLModel",
      "_view_count": null,
      "_view_module": "@jupyter-widgets/controls",
      "_view_module_version": "1.5.0",
      "_view_name": "HTMLView",
      "description": "",
      "description_tooltip": null,
      "layout": "IPY_MODEL_ef17ae05ac794817886999c0bf8f25d7",
      "placeholder": "​",
      "style": "IPY_MODEL_06244a4050cc4eda96ab07f0c188c895",
      "value": "Downloading: 100%"
     }
    },
    "3646a6e925cb446b83f43f8e0c2011b6": {
     "model_module": "@jupyter-widgets/controls",
     "model_module_version": "1.5.0",
     "model_name": "HTMLModel",
     "state": {
      "_dom_classes": [],
      "_model_module": "@jupyter-widgets/controls",
      "_model_module_version": "1.5.0",
      "_model_name": "HTMLModel",
      "_view_count": null,
      "_view_module": "@jupyter-widgets/controls",
      "_view_module_version": "1.5.0",
      "_view_name": "HTMLView",
      "description": "",
      "description_tooltip": null,
      "layout": "IPY_MODEL_07fd8374f0fa465fbdd0d15778654b06",
      "placeholder": "​",
      "style": "IPY_MODEL_e286acbe35b442148d432b6e1a0326fb",
      "value": " 3/3 [00:00&lt;00:00, 38.63it/s]"
     }
    },
    "372e32c2a40b4068b2c34b31eaace327": {
     "model_module": "@jupyter-widgets/base",
     "model_module_version": "1.2.0",
     "model_name": "LayoutModel",
     "state": {
      "_model_module": "@jupyter-widgets/base",
      "_model_module_version": "1.2.0",
      "_model_name": "LayoutModel",
      "_view_count": null,
      "_view_module": "@jupyter-widgets/base",
      "_view_module_version": "1.2.0",
      "_view_name": "LayoutView",
      "align_content": null,
      "align_items": null,
      "align_self": null,
      "border": null,
      "bottom": null,
      "display": null,
      "flex": null,
      "flex_flow": null,
      "grid_area": null,
      "grid_auto_columns": null,
      "grid_auto_flow": null,
      "grid_auto_rows": null,
      "grid_column": null,
      "grid_gap": null,
      "grid_row": null,
      "grid_template_areas": null,
      "grid_template_columns": null,
      "grid_template_rows": null,
      "height": null,
      "justify_content": null,
      "justify_items": null,
      "left": null,
      "margin": null,
      "max_height": null,
      "max_width": null,
      "min_height": null,
      "min_width": null,
      "object_fit": null,
      "object_position": null,
      "order": null,
      "overflow": null,
      "overflow_x": null,
      "overflow_y": null,
      "padding": null,
      "right": null,
      "top": null,
      "visibility": null,
      "width": null
     }
    },
    "485a75b5943746dfae252fad0420778e": {
     "model_module": "@jupyter-widgets/controls",
     "model_module_version": "1.5.0",
     "model_name": "HTMLModel",
     "state": {
      "_dom_classes": [],
      "_model_module": "@jupyter-widgets/controls",
      "_model_module_version": "1.5.0",
      "_model_name": "HTMLModel",
      "_view_count": null,
      "_view_module": "@jupyter-widgets/controls",
      "_view_module_version": "1.5.0",
      "_view_name": "HTMLView",
      "description": "",
      "description_tooltip": null,
      "layout": "IPY_MODEL_b9e3c8fc647a4fbd9303825f4498274a",
      "placeholder": "​",
      "style": "IPY_MODEL_8d52b22d0f6b44a083c1bc646dcdabc6",
      "value": "Downloading: "
     }
    },
    "4d09e8a1d0c7409e8600b51ea9416b7c": {
     "model_module": "@jupyter-widgets/controls",
     "model_module_version": "1.5.0",
     "model_name": "HTMLModel",
     "state": {
      "_dom_classes": [],
      "_model_module": "@jupyter-widgets/controls",
      "_model_module_version": "1.5.0",
      "_model_name": "HTMLModel",
      "_view_count": null,
      "_view_module": "@jupyter-widgets/controls",
      "_view_module_version": "1.5.0",
      "_view_name": "HTMLView",
      "description": "",
      "description_tooltip": null,
      "layout": "IPY_MODEL_542c74f7746f4891ab2c1ccffd56b369",
      "placeholder": "​",
      "style": "IPY_MODEL_75954b42503749d0811903458c639d5d",
      "value": " 456k/456k [00:00&lt;00:00, 1.85MB/s]"
     }
    },
    "4e4235e5dd894457b06336d918b8a8b5": {
     "model_module": "@jupyter-widgets/base",
     "model_module_version": "1.2.0",
     "model_name": "LayoutModel",
     "state": {
      "_model_module": "@jupyter-widgets/base",
      "_model_module_version": "1.2.0",
      "_model_name": "LayoutModel",
      "_view_count": null,
      "_view_module": "@jupyter-widgets/base",
      "_view_module_version": "1.2.0",
      "_view_name": "LayoutView",
      "align_content": null,
      "align_items": null,
      "align_self": null,
      "border": null,
      "bottom": null,
      "display": null,
      "flex": null,
      "flex_flow": null,
      "grid_area": null,
      "grid_auto_columns": null,
      "grid_auto_flow": null,
      "grid_auto_rows": null,
      "grid_column": null,
      "grid_gap": null,
      "grid_row": null,
      "grid_template_areas": null,
      "grid_template_columns": null,
      "grid_template_rows": null,
      "height": null,
      "justify_content": null,
      "justify_items": null,
      "left": null,
      "margin": null,
      "max_height": null,
      "max_width": null,
      "min_height": null,
      "min_width": null,
      "object_fit": null,
      "object_position": null,
      "order": null,
      "overflow": null,
      "overflow_x": null,
      "overflow_y": null,
      "padding": null,
      "right": null,
      "top": null,
      "visibility": null,
      "width": null
     }
    },
    "4e6b9969e83b46019597184eb042e009": {
     "model_module": "@jupyter-widgets/base",
     "model_module_version": "1.2.0",
     "model_name": "LayoutModel",
     "state": {
      "_model_module": "@jupyter-widgets/base",
      "_model_module_version": "1.2.0",
      "_model_name": "LayoutModel",
      "_view_count": null,
      "_view_module": "@jupyter-widgets/base",
      "_view_module_version": "1.2.0",
      "_view_name": "LayoutView",
      "align_content": null,
      "align_items": null,
      "align_self": null,
      "border": null,
      "bottom": null,
      "display": null,
      "flex": null,
      "flex_flow": null,
      "grid_area": null,
      "grid_auto_columns": null,
      "grid_auto_flow": null,
      "grid_auto_rows": null,
      "grid_column": null,
      "grid_gap": null,
      "grid_row": null,
      "grid_template_areas": null,
      "grid_template_columns": null,
      "grid_template_rows": null,
      "height": null,
      "justify_content": null,
      "justify_items": null,
      "left": null,
      "margin": null,
      "max_height": null,
      "max_width": null,
      "min_height": null,
      "min_width": null,
      "object_fit": null,
      "object_position": null,
      "order": null,
      "overflow": null,
      "overflow_x": null,
      "overflow_y": null,
      "padding": null,
      "right": null,
      "top": null,
      "visibility": null,
      "width": null
     }
    },
    "4ea78f8133e14854be2d2947eb41a74c": {
     "model_module": "@jupyter-widgets/base",
     "model_module_version": "1.2.0",
     "model_name": "LayoutModel",
     "state": {
      "_model_module": "@jupyter-widgets/base",
      "_model_module_version": "1.2.0",
      "_model_name": "LayoutModel",
      "_view_count": null,
      "_view_module": "@jupyter-widgets/base",
      "_view_module_version": "1.2.0",
      "_view_name": "LayoutView",
      "align_content": null,
      "align_items": null,
      "align_self": null,
      "border": null,
      "bottom": null,
      "display": null,
      "flex": null,
      "flex_flow": null,
      "grid_area": null,
      "grid_auto_columns": null,
      "grid_auto_flow": null,
      "grid_auto_rows": null,
      "grid_column": null,
      "grid_gap": null,
      "grid_row": null,
      "grid_template_areas": null,
      "grid_template_columns": null,
      "grid_template_rows": null,
      "height": null,
      "justify_content": null,
      "justify_items": null,
      "left": null,
      "margin": null,
      "max_height": null,
      "max_width": null,
      "min_height": null,
      "min_width": null,
      "object_fit": null,
      "object_position": null,
      "order": null,
      "overflow": null,
      "overflow_x": null,
      "overflow_y": null,
      "padding": null,
      "right": null,
      "top": null,
      "visibility": null,
      "width": null
     }
    },
    "504c6f1c2dcd43d186a48e146682c286": {
     "model_module": "@jupyter-widgets/controls",
     "model_module_version": "1.5.0",
     "model_name": "DescriptionStyleModel",
     "state": {
      "_model_module": "@jupyter-widgets/controls",
      "_model_module_version": "1.5.0",
      "_model_name": "DescriptionStyleModel",
      "_view_count": null,
      "_view_module": "@jupyter-widgets/base",
      "_view_module_version": "1.2.0",
      "_view_name": "StyleView",
      "description_width": ""
     }
    },
    "522e44376dda4ce28f2088ec1b8a68a0": {
     "model_module": "@jupyter-widgets/controls",
     "model_module_version": "1.5.0",
     "model_name": "ProgressStyleModel",
     "state": {
      "_model_module": "@jupyter-widgets/controls",
      "_model_module_version": "1.5.0",
      "_model_name": "ProgressStyleModel",
      "_view_count": null,
      "_view_module": "@jupyter-widgets/base",
      "_view_module_version": "1.2.0",
      "_view_name": "StyleView",
      "bar_color": null,
      "description_width": ""
     }
    },
    "542c74f7746f4891ab2c1ccffd56b369": {
     "model_module": "@jupyter-widgets/base",
     "model_module_version": "1.2.0",
     "model_name": "LayoutModel",
     "state": {
      "_model_module": "@jupyter-widgets/base",
      "_model_module_version": "1.2.0",
      "_model_name": "LayoutModel",
      "_view_count": null,
      "_view_module": "@jupyter-widgets/base",
      "_view_module_version": "1.2.0",
      "_view_name": "LayoutView",
      "align_content": null,
      "align_items": null,
      "align_self": null,
      "border": null,
      "bottom": null,
      "display": null,
      "flex": null,
      "flex_flow": null,
      "grid_area": null,
      "grid_auto_columns": null,
      "grid_auto_flow": null,
      "grid_auto_rows": null,
      "grid_column": null,
      "grid_gap": null,
      "grid_row": null,
      "grid_template_areas": null,
      "grid_template_columns": null,
      "grid_template_rows": null,
      "height": null,
      "justify_content": null,
      "justify_items": null,
      "left": null,
      "margin": null,
      "max_height": null,
      "max_width": null,
      "min_height": null,
      "min_width": null,
      "object_fit": null,
      "object_position": null,
      "order": null,
      "overflow": null,
      "overflow_x": null,
      "overflow_y": null,
      "padding": null,
      "right": null,
      "top": null,
      "visibility": null,
      "width": null
     }
    },
    "550cf13eba914286a238b3f6181ac53d": {
     "model_module": "@jupyter-widgets/base",
     "model_module_version": "1.2.0",
     "model_name": "LayoutModel",
     "state": {
      "_model_module": "@jupyter-widgets/base",
      "_model_module_version": "1.2.0",
      "_model_name": "LayoutModel",
      "_view_count": null,
      "_view_module": "@jupyter-widgets/base",
      "_view_module_version": "1.2.0",
      "_view_name": "LayoutView",
      "align_content": null,
      "align_items": null,
      "align_self": null,
      "border": null,
      "bottom": null,
      "display": null,
      "flex": null,
      "flex_flow": null,
      "grid_area": null,
      "grid_auto_columns": null,
      "grid_auto_flow": null,
      "grid_auto_rows": null,
      "grid_column": null,
      "grid_gap": null,
      "grid_row": null,
      "grid_template_areas": null,
      "grid_template_columns": null,
      "grid_template_rows": null,
      "height": null,
      "justify_content": null,
      "justify_items": null,
      "left": null,
      "margin": null,
      "max_height": null,
      "max_width": null,
      "min_height": null,
      "min_width": null,
      "object_fit": null,
      "object_position": null,
      "order": null,
      "overflow": null,
      "overflow_x": null,
      "overflow_y": null,
      "padding": null,
      "right": null,
      "top": null,
      "visibility": null,
      "width": null
     }
    },
    "5520cc7236aa471e9f73daa5b823c870": {
     "model_module": "@jupyter-widgets/base",
     "model_module_version": "1.2.0",
     "model_name": "LayoutModel",
     "state": {
      "_model_module": "@jupyter-widgets/base",
      "_model_module_version": "1.2.0",
      "_model_name": "LayoutModel",
      "_view_count": null,
      "_view_module": "@jupyter-widgets/base",
      "_view_module_version": "1.2.0",
      "_view_name": "LayoutView",
      "align_content": null,
      "align_items": null,
      "align_self": null,
      "border": null,
      "bottom": null,
      "display": null,
      "flex": null,
      "flex_flow": null,
      "grid_area": null,
      "grid_auto_columns": null,
      "grid_auto_flow": null,
      "grid_auto_rows": null,
      "grid_column": null,
      "grid_gap": null,
      "grid_row": null,
      "grid_template_areas": null,
      "grid_template_columns": null,
      "grid_template_rows": null,
      "height": null,
      "justify_content": null,
      "justify_items": null,
      "left": null,
      "margin": null,
      "max_height": null,
      "max_width": null,
      "min_height": null,
      "min_width": null,
      "object_fit": null,
      "object_position": null,
      "order": null,
      "overflow": null,
      "overflow_x": null,
      "overflow_y": null,
      "padding": null,
      "right": null,
      "top": null,
      "visibility": null,
      "width": null
     }
    },
    "5a71015040d24efca05660a1b22ba437": {
     "model_module": "@jupyter-widgets/base",
     "model_module_version": "1.2.0",
     "model_name": "LayoutModel",
     "state": {
      "_model_module": "@jupyter-widgets/base",
      "_model_module_version": "1.2.0",
      "_model_name": "LayoutModel",
      "_view_count": null,
      "_view_module": "@jupyter-widgets/base",
      "_view_module_version": "1.2.0",
      "_view_name": "LayoutView",
      "align_content": null,
      "align_items": null,
      "align_self": null,
      "border": null,
      "bottom": null,
      "display": null,
      "flex": null,
      "flex_flow": null,
      "grid_area": null,
      "grid_auto_columns": null,
      "grid_auto_flow": null,
      "grid_auto_rows": null,
      "grid_column": null,
      "grid_gap": null,
      "grid_row": null,
      "grid_template_areas": null,
      "grid_template_columns": null,
      "grid_template_rows": null,
      "height": null,
      "justify_content": null,
      "justify_items": null,
      "left": null,
      "margin": null,
      "max_height": null,
      "max_width": null,
      "min_height": null,
      "min_width": null,
      "object_fit": null,
      "object_position": null,
      "order": null,
      "overflow": null,
      "overflow_x": null,
      "overflow_y": null,
      "padding": null,
      "right": null,
      "top": null,
      "visibility": null,
      "width": null
     }
    },
    "5c0811eee5b446169fe8c0ea406ddb2c": {
     "model_module": "@jupyter-widgets/base",
     "model_module_version": "1.2.0",
     "model_name": "LayoutModel",
     "state": {
      "_model_module": "@jupyter-widgets/base",
      "_model_module_version": "1.2.0",
      "_model_name": "LayoutModel",
      "_view_count": null,
      "_view_module": "@jupyter-widgets/base",
      "_view_module_version": "1.2.0",
      "_view_name": "LayoutView",
      "align_content": null,
      "align_items": null,
      "align_self": null,
      "border": null,
      "bottom": null,
      "display": null,
      "flex": null,
      "flex_flow": null,
      "grid_area": null,
      "grid_auto_columns": null,
      "grid_auto_flow": null,
      "grid_auto_rows": null,
      "grid_column": null,
      "grid_gap": null,
      "grid_row": null,
      "grid_template_areas": null,
      "grid_template_columns": null,
      "grid_template_rows": null,
      "height": null,
      "justify_content": null,
      "justify_items": null,
      "left": null,
      "margin": null,
      "max_height": null,
      "max_width": null,
      "min_height": null,
      "min_width": null,
      "object_fit": null,
      "object_position": null,
      "order": null,
      "overflow": null,
      "overflow_x": null,
      "overflow_y": null,
      "padding": null,
      "right": null,
      "top": null,
      "visibility": null,
      "width": null
     }
    },
    "5ef91a27881e43cdb0caf41ed161a705": {
     "model_module": "@jupyter-widgets/base",
     "model_module_version": "1.2.0",
     "model_name": "LayoutModel",
     "state": {
      "_model_module": "@jupyter-widgets/base",
      "_model_module_version": "1.2.0",
      "_model_name": "LayoutModel",
      "_view_count": null,
      "_view_module": "@jupyter-widgets/base",
      "_view_module_version": "1.2.0",
      "_view_name": "LayoutView",
      "align_content": null,
      "align_items": null,
      "align_self": null,
      "border": null,
      "bottom": null,
      "display": null,
      "flex": null,
      "flex_flow": null,
      "grid_area": null,
      "grid_auto_columns": null,
      "grid_auto_flow": null,
      "grid_auto_rows": null,
      "grid_column": null,
      "grid_gap": null,
      "grid_row": null,
      "grid_template_areas": null,
      "grid_template_columns": null,
      "grid_template_rows": null,
      "height": null,
      "justify_content": null,
      "justify_items": null,
      "left": null,
      "margin": null,
      "max_height": null,
      "max_width": null,
      "min_height": null,
      "min_width": null,
      "object_fit": null,
      "object_position": null,
      "order": null,
      "overflow": null,
      "overflow_x": null,
      "overflow_y": null,
      "padding": null,
      "right": null,
      "top": null,
      "visibility": null,
      "width": null
     }
    },
    "60afdf9457a54feb8b7eb3eced416b95": {
     "model_module": "@jupyter-widgets/base",
     "model_module_version": "1.2.0",
     "model_name": "LayoutModel",
     "state": {
      "_model_module": "@jupyter-widgets/base",
      "_model_module_version": "1.2.0",
      "_model_name": "LayoutModel",
      "_view_count": null,
      "_view_module": "@jupyter-widgets/base",
      "_view_module_version": "1.2.0",
      "_view_name": "LayoutView",
      "align_content": null,
      "align_items": null,
      "align_self": null,
      "border": null,
      "bottom": null,
      "display": null,
      "flex": null,
      "flex_flow": null,
      "grid_area": null,
      "grid_auto_columns": null,
      "grid_auto_flow": null,
      "grid_auto_rows": null,
      "grid_column": null,
      "grid_gap": null,
      "grid_row": null,
      "grid_template_areas": null,
      "grid_template_columns": null,
      "grid_template_rows": null,
      "height": null,
      "justify_content": null,
      "justify_items": null,
      "left": null,
      "margin": null,
      "max_height": null,
      "max_width": null,
      "min_height": null,
      "min_width": null,
      "object_fit": null,
      "object_position": null,
      "order": null,
      "overflow": null,
      "overflow_x": null,
      "overflow_y": null,
      "padding": null,
      "right": null,
      "top": null,
      "visibility": null,
      "width": null
     }
    },
    "621b99fcd835450ba24dd57c4c9a4ec2": {
     "model_module": "@jupyter-widgets/controls",
     "model_module_version": "1.5.0",
     "model_name": "DescriptionStyleModel",
     "state": {
      "_model_module": "@jupyter-widgets/controls",
      "_model_module_version": "1.5.0",
      "_model_name": "DescriptionStyleModel",
      "_view_count": null,
      "_view_module": "@jupyter-widgets/base",
      "_view_module_version": "1.2.0",
      "_view_name": "StyleView",
      "description_width": ""
     }
    },
    "6478bda0ea584640a60f65e89bb37ebe": {
     "model_module": "@jupyter-widgets/controls",
     "model_module_version": "1.5.0",
     "model_name": "HBoxModel",
     "state": {
      "_dom_classes": [],
      "_model_module": "@jupyter-widgets/controls",
      "_model_module_version": "1.5.0",
      "_model_name": "HBoxModel",
      "_view_count": null,
      "_view_module": "@jupyter-widgets/controls",
      "_view_module_version": "1.5.0",
      "_view_name": "HBoxView",
      "box_style": "",
      "children": [
       "IPY_MODEL_d8957da96f324c0690d8dfce27b35dea",
       "IPY_MODEL_8a077b8653be4eca91a709b522c343a9",
       "IPY_MODEL_04bc7641347c437faa0c6c083ec31ceb"
      ],
      "layout": "IPY_MODEL_f16ed3da27374d9391243bdc5234ef71"
     }
    },
    "649f1d8fd4e84c4c8fab855f9d8edcd5": {
     "model_module": "@jupyter-widgets/controls",
     "model_module_version": "1.5.0",
     "model_name": "HTMLModel",
     "state": {
      "_dom_classes": [],
      "_model_module": "@jupyter-widgets/controls",
      "_model_module_version": "1.5.0",
      "_model_name": "HTMLModel",
      "_view_count": null,
      "_view_module": "@jupyter-widgets/controls",
      "_view_module_version": "1.5.0",
      "_view_name": "HTMLView",
      "description": "",
      "description_tooltip": null,
      "layout": "IPY_MODEL_372e32c2a40b4068b2c34b31eaace327",
      "placeholder": "​",
      "style": "IPY_MODEL_082ecfeed2b948719583eefd482b65a8",
      "value": " 1.52G/1.52G [00:50&lt;00:00, 30.3MB/s]"
     }
    },
    "658e88c9c63a47cf800eb90ebdfaac83": {
     "model_module": "@jupyter-widgets/controls",
     "model_module_version": "1.5.0",
     "model_name": "DescriptionStyleModel",
     "state": {
      "_model_module": "@jupyter-widgets/controls",
      "_model_module_version": "1.5.0",
      "_model_name": "DescriptionStyleModel",
      "_view_count": null,
      "_view_module": "@jupyter-widgets/base",
      "_view_module_version": "1.2.0",
      "_view_name": "StyleView",
      "description_width": ""
     }
    },
    "664cd67e397b49d2b9e7dc0aebe261b7": {
     "model_module": "@jupyter-widgets/base",
     "model_module_version": "1.2.0",
     "model_name": "LayoutModel",
     "state": {
      "_model_module": "@jupyter-widgets/base",
      "_model_module_version": "1.2.0",
      "_model_name": "LayoutModel",
      "_view_count": null,
      "_view_module": "@jupyter-widgets/base",
      "_view_module_version": "1.2.0",
      "_view_name": "LayoutView",
      "align_content": null,
      "align_items": null,
      "align_self": null,
      "border": null,
      "bottom": null,
      "display": null,
      "flex": null,
      "flex_flow": null,
      "grid_area": null,
      "grid_auto_columns": null,
      "grid_auto_flow": null,
      "grid_auto_rows": null,
      "grid_column": null,
      "grid_gap": null,
      "grid_row": null,
      "grid_template_areas": null,
      "grid_template_columns": null,
      "grid_template_rows": null,
      "height": null,
      "justify_content": null,
      "justify_items": null,
      "left": null,
      "margin": null,
      "max_height": null,
      "max_width": null,
      "min_height": null,
      "min_width": null,
      "object_fit": null,
      "object_position": null,
      "order": null,
      "overflow": null,
      "overflow_x": null,
      "overflow_y": null,
      "padding": null,
      "right": null,
      "top": null,
      "visibility": null,
      "width": null
     }
    },
    "6660f8d57dbd4418a0135c47528d1a0d": {
     "model_module": "@jupyter-widgets/base",
     "model_module_version": "1.2.0",
     "model_name": "LayoutModel",
     "state": {
      "_model_module": "@jupyter-widgets/base",
      "_model_module_version": "1.2.0",
      "_model_name": "LayoutModel",
      "_view_count": null,
      "_view_module": "@jupyter-widgets/base",
      "_view_module_version": "1.2.0",
      "_view_name": "LayoutView",
      "align_content": null,
      "align_items": null,
      "align_self": null,
      "border": null,
      "bottom": null,
      "display": null,
      "flex": null,
      "flex_flow": null,
      "grid_area": null,
      "grid_auto_columns": null,
      "grid_auto_flow": null,
      "grid_auto_rows": null,
      "grid_column": null,
      "grid_gap": null,
      "grid_row": null,
      "grid_template_areas": null,
      "grid_template_columns": null,
      "grid_template_rows": null,
      "height": null,
      "justify_content": null,
      "justify_items": null,
      "left": null,
      "margin": null,
      "max_height": null,
      "max_width": null,
      "min_height": null,
      "min_width": null,
      "object_fit": null,
      "object_position": null,
      "order": null,
      "overflow": null,
      "overflow_x": null,
      "overflow_y": null,
      "padding": null,
      "right": null,
      "top": null,
      "visibility": null,
      "width": null
     }
    },
    "667a4768e11a47efbc0d820f8d863bc6": {
     "model_module": "@jupyter-widgets/base",
     "model_module_version": "1.2.0",
     "model_name": "LayoutModel",
     "state": {
      "_model_module": "@jupyter-widgets/base",
      "_model_module_version": "1.2.0",
      "_model_name": "LayoutModel",
      "_view_count": null,
      "_view_module": "@jupyter-widgets/base",
      "_view_module_version": "1.2.0",
      "_view_name": "LayoutView",
      "align_content": null,
      "align_items": null,
      "align_self": null,
      "border": null,
      "bottom": null,
      "display": null,
      "flex": null,
      "flex_flow": null,
      "grid_area": null,
      "grid_auto_columns": null,
      "grid_auto_flow": null,
      "grid_auto_rows": null,
      "grid_column": null,
      "grid_gap": null,
      "grid_row": null,
      "grid_template_areas": null,
      "grid_template_columns": null,
      "grid_template_rows": null,
      "height": null,
      "justify_content": null,
      "justify_items": null,
      "left": null,
      "margin": null,
      "max_height": null,
      "max_width": null,
      "min_height": null,
      "min_width": null,
      "object_fit": null,
      "object_position": null,
      "order": null,
      "overflow": null,
      "overflow_x": null,
      "overflow_y": null,
      "padding": null,
      "right": null,
      "top": null,
      "visibility": null,
      "width": null
     }
    },
    "67a700a4646b49408013c204d355444e": {
     "model_module": "@jupyter-widgets/controls",
     "model_module_version": "1.5.0",
     "model_name": "HTMLModel",
     "state": {
      "_dom_classes": [],
      "_model_module": "@jupyter-widgets/controls",
      "_model_module_version": "1.5.0",
      "_model_name": "HTMLModel",
      "_view_count": null,
      "_view_module": "@jupyter-widgets/controls",
      "_view_module_version": "1.5.0",
      "_view_name": "HTMLView",
      "description": "",
      "description_tooltip": null,
      "layout": "IPY_MODEL_9b7d98a5508f49a890e74293b7c1fe50",
      "placeholder": "​",
      "style": "IPY_MODEL_d976b816f3414ef5b2482340852cde86",
      "value": " 49793/0 [00:05&lt;00:00, 9393.68 examples/s]"
     }
    },
    "697758307ddd4de6b6522adf0cda2f9a": {
     "model_module": "@jupyter-widgets/controls",
     "model_module_version": "1.5.0",
     "model_name": "FloatProgressModel",
     "state": {
      "_dom_classes": [],
      "_model_module": "@jupyter-widgets/controls",
      "_model_module_version": "1.5.0",
      "_model_name": "FloatProgressModel",
      "_view_count": null,
      "_view_module": "@jupyter-widgets/controls",
      "_view_module_version": "1.5.0",
      "_view_name": "ProgressView",
      "bar_style": "success",
      "description": "",
      "description_tooltip": null,
      "layout": "IPY_MODEL_4e6b9969e83b46019597184eb042e009",
      "max": 718,
      "min": 0,
      "orientation": "horizontal",
      "style": "IPY_MODEL_baae7a88bf3e49e9970182d79c9bb992",
      "value": 718
     }
    },
    "6a80d3bd46084926a8e94ab3d191b5d9": {
     "model_module": "@jupyter-widgets/controls",
     "model_module_version": "1.5.0",
     "model_name": "DescriptionStyleModel",
     "state": {
      "_model_module": "@jupyter-widgets/controls",
      "_model_module_version": "1.5.0",
      "_model_name": "DescriptionStyleModel",
      "_view_count": null,
      "_view_module": "@jupyter-widgets/base",
      "_view_module_version": "1.2.0",
      "_view_name": "StyleView",
      "description_width": ""
     }
    },
    "6c3578f5925e4473a0b2934393af4462": {
     "model_module": "@jupyter-widgets/controls",
     "model_module_version": "1.5.0",
     "model_name": "DescriptionStyleModel",
     "state": {
      "_model_module": "@jupyter-widgets/controls",
      "_model_module_version": "1.5.0",
      "_model_name": "DescriptionStyleModel",
      "_view_count": null,
      "_view_module": "@jupyter-widgets/base",
      "_view_module_version": "1.2.0",
      "_view_name": "StyleView",
      "description_width": ""
     }
    },
    "6d10846ce0f048b68fe001dc3ee289f4": {
     "model_module": "@jupyter-widgets/controls",
     "model_module_version": "1.5.0",
     "model_name": "ProgressStyleModel",
     "state": {
      "_model_module": "@jupyter-widgets/controls",
      "_model_module_version": "1.5.0",
      "_model_name": "ProgressStyleModel",
      "_view_count": null,
      "_view_module": "@jupyter-widgets/base",
      "_view_module_version": "1.2.0",
      "_view_name": "StyleView",
      "bar_color": null,
      "description_width": ""
     }
    },
    "6d98c2fedb114f668425b4357533459b": {
     "model_module": "@jupyter-widgets/controls",
     "model_module_version": "1.5.0",
     "model_name": "ProgressStyleModel",
     "state": {
      "_model_module": "@jupyter-widgets/controls",
      "_model_module_version": "1.5.0",
      "_model_name": "ProgressStyleModel",
      "_view_count": null,
      "_view_module": "@jupyter-widgets/base",
      "_view_module_version": "1.2.0",
      "_view_name": "StyleView",
      "bar_color": null,
      "description_width": ""
     }
    },
    "6dcc3b0f3a554a5f81e728fcd5ad33b4": {
     "model_module": "@jupyter-widgets/base",
     "model_module_version": "1.2.0",
     "model_name": "LayoutModel",
     "state": {
      "_model_module": "@jupyter-widgets/base",
      "_model_module_version": "1.2.0",
      "_model_name": "LayoutModel",
      "_view_count": null,
      "_view_module": "@jupyter-widgets/base",
      "_view_module_version": "1.2.0",
      "_view_name": "LayoutView",
      "align_content": null,
      "align_items": null,
      "align_self": null,
      "border": null,
      "bottom": null,
      "display": null,
      "flex": null,
      "flex_flow": null,
      "grid_area": null,
      "grid_auto_columns": null,
      "grid_auto_flow": null,
      "grid_auto_rows": null,
      "grid_column": null,
      "grid_gap": null,
      "grid_row": null,
      "grid_template_areas": null,
      "grid_template_columns": null,
      "grid_template_rows": null,
      "height": null,
      "justify_content": null,
      "justify_items": null,
      "left": null,
      "margin": null,
      "max_height": null,
      "max_width": null,
      "min_height": null,
      "min_width": null,
      "object_fit": null,
      "object_position": null,
      "order": null,
      "overflow": null,
      "overflow_x": null,
      "overflow_y": null,
      "padding": null,
      "right": null,
      "top": null,
      "visibility": null,
      "width": null
     }
    },
    "71fb9d35b6af4332a4267475099a0d3e": {
     "model_module": "@jupyter-widgets/base",
     "model_module_version": "1.2.0",
     "model_name": "LayoutModel",
     "state": {
      "_model_module": "@jupyter-widgets/base",
      "_model_module_version": "1.2.0",
      "_model_name": "LayoutModel",
      "_view_count": null,
      "_view_module": "@jupyter-widgets/base",
      "_view_module_version": "1.2.0",
      "_view_name": "LayoutView",
      "align_content": null,
      "align_items": null,
      "align_self": null,
      "border": null,
      "bottom": null,
      "display": null,
      "flex": null,
      "flex_flow": null,
      "grid_area": null,
      "grid_auto_columns": null,
      "grid_auto_flow": null,
      "grid_auto_rows": null,
      "grid_column": null,
      "grid_gap": null,
      "grid_row": null,
      "grid_template_areas": null,
      "grid_template_columns": null,
      "grid_template_rows": null,
      "height": null,
      "justify_content": null,
      "justify_items": null,
      "left": null,
      "margin": null,
      "max_height": null,
      "max_width": null,
      "min_height": null,
      "min_width": null,
      "object_fit": null,
      "object_position": null,
      "order": null,
      "overflow": null,
      "overflow_x": null,
      "overflow_y": null,
      "padding": null,
      "right": null,
      "top": null,
      "visibility": null,
      "width": null
     }
    },
    "74309eb45827450ca60b666a9a0b5fe2": {
     "model_module": "@jupyter-widgets/controls",
     "model_module_version": "1.5.0",
     "model_name": "HTMLModel",
     "state": {
      "_dom_classes": [],
      "_model_module": "@jupyter-widgets/controls",
      "_model_module_version": "1.5.0",
      "_model_name": "HTMLModel",
      "_view_count": null,
      "_view_module": "@jupyter-widgets/controls",
      "_view_module_version": "1.5.0",
      "_view_name": "HTMLView",
      "description": "",
      "description_tooltip": null,
      "layout": "IPY_MODEL_06a3320dcc114e6dbc08d25c05aca61b",
      "placeholder": "​",
      "style": "IPY_MODEL_bd5911a438bc43b89346121f8561dd40",
      "value": " 1.04M/1.04M [00:00&lt;00:00, 952kB/s]"
     }
    },
    "7450384d624b4976b685c80f3c8097e1": {
     "model_module": "@jupyter-widgets/controls",
     "model_module_version": "1.5.0",
     "model_name": "ProgressStyleModel",
     "state": {
      "_model_module": "@jupyter-widgets/controls",
      "_model_module_version": "1.5.0",
      "_model_name": "ProgressStyleModel",
      "_view_count": null,
      "_view_module": "@jupyter-widgets/base",
      "_view_module_version": "1.2.0",
      "_view_name": "StyleView",
      "bar_color": null,
      "description_width": ""
     }
    },
    "750491ed0657461f8c0ac728f2bc9f43": {
     "model_module": "@jupyter-widgets/controls",
     "model_module_version": "1.5.0",
     "model_name": "FloatProgressModel",
     "state": {
      "_dom_classes": [],
      "_model_module": "@jupyter-widgets/controls",
      "_model_module_version": "1.5.0",
      "_model_name": "FloatProgressModel",
      "_view_count": null,
      "_view_module": "@jupyter-widgets/controls",
      "_view_module_version": "1.5.0",
      "_view_name": "ProgressView",
      "bar_style": "success",
      "description": "",
      "description_tooltip": null,
      "layout": "IPY_MODEL_1694bfbdbe184251b83f85612343bf15",
      "max": 1520013706,
      "min": 0,
      "orientation": "horizontal",
      "style": "IPY_MODEL_15a15f51bde8419d82adccbe018c77e0",
      "value": 1520013706
     }
    },
    "75954b42503749d0811903458c639d5d": {
     "model_module": "@jupyter-widgets/controls",
     "model_module_version": "1.5.0",
     "model_name": "DescriptionStyleModel",
     "state": {
      "_model_module": "@jupyter-widgets/controls",
      "_model_module_version": "1.5.0",
      "_model_name": "DescriptionStyleModel",
      "_view_count": null,
      "_view_module": "@jupyter-widgets/base",
      "_view_module_version": "1.2.0",
      "_view_name": "StyleView",
      "description_width": ""
     }
    },
    "79cdd5a0344740d6a632588484e2ac71": {
     "model_module": "@jupyter-widgets/base",
     "model_module_version": "1.2.0",
     "model_name": "LayoutModel",
     "state": {
      "_model_module": "@jupyter-widgets/base",
      "_model_module_version": "1.2.0",
      "_model_name": "LayoutModel",
      "_view_count": null,
      "_view_module": "@jupyter-widgets/base",
      "_view_module_version": "1.2.0",
      "_view_name": "LayoutView",
      "align_content": null,
      "align_items": null,
      "align_self": null,
      "border": null,
      "bottom": null,
      "display": null,
      "flex": null,
      "flex_flow": null,
      "grid_area": null,
      "grid_auto_columns": null,
      "grid_auto_flow": null,
      "grid_auto_rows": null,
      "grid_column": null,
      "grid_gap": null,
      "grid_row": null,
      "grid_template_areas": null,
      "grid_template_columns": null,
      "grid_template_rows": null,
      "height": null,
      "justify_content": null,
      "justify_items": null,
      "left": null,
      "margin": null,
      "max_height": null,
      "max_width": null,
      "min_height": null,
      "min_width": null,
      "object_fit": null,
      "object_position": null,
      "order": null,
      "overflow": null,
      "overflow_x": null,
      "overflow_y": null,
      "padding": null,
      "right": null,
      "top": null,
      "visibility": null,
      "width": "20px"
     }
    },
    "7bef77d34c7947e8b220ba31c07e1ffb": {
     "model_module": "@jupyter-widgets/controls",
     "model_module_version": "1.5.0",
     "model_name": "ProgressStyleModel",
     "state": {
      "_model_module": "@jupyter-widgets/controls",
      "_model_module_version": "1.5.0",
      "_model_name": "ProgressStyleModel",
      "_view_count": null,
      "_view_module": "@jupyter-widgets/base",
      "_view_module_version": "1.2.0",
      "_view_name": "StyleView",
      "bar_color": null,
      "description_width": ""
     }
    },
    "81bb74aff583440ab15ff42d2ea45185": {
     "model_module": "@jupyter-widgets/controls",
     "model_module_version": "1.5.0",
     "model_name": "DescriptionStyleModel",
     "state": {
      "_model_module": "@jupyter-widgets/controls",
      "_model_module_version": "1.5.0",
      "_model_name": "DescriptionStyleModel",
      "_view_count": null,
      "_view_module": "@jupyter-widgets/base",
      "_view_module_version": "1.2.0",
      "_view_name": "StyleView",
      "description_width": ""
     }
    },
    "82af1132e2dd4a3c8191f8d2168f2cc5": {
     "model_module": "@jupyter-widgets/controls",
     "model_module_version": "1.5.0",
     "model_name": "HTMLModel",
     "state": {
      "_dom_classes": [],
      "_model_module": "@jupyter-widgets/controls",
      "_model_module_version": "1.5.0",
      "_model_name": "HTMLModel",
      "_view_count": null,
      "_view_module": "@jupyter-widgets/controls",
      "_view_module_version": "1.5.0",
      "_view_name": "HTMLView",
      "description": "",
      "description_tooltip": null,
      "layout": "IPY_MODEL_fa212e7fe39a423d97e1a10b3127ad23",
      "placeholder": "​",
      "style": "IPY_MODEL_6c3578f5925e4473a0b2934393af4462",
      "value": "Downloading: 100%"
     }
    },
    "849ef553fd904edcbe803abb911c49e5": {
     "model_module": "@jupyter-widgets/controls",
     "model_module_version": "1.5.0",
     "model_name": "FloatProgressModel",
     "state": {
      "_dom_classes": [],
      "_model_module": "@jupyter-widgets/controls",
      "_model_module_version": "1.5.0",
      "_model_name": "FloatProgressModel",
      "_view_count": null,
      "_view_module": "@jupyter-widgets/controls",
      "_view_module_version": "1.5.0",
      "_view_name": "ProgressView",
      "bar_style": "success",
      "description": "",
      "description_tooltip": null,
      "layout": "IPY_MODEL_664cd67e397b49d2b9e7dc0aebe261b7",
      "max": 456318,
      "min": 0,
      "orientation": "horizontal",
      "style": "IPY_MODEL_a00f124b7e2e46579ad550f8295c35a0",
      "value": 456318
     }
    },
    "8555cb5d8baa4151b522bf2a312fffe7": {
     "model_module": "@jupyter-widgets/controls",
     "model_module_version": "1.5.0",
     "model_name": "DescriptionStyleModel",
     "state": {
      "_model_module": "@jupyter-widgets/controls",
      "_model_module_version": "1.5.0",
      "_model_name": "DescriptionStyleModel",
      "_view_count": null,
      "_view_module": "@jupyter-widgets/base",
      "_view_module_version": "1.2.0",
      "_view_name": "StyleView",
      "description_width": ""
     }
    },
    "89526e0189d3412fb4f34e484d49f876": {
     "model_module": "@jupyter-widgets/controls",
     "model_module_version": "1.5.0",
     "model_name": "HBoxModel",
     "state": {
      "_dom_classes": [],
      "_model_module": "@jupyter-widgets/controls",
      "_model_module_version": "1.5.0",
      "_model_name": "HBoxModel",
      "_view_count": null,
      "_view_module": "@jupyter-widgets/controls",
      "_view_module_version": "1.5.0",
      "_view_name": "HBoxView",
      "box_style": "",
      "children": [
       "IPY_MODEL_a913911214d74b2db1bd8e53f5f0996b",
       "IPY_MODEL_07766765bffe4e468e2cdc8c404fc219",
       "IPY_MODEL_8b56ea229f8c4051a0383f1d0fe3a76b"
      ],
      "layout": "IPY_MODEL_de87565989ef4c7baaef86f83a1d1d9b"
     }
    },
    "8a077b8653be4eca91a709b522c343a9": {
     "model_module": "@jupyter-widgets/controls",
     "model_module_version": "1.5.0",
     "model_name": "FloatProgressModel",
     "state": {
      "_dom_classes": [],
      "_model_module": "@jupyter-widgets/controls",
      "_model_module_version": "1.5.0",
      "_model_name": "FloatProgressModel",
      "_view_count": null,
      "_view_module": "@jupyter-widgets/controls",
      "_view_module_version": "1.5.0",
      "_view_name": "ProgressView",
      "bar_style": "info",
      "description": "",
      "description_tooltip": null,
      "layout": "IPY_MODEL_fc9e2b3ecc174ffaaa9a9999d4809274",
      "max": 1,
      "min": 0,
      "orientation": "horizontal",
      "style": "IPY_MODEL_eead4a2d65a7424eae12b886d69a8f1e",
      "value": 1
     }
    },
    "8abc928fc08e4f5f942a8fa1135eba6d": {
     "model_module": "@jupyter-widgets/controls",
     "model_module_version": "1.5.0",
     "model_name": "DescriptionStyleModel",
     "state": {
      "_model_module": "@jupyter-widgets/controls",
      "_model_module_version": "1.5.0",
      "_model_name": "DescriptionStyleModel",
      "_view_count": null,
      "_view_module": "@jupyter-widgets/base",
      "_view_module_version": "1.2.0",
      "_view_name": "StyleView",
      "description_width": ""
     }
    },
    "8b56ea229f8c4051a0383f1d0fe3a76b": {
     "model_module": "@jupyter-widgets/controls",
     "model_module_version": "1.5.0",
     "model_name": "HTMLModel",
     "state": {
      "_dom_classes": [],
      "_model_module": "@jupyter-widgets/controls",
      "_model_module_version": "1.5.0",
      "_model_name": "HTMLModel",
      "_view_count": null,
      "_view_module": "@jupyter-widgets/controls",
      "_view_module_version": "1.5.0",
      "_view_name": "HTMLView",
      "description": "",
      "description_tooltip": null,
      "layout": "IPY_MODEL_6dcc3b0f3a554a5f81e728fcd5ad33b4",
      "placeholder": "​",
      "style": "IPY_MODEL_6a80d3bd46084926a8e94ab3d191b5d9",
      "value": " 84.1M/84.1M [00:03&lt;00:00, 26.0MB/s]"
     }
    },
    "8d52b22d0f6b44a083c1bc646dcdabc6": {
     "model_module": "@jupyter-widgets/controls",
     "model_module_version": "1.5.0",
     "model_name": "DescriptionStyleModel",
     "state": {
      "_model_module": "@jupyter-widgets/controls",
      "_model_module_version": "1.5.0",
      "_model_name": "DescriptionStyleModel",
      "_view_count": null,
      "_view_module": "@jupyter-widgets/base",
      "_view_module_version": "1.2.0",
      "_view_name": "StyleView",
      "description_width": ""
     }
    },
    "901352b50fe14ed0a2bd702002ce33eb": {
     "model_module": "@jupyter-widgets/controls",
     "model_module_version": "1.5.0",
     "model_name": "HBoxModel",
     "state": {
      "_dom_classes": [],
      "_model_module": "@jupyter-widgets/controls",
      "_model_module_version": "1.5.0",
      "_model_name": "HBoxModel",
      "_view_count": null,
      "_view_module": "@jupyter-widgets/controls",
      "_view_module_version": "1.5.0",
      "_view_name": "HBoxView",
      "box_style": "",
      "children": [
       "IPY_MODEL_fd6636798af74a3785de21d5a7096190",
       "IPY_MODEL_0950600d974643439b267ed06e3cf208",
       "IPY_MODEL_3646a6e925cb446b83f43f8e0c2011b6"
      ],
      "layout": "IPY_MODEL_5ef91a27881e43cdb0caf41ed161a705"
     }
    },
    "916b9bc3fccd410384f26b6bfa8aec51": {
     "model_module": "@jupyter-widgets/controls",
     "model_module_version": "1.5.0",
     "model_name": "DescriptionStyleModel",
     "state": {
      "_model_module": "@jupyter-widgets/controls",
      "_model_module_version": "1.5.0",
      "_model_name": "DescriptionStyleModel",
      "_view_count": null,
      "_view_module": "@jupyter-widgets/base",
      "_view_module_version": "1.2.0",
      "_view_name": "StyleView",
      "description_width": ""
     }
    },
    "965eb79f582342e5b2fac1b35813121a": {
     "model_module": "@jupyter-widgets/base",
     "model_module_version": "1.2.0",
     "model_name": "LayoutModel",
     "state": {
      "_model_module": "@jupyter-widgets/base",
      "_model_module_version": "1.2.0",
      "_model_name": "LayoutModel",
      "_view_count": null,
      "_view_module": "@jupyter-widgets/base",
      "_view_module_version": "1.2.0",
      "_view_name": "LayoutView",
      "align_content": null,
      "align_items": null,
      "align_self": null,
      "border": null,
      "bottom": null,
      "display": null,
      "flex": null,
      "flex_flow": null,
      "grid_area": null,
      "grid_auto_columns": null,
      "grid_auto_flow": null,
      "grid_auto_rows": null,
      "grid_column": null,
      "grid_gap": null,
      "grid_row": null,
      "grid_template_areas": null,
      "grid_template_columns": null,
      "grid_template_rows": null,
      "height": null,
      "justify_content": null,
      "justify_items": null,
      "left": null,
      "margin": null,
      "max_height": null,
      "max_width": null,
      "min_height": null,
      "min_width": null,
      "object_fit": null,
      "object_position": null,
      "order": null,
      "overflow": null,
      "overflow_x": null,
      "overflow_y": null,
      "padding": null,
      "right": null,
      "top": null,
      "visibility": null,
      "width": null
     }
    },
    "97aba5da14d24c78818dd2579cc60e88": {
     "model_module": "@jupyter-widgets/base",
     "model_module_version": "1.2.0",
     "model_name": "LayoutModel",
     "state": {
      "_model_module": "@jupyter-widgets/base",
      "_model_module_version": "1.2.0",
      "_model_name": "LayoutModel",
      "_view_count": null,
      "_view_module": "@jupyter-widgets/base",
      "_view_module_version": "1.2.0",
      "_view_name": "LayoutView",
      "align_content": null,
      "align_items": null,
      "align_self": null,
      "border": null,
      "bottom": null,
      "display": null,
      "flex": null,
      "flex_flow": null,
      "grid_area": null,
      "grid_auto_columns": null,
      "grid_auto_flow": null,
      "grid_auto_rows": null,
      "grid_column": null,
      "grid_gap": null,
      "grid_row": null,
      "grid_template_areas": null,
      "grid_template_columns": null,
      "grid_template_rows": null,
      "height": null,
      "justify_content": null,
      "justify_items": null,
      "left": null,
      "margin": null,
      "max_height": null,
      "max_width": null,
      "min_height": null,
      "min_width": null,
      "object_fit": null,
      "object_position": null,
      "order": null,
      "overflow": null,
      "overflow_x": null,
      "overflow_y": null,
      "padding": null,
      "right": null,
      "top": null,
      "visibility": null,
      "width": null
     }
    },
    "9868bc78d10c4d29b6820863ea71f631": {
     "model_module": "@jupyter-widgets/controls",
     "model_module_version": "1.5.0",
     "model_name": "HTMLModel",
     "state": {
      "_dom_classes": [],
      "_model_module": "@jupyter-widgets/controls",
      "_model_module_version": "1.5.0",
      "_model_name": "HTMLModel",
      "_view_count": null,
      "_view_module": "@jupyter-widgets/controls",
      "_view_module_version": "1.5.0",
      "_view_name": "HTMLView",
      "description": "",
      "description_tooltip": null,
      "layout": "IPY_MODEL_4e4235e5dd894457b06336d918b8a8b5",
      "placeholder": "​",
      "style": "IPY_MODEL_990b72fb76bf4d12b16995cd0a976cea",
      "value": " 24963/0 [00:02&lt;00:00, 9208.51 examples/s]"
     }
    },
    "990b72fb76bf4d12b16995cd0a976cea": {
     "model_module": "@jupyter-widgets/controls",
     "model_module_version": "1.5.0",
     "model_name": "DescriptionStyleModel",
     "state": {
      "_model_module": "@jupyter-widgets/controls",
      "_model_module_version": "1.5.0",
      "_model_name": "DescriptionStyleModel",
      "_view_count": null,
      "_view_module": "@jupyter-widgets/base",
      "_view_module_version": "1.2.0",
      "_view_name": "StyleView",
      "description_width": ""
     }
    },
    "99a40500233544768bade9ae8f8aba5a": {
     "model_module": "@jupyter-widgets/controls",
     "model_module_version": "1.5.0",
     "model_name": "ProgressStyleModel",
     "state": {
      "_model_module": "@jupyter-widgets/controls",
      "_model_module_version": "1.5.0",
      "_model_name": "ProgressStyleModel",
      "_view_count": null,
      "_view_module": "@jupyter-widgets/base",
      "_view_module_version": "1.2.0",
      "_view_name": "StyleView",
      "bar_color": null,
      "description_width": ""
     }
    },
    "9b7d98a5508f49a890e74293b7c1fe50": {
     "model_module": "@jupyter-widgets/base",
     "model_module_version": "1.2.0",
     "model_name": "LayoutModel",
     "state": {
      "_model_module": "@jupyter-widgets/base",
      "_model_module_version": "1.2.0",
      "_model_name": "LayoutModel",
      "_view_count": null,
      "_view_module": "@jupyter-widgets/base",
      "_view_module_version": "1.2.0",
      "_view_name": "LayoutView",
      "align_content": null,
      "align_items": null,
      "align_self": null,
      "border": null,
      "bottom": null,
      "display": null,
      "flex": null,
      "flex_flow": null,
      "grid_area": null,
      "grid_auto_columns": null,
      "grid_auto_flow": null,
      "grid_auto_rows": null,
      "grid_column": null,
      "grid_gap": null,
      "grid_row": null,
      "grid_template_areas": null,
      "grid_template_columns": null,
      "grid_template_rows": null,
      "height": null,
      "justify_content": null,
      "justify_items": null,
      "left": null,
      "margin": null,
      "max_height": null,
      "max_width": null,
      "min_height": null,
      "min_width": null,
      "object_fit": null,
      "object_position": null,
      "order": null,
      "overflow": null,
      "overflow_x": null,
      "overflow_y": null,
      "padding": null,
      "right": null,
      "top": null,
      "visibility": null,
      "width": null
     }
    },
    "a00f124b7e2e46579ad550f8295c35a0": {
     "model_module": "@jupyter-widgets/controls",
     "model_module_version": "1.5.0",
     "model_name": "ProgressStyleModel",
     "state": {
      "_model_module": "@jupyter-widgets/controls",
      "_model_module_version": "1.5.0",
      "_model_name": "ProgressStyleModel",
      "_view_count": null,
      "_view_module": "@jupyter-widgets/base",
      "_view_module_version": "1.2.0",
      "_view_name": "StyleView",
      "bar_color": null,
      "description_width": ""
     }
    },
    "a3a379ffd974400689c25635391df67b": {
     "model_module": "@jupyter-widgets/controls",
     "model_module_version": "1.5.0",
     "model_name": "HBoxModel",
     "state": {
      "_dom_classes": [],
      "_model_module": "@jupyter-widgets/controls",
      "_model_module_version": "1.5.0",
      "_model_name": "HBoxModel",
      "_view_count": null,
      "_view_module": "@jupyter-widgets/controls",
      "_view_module_version": "1.5.0",
      "_view_name": "HBoxView",
      "box_style": "",
      "children": [
       "IPY_MODEL_485a75b5943746dfae252fad0420778e",
       "IPY_MODEL_1ee5e89b3e1849beaaef5cc865041991",
       "IPY_MODEL_fde7047490d6455a9cb5445d4acd38f0"
      ],
      "layout": "IPY_MODEL_71fb9d35b6af4332a4267475099a0d3e"
     }
    },
    "a5e80efaf38242ccabc8b34376d54166": {
     "model_module": "@jupyter-widgets/controls",
     "model_module_version": "1.5.0",
     "model_name": "FloatProgressModel",
     "state": {
      "_dom_classes": [],
      "_model_module": "@jupyter-widgets/controls",
      "_model_module_version": "1.5.0",
      "_model_name": "FloatProgressModel",
      "_view_count": null,
      "_view_module": "@jupyter-widgets/controls",
      "_view_module_version": "1.5.0",
      "_view_name": "ProgressView",
      "bar_style": "success",
      "description": "",
      "description_tooltip": null,
      "layout": "IPY_MODEL_965eb79f582342e5b2fac1b35813121a",
      "max": 1054,
      "min": 0,
      "orientation": "horizontal",
      "style": "IPY_MODEL_7450384d624b4976b685c80f3c8097e1",
      "value": 1054
     }
    },
    "a768475f5b54441d8261eb431a085fe9": {
     "model_module": "@jupyter-widgets/base",
     "model_module_version": "1.2.0",
     "model_name": "LayoutModel",
     "state": {
      "_model_module": "@jupyter-widgets/base",
      "_model_module_version": "1.2.0",
      "_model_name": "LayoutModel",
      "_view_count": null,
      "_view_module": "@jupyter-widgets/base",
      "_view_module_version": "1.2.0",
      "_view_name": "LayoutView",
      "align_content": null,
      "align_items": null,
      "align_self": null,
      "border": null,
      "bottom": null,
      "display": null,
      "flex": null,
      "flex_flow": null,
      "grid_area": null,
      "grid_auto_columns": null,
      "grid_auto_flow": null,
      "grid_auto_rows": null,
      "grid_column": null,
      "grid_gap": null,
      "grid_row": null,
      "grid_template_areas": null,
      "grid_template_columns": null,
      "grid_template_rows": null,
      "height": null,
      "justify_content": null,
      "justify_items": null,
      "left": null,
      "margin": null,
      "max_height": null,
      "max_width": null,
      "min_height": null,
      "min_width": null,
      "object_fit": null,
      "object_position": null,
      "order": null,
      "overflow": null,
      "overflow_x": null,
      "overflow_y": null,
      "padding": null,
      "right": null,
      "top": null,
      "visibility": null,
      "width": "20px"
     }
    },
    "a913911214d74b2db1bd8e53f5f0996b": {
     "model_module": "@jupyter-widgets/controls",
     "model_module_version": "1.5.0",
     "model_name": "HTMLModel",
     "state": {
      "_dom_classes": [],
      "_model_module": "@jupyter-widgets/controls",
      "_model_module_version": "1.5.0",
      "_model_name": "HTMLModel",
      "_view_count": null,
      "_view_module": "@jupyter-widgets/controls",
      "_view_module_version": "1.5.0",
      "_view_name": "HTMLView",
      "description": "",
      "description_tooltip": null,
      "layout": "IPY_MODEL_6660f8d57dbd4418a0135c47528d1a0d",
      "placeholder": "​",
      "style": "IPY_MODEL_321360e00fa74871851964f5f3579475",
      "value": "Downloading: 100%"
     }
    },
    "a928a998a9674a4588fb88ac1a8280d4": {
     "model_module": "@jupyter-widgets/base",
     "model_module_version": "1.2.0",
     "model_name": "LayoutModel",
     "state": {
      "_model_module": "@jupyter-widgets/base",
      "_model_module_version": "1.2.0",
      "_model_name": "LayoutModel",
      "_view_count": null,
      "_view_module": "@jupyter-widgets/base",
      "_view_module_version": "1.2.0",
      "_view_name": "LayoutView",
      "align_content": null,
      "align_items": null,
      "align_self": null,
      "border": null,
      "bottom": null,
      "display": null,
      "flex": null,
      "flex_flow": null,
      "grid_area": null,
      "grid_auto_columns": null,
      "grid_auto_flow": null,
      "grid_auto_rows": null,
      "grid_column": null,
      "grid_gap": null,
      "grid_row": null,
      "grid_template_areas": null,
      "grid_template_columns": null,
      "grid_template_rows": null,
      "height": null,
      "justify_content": null,
      "justify_items": null,
      "left": null,
      "margin": null,
      "max_height": null,
      "max_width": null,
      "min_height": null,
      "min_width": null,
      "object_fit": null,
      "object_position": null,
      "order": null,
      "overflow": null,
      "overflow_x": null,
      "overflow_y": null,
      "padding": null,
      "right": null,
      "top": null,
      "visibility": null,
      "width": null
     }
    },
    "a95f4a3bbfdc47629431a908b5f19977": {
     "model_module": "@jupyter-widgets/controls",
     "model_module_version": "1.5.0",
     "model_name": "HBoxModel",
     "state": {
      "_dom_classes": [],
      "_model_module": "@jupyter-widgets/controls",
      "_model_module_version": "1.5.0",
      "_model_name": "HBoxModel",
      "_view_count": null,
      "_view_module": "@jupyter-widgets/controls",
      "_view_module_version": "1.5.0",
      "_view_name": "HBoxView",
      "box_style": "",
      "children": [
       "IPY_MODEL_31debfcc5b8e488188fdf13cb30d5854",
       "IPY_MODEL_cf428d04df454a5080ba0d88d764dd9b",
       "IPY_MODEL_67a700a4646b49408013c204d355444e"
      ],
      "layout": "IPY_MODEL_667a4768e11a47efbc0d820f8d863bc6"
     }
    },
    "aee8eec4ae6a4963ab766d246923ed68": {
     "model_module": "@jupyter-widgets/controls",
     "model_module_version": "1.5.0",
     "model_name": "HBoxModel",
     "state": {
      "_dom_classes": [],
      "_model_module": "@jupyter-widgets/controls",
      "_model_module_version": "1.5.0",
      "_model_name": "HBoxModel",
      "_view_count": null,
      "_view_module": "@jupyter-widgets/controls",
      "_view_module_version": "1.5.0",
      "_view_name": "HBoxView",
      "box_style": "",
      "children": [
       "IPY_MODEL_82af1132e2dd4a3c8191f8d2168f2cc5",
       "IPY_MODEL_697758307ddd4de6b6522adf0cda2f9a",
       "IPY_MODEL_af10a1ba7ec94adca66bd6cc9b50398a"
      ],
      "layout": "IPY_MODEL_a928a998a9674a4588fb88ac1a8280d4"
     }
    },
    "af10a1ba7ec94adca66bd6cc9b50398a": {
     "model_module": "@jupyter-widgets/controls",
     "model_module_version": "1.5.0",
     "model_name": "HTMLModel",
     "state": {
      "_dom_classes": [],
      "_model_module": "@jupyter-widgets/controls",
      "_model_module_version": "1.5.0",
      "_model_name": "HTMLModel",
      "_view_count": null,
      "_view_module": "@jupyter-widgets/controls",
      "_view_module_version": "1.5.0",
      "_view_name": "HTMLView",
      "description": "",
      "description_tooltip": null,
      "layout": "IPY_MODEL_e023c0c3e0a040598cef5c999289de2c",
      "placeholder": "​",
      "style": "IPY_MODEL_e103280465a04d4d8e3f4aa90ef473a5",
      "value": " 718/718 [00:00&lt;00:00, 16.1kB/s]"
     }
    },
    "b8a36f4f781d44d3945036cebb39cc40": {
     "model_module": "@jupyter-widgets/controls",
     "model_module_version": "1.5.0",
     "model_name": "HTMLModel",
     "state": {
      "_dom_classes": [],
      "_model_module": "@jupyter-widgets/controls",
      "_model_module_version": "1.5.0",
      "_model_name": "HTMLModel",
      "_view_count": null,
      "_view_module": "@jupyter-widgets/controls",
      "_view_module_version": "1.5.0",
      "_view_name": "HTMLView",
      "description": "",
      "description_tooltip": null,
      "layout": "IPY_MODEL_97aba5da14d24c78818dd2579cc60e88",
      "placeholder": "​",
      "style": "IPY_MODEL_8abc928fc08e4f5f942a8fa1135eba6d",
      "value": "Downloading: 100%"
     }
    },
    "b8ad0216b629472e9719709bc92af2b8": {
     "model_module": "@jupyter-widgets/controls",
     "model_module_version": "1.5.0",
     "model_name": "HBoxModel",
     "state": {
      "_dom_classes": [],
      "_model_module": "@jupyter-widgets/controls",
      "_model_module_version": "1.5.0",
      "_model_name": "HBoxModel",
      "_view_count": null,
      "_view_module": "@jupyter-widgets/controls",
      "_view_module_version": "1.5.0",
      "_view_name": "HBoxView",
      "box_style": "",
      "children": [
       "IPY_MODEL_35f035d20a324259ad980c195a02d525",
       "IPY_MODEL_849ef553fd904edcbe803abb911c49e5",
       "IPY_MODEL_4d09e8a1d0c7409e8600b51ea9416b7c"
      ],
      "layout": "IPY_MODEL_550cf13eba914286a238b3f6181ac53d"
     }
    },
    "b9e3c8fc647a4fbd9303825f4498274a": {
     "model_module": "@jupyter-widgets/base",
     "model_module_version": "1.2.0",
     "model_name": "LayoutModel",
     "state": {
      "_model_module": "@jupyter-widgets/base",
      "_model_module_version": "1.2.0",
      "_model_name": "LayoutModel",
      "_view_count": null,
      "_view_module": "@jupyter-widgets/base",
      "_view_module_version": "1.2.0",
      "_view_name": "LayoutView",
      "align_content": null,
      "align_items": null,
      "align_self": null,
      "border": null,
      "bottom": null,
      "display": null,
      "flex": null,
      "flex_flow": null,
      "grid_area": null,
      "grid_auto_columns": null,
      "grid_auto_flow": null,
      "grid_auto_rows": null,
      "grid_column": null,
      "grid_gap": null,
      "grid_row": null,
      "grid_template_areas": null,
      "grid_template_columns": null,
      "grid_template_rows": null,
      "height": null,
      "justify_content": null,
      "justify_items": null,
      "left": null,
      "margin": null,
      "max_height": null,
      "max_width": null,
      "min_height": null,
      "min_width": null,
      "object_fit": null,
      "object_position": null,
      "order": null,
      "overflow": null,
      "overflow_x": null,
      "overflow_y": null,
      "padding": null,
      "right": null,
      "top": null,
      "visibility": null,
      "width": null
     }
    },
    "b9f67287d4f745b09c5a7a5d2d1bfe60": {
     "model_module": "@jupyter-widgets/base",
     "model_module_version": "1.2.0",
     "model_name": "LayoutModel",
     "state": {
      "_model_module": "@jupyter-widgets/base",
      "_model_module_version": "1.2.0",
      "_model_name": "LayoutModel",
      "_view_count": null,
      "_view_module": "@jupyter-widgets/base",
      "_view_module_version": "1.2.0",
      "_view_name": "LayoutView",
      "align_content": null,
      "align_items": null,
      "align_self": null,
      "border": null,
      "bottom": null,
      "display": null,
      "flex": null,
      "flex_flow": null,
      "grid_area": null,
      "grid_auto_columns": null,
      "grid_auto_flow": null,
      "grid_auto_rows": null,
      "grid_column": null,
      "grid_gap": null,
      "grid_row": null,
      "grid_template_areas": null,
      "grid_template_columns": null,
      "grid_template_rows": null,
      "height": null,
      "justify_content": null,
      "justify_items": null,
      "left": null,
      "margin": null,
      "max_height": null,
      "max_width": null,
      "min_height": null,
      "min_width": null,
      "object_fit": null,
      "object_position": null,
      "order": null,
      "overflow": null,
      "overflow_x": null,
      "overflow_y": null,
      "padding": null,
      "right": null,
      "top": null,
      "visibility": null,
      "width": null
     }
    },
    "baae7a88bf3e49e9970182d79c9bb992": {
     "model_module": "@jupyter-widgets/controls",
     "model_module_version": "1.5.0",
     "model_name": "ProgressStyleModel",
     "state": {
      "_model_module": "@jupyter-widgets/controls",
      "_model_module_version": "1.5.0",
      "_model_name": "ProgressStyleModel",
      "_view_count": null,
      "_view_module": "@jupyter-widgets/base",
      "_view_module_version": "1.2.0",
      "_view_name": "StyleView",
      "bar_color": null,
      "description_width": ""
     }
    },
    "bd5911a438bc43b89346121f8561dd40": {
     "model_module": "@jupyter-widgets/controls",
     "model_module_version": "1.5.0",
     "model_name": "DescriptionStyleModel",
     "state": {
      "_model_module": "@jupyter-widgets/controls",
      "_model_module_version": "1.5.0",
      "_model_name": "DescriptionStyleModel",
      "_view_count": null,
      "_view_module": "@jupyter-widgets/base",
      "_view_module_version": "1.2.0",
      "_view_name": "StyleView",
      "description_width": ""
     }
    },
    "beed4bab61e24dc7bf281104820d975a": {
     "model_module": "@jupyter-widgets/base",
     "model_module_version": "1.2.0",
     "model_name": "LayoutModel",
     "state": {
      "_model_module": "@jupyter-widgets/base",
      "_model_module_version": "1.2.0",
      "_model_name": "LayoutModel",
      "_view_count": null,
      "_view_module": "@jupyter-widgets/base",
      "_view_module_version": "1.2.0",
      "_view_name": "LayoutView",
      "align_content": null,
      "align_items": null,
      "align_self": null,
      "border": null,
      "bottom": null,
      "display": null,
      "flex": null,
      "flex_flow": null,
      "grid_area": null,
      "grid_auto_columns": null,
      "grid_auto_flow": null,
      "grid_auto_rows": null,
      "grid_column": null,
      "grid_gap": null,
      "grid_row": null,
      "grid_template_areas": null,
      "grid_template_columns": null,
      "grid_template_rows": null,
      "height": null,
      "justify_content": null,
      "justify_items": null,
      "left": null,
      "margin": null,
      "max_height": null,
      "max_width": null,
      "min_height": null,
      "min_width": null,
      "object_fit": null,
      "object_position": null,
      "order": null,
      "overflow": null,
      "overflow_x": null,
      "overflow_y": null,
      "padding": null,
      "right": null,
      "top": null,
      "visibility": null,
      "width": null
     }
    },
    "c8ab89c6eefc4b0d852d36b1e3b96c3f": {
     "model_module": "@jupyter-widgets/base",
     "model_module_version": "1.2.0",
     "model_name": "LayoutModel",
     "state": {
      "_model_module": "@jupyter-widgets/base",
      "_model_module_version": "1.2.0",
      "_model_name": "LayoutModel",
      "_view_count": null,
      "_view_module": "@jupyter-widgets/base",
      "_view_module_version": "1.2.0",
      "_view_name": "LayoutView",
      "align_content": null,
      "align_items": null,
      "align_self": null,
      "border": null,
      "bottom": null,
      "display": null,
      "flex": null,
      "flex_flow": null,
      "grid_area": null,
      "grid_auto_columns": null,
      "grid_auto_flow": null,
      "grid_auto_rows": null,
      "grid_column": null,
      "grid_gap": null,
      "grid_row": null,
      "grid_template_areas": null,
      "grid_template_columns": null,
      "grid_template_rows": null,
      "height": null,
      "justify_content": null,
      "justify_items": null,
      "left": null,
      "margin": null,
      "max_height": null,
      "max_width": null,
      "min_height": null,
      "min_width": null,
      "object_fit": null,
      "object_position": null,
      "order": null,
      "overflow": null,
      "overflow_x": null,
      "overflow_y": null,
      "padding": null,
      "right": null,
      "top": null,
      "visibility": null,
      "width": null
     }
    },
    "ccf18ad2148349a6b8905d977fb60f1a": {
     "model_module": "@jupyter-widgets/controls",
     "model_module_version": "1.5.0",
     "model_name": "DescriptionStyleModel",
     "state": {
      "_model_module": "@jupyter-widgets/controls",
      "_model_module_version": "1.5.0",
      "_model_name": "DescriptionStyleModel",
      "_view_count": null,
      "_view_module": "@jupyter-widgets/base",
      "_view_module_version": "1.2.0",
      "_view_name": "StyleView",
      "description_width": ""
     }
    },
    "cf428d04df454a5080ba0d88d764dd9b": {
     "model_module": "@jupyter-widgets/controls",
     "model_module_version": "1.5.0",
     "model_name": "FloatProgressModel",
     "state": {
      "_dom_classes": [],
      "_model_module": "@jupyter-widgets/controls",
      "_model_module_version": "1.5.0",
      "_model_name": "FloatProgressModel",
      "_view_count": null,
      "_view_module": "@jupyter-widgets/controls",
      "_view_module_version": "1.5.0",
      "_view_name": "ProgressView",
      "bar_style": "info",
      "description": "",
      "description_tooltip": null,
      "layout": "IPY_MODEL_a768475f5b54441d8261eb431a085fe9",
      "max": 1,
      "min": 0,
      "orientation": "horizontal",
      "style": "IPY_MODEL_140d2eba70104a488c4b3326e06db8e7",
      "value": 1
     }
    },
    "d20be54f703a493eb0f2d4f273c71062": {
     "model_module": "@jupyter-widgets/base",
     "model_module_version": "1.2.0",
     "model_name": "LayoutModel",
     "state": {
      "_model_module": "@jupyter-widgets/base",
      "_model_module_version": "1.2.0",
      "_model_name": "LayoutModel",
      "_view_count": null,
      "_view_module": "@jupyter-widgets/base",
      "_view_module_version": "1.2.0",
      "_view_name": "LayoutView",
      "align_content": null,
      "align_items": null,
      "align_self": null,
      "border": null,
      "bottom": null,
      "display": null,
      "flex": null,
      "flex_flow": null,
      "grid_area": null,
      "grid_auto_columns": null,
      "grid_auto_flow": null,
      "grid_auto_rows": null,
      "grid_column": null,
      "grid_gap": null,
      "grid_row": null,
      "grid_template_areas": null,
      "grid_template_columns": null,
      "grid_template_rows": null,
      "height": null,
      "justify_content": null,
      "justify_items": null,
      "left": null,
      "margin": null,
      "max_height": null,
      "max_width": null,
      "min_height": null,
      "min_width": null,
      "object_fit": null,
      "object_position": null,
      "order": null,
      "overflow": null,
      "overflow_x": null,
      "overflow_y": null,
      "padding": null,
      "right": null,
      "top": null,
      "visibility": null,
      "width": null
     }
    },
    "d57eb631576e40aab36f7342328b8ec1": {
     "model_module": "@jupyter-widgets/base",
     "model_module_version": "1.2.0",
     "model_name": "LayoutModel",
     "state": {
      "_model_module": "@jupyter-widgets/base",
      "_model_module_version": "1.2.0",
      "_model_name": "LayoutModel",
      "_view_count": null,
      "_view_module": "@jupyter-widgets/base",
      "_view_module_version": "1.2.0",
      "_view_name": "LayoutView",
      "align_content": null,
      "align_items": null,
      "align_self": null,
      "border": null,
      "bottom": null,
      "display": null,
      "flex": null,
      "flex_flow": null,
      "grid_area": null,
      "grid_auto_columns": null,
      "grid_auto_flow": null,
      "grid_auto_rows": null,
      "grid_column": null,
      "grid_gap": null,
      "grid_row": null,
      "grid_template_areas": null,
      "grid_template_columns": null,
      "grid_template_rows": null,
      "height": null,
      "justify_content": null,
      "justify_items": null,
      "left": null,
      "margin": null,
      "max_height": null,
      "max_width": null,
      "min_height": null,
      "min_width": null,
      "object_fit": null,
      "object_position": null,
      "order": null,
      "overflow": null,
      "overflow_x": null,
      "overflow_y": null,
      "padding": null,
      "right": null,
      "top": null,
      "visibility": null,
      "width": null
     }
    },
    "d8957da96f324c0690d8dfce27b35dea": {
     "model_module": "@jupyter-widgets/controls",
     "model_module_version": "1.5.0",
     "model_name": "HTMLModel",
     "state": {
      "_dom_classes": [],
      "_model_module": "@jupyter-widgets/controls",
      "_model_module_version": "1.5.0",
      "_model_name": "HTMLModel",
      "_view_count": null,
      "_view_module": "@jupyter-widgets/controls",
      "_view_module_version": "1.5.0",
      "_view_name": "HTMLView",
      "description": "",
      "description_tooltip": null,
      "layout": "IPY_MODEL_04ec2405fc4e42a0a5562098eba300ef",
      "placeholder": "​",
      "style": "IPY_MODEL_8555cb5d8baa4151b522bf2a312fffe7",
      "value": ""
     }
    },
    "d976b816f3414ef5b2482340852cde86": {
     "model_module": "@jupyter-widgets/controls",
     "model_module_version": "1.5.0",
     "model_name": "DescriptionStyleModel",
     "state": {
      "_model_module": "@jupyter-widgets/controls",
      "_model_module_version": "1.5.0",
      "_model_name": "DescriptionStyleModel",
      "_view_count": null,
      "_view_module": "@jupyter-widgets/base",
      "_view_module_version": "1.2.0",
      "_view_name": "StyleView",
      "description_width": ""
     }
    },
    "de34ba5b2395431787c996c3d71c903e": {
     "model_module": "@jupyter-widgets/controls",
     "model_module_version": "1.5.0",
     "model_name": "DescriptionStyleModel",
     "state": {
      "_model_module": "@jupyter-widgets/controls",
      "_model_module_version": "1.5.0",
      "_model_name": "DescriptionStyleModel",
      "_view_count": null,
      "_view_module": "@jupyter-widgets/base",
      "_view_module_version": "1.2.0",
      "_view_name": "StyleView",
      "description_width": ""
     }
    },
    "de87565989ef4c7baaef86f83a1d1d9b": {
     "model_module": "@jupyter-widgets/base",
     "model_module_version": "1.2.0",
     "model_name": "LayoutModel",
     "state": {
      "_model_module": "@jupyter-widgets/base",
      "_model_module_version": "1.2.0",
      "_model_name": "LayoutModel",
      "_view_count": null,
      "_view_module": "@jupyter-widgets/base",
      "_view_module_version": "1.2.0",
      "_view_name": "LayoutView",
      "align_content": null,
      "align_items": null,
      "align_self": null,
      "border": null,
      "bottom": null,
      "display": null,
      "flex": null,
      "flex_flow": null,
      "grid_area": null,
      "grid_auto_columns": null,
      "grid_auto_flow": null,
      "grid_auto_rows": null,
      "grid_column": null,
      "grid_gap": null,
      "grid_row": null,
      "grid_template_areas": null,
      "grid_template_columns": null,
      "grid_template_rows": null,
      "height": null,
      "justify_content": null,
      "justify_items": null,
      "left": null,
      "margin": null,
      "max_height": null,
      "max_width": null,
      "min_height": null,
      "min_width": null,
      "object_fit": null,
      "object_position": null,
      "order": null,
      "overflow": null,
      "overflow_x": null,
      "overflow_y": null,
      "padding": null,
      "right": null,
      "top": null,
      "visibility": null,
      "width": null
     }
    },
    "e023c0c3e0a040598cef5c999289de2c": {
     "model_module": "@jupyter-widgets/base",
     "model_module_version": "1.2.0",
     "model_name": "LayoutModel",
     "state": {
      "_model_module": "@jupyter-widgets/base",
      "_model_module_version": "1.2.0",
      "_model_name": "LayoutModel",
      "_view_count": null,
      "_view_module": "@jupyter-widgets/base",
      "_view_module_version": "1.2.0",
      "_view_name": "LayoutView",
      "align_content": null,
      "align_items": null,
      "align_self": null,
      "border": null,
      "bottom": null,
      "display": null,
      "flex": null,
      "flex_flow": null,
      "grid_area": null,
      "grid_auto_columns": null,
      "grid_auto_flow": null,
      "grid_auto_rows": null,
      "grid_column": null,
      "grid_gap": null,
      "grid_row": null,
      "grid_template_areas": null,
      "grid_template_columns": null,
      "grid_template_rows": null,
      "height": null,
      "justify_content": null,
      "justify_items": null,
      "left": null,
      "margin": null,
      "max_height": null,
      "max_width": null,
      "min_height": null,
      "min_width": null,
      "object_fit": null,
      "object_position": null,
      "order": null,
      "overflow": null,
      "overflow_x": null,
      "overflow_y": null,
      "padding": null,
      "right": null,
      "top": null,
      "visibility": null,
      "width": null
     }
    },
    "e103280465a04d4d8e3f4aa90ef473a5": {
     "model_module": "@jupyter-widgets/controls",
     "model_module_version": "1.5.0",
     "model_name": "DescriptionStyleModel",
     "state": {
      "_model_module": "@jupyter-widgets/controls",
      "_model_module_version": "1.5.0",
      "_model_name": "DescriptionStyleModel",
      "_view_count": null,
      "_view_module": "@jupyter-widgets/base",
      "_view_module_version": "1.2.0",
      "_view_name": "StyleView",
      "description_width": ""
     }
    },
    "e286acbe35b442148d432b6e1a0326fb": {
     "model_module": "@jupyter-widgets/controls",
     "model_module_version": "1.5.0",
     "model_name": "DescriptionStyleModel",
     "state": {
      "_model_module": "@jupyter-widgets/controls",
      "_model_module_version": "1.5.0",
      "_model_name": "DescriptionStyleModel",
      "_view_count": null,
      "_view_module": "@jupyter-widgets/base",
      "_view_module_version": "1.2.0",
      "_view_name": "StyleView",
      "description_width": ""
     }
    },
    "e5cee7ae3612423bb2efc67faf74d792": {
     "model_module": "@jupyter-widgets/base",
     "model_module_version": "1.2.0",
     "model_name": "LayoutModel",
     "state": {
      "_model_module": "@jupyter-widgets/base",
      "_model_module_version": "1.2.0",
      "_model_name": "LayoutModel",
      "_view_count": null,
      "_view_module": "@jupyter-widgets/base",
      "_view_module_version": "1.2.0",
      "_view_name": "LayoutView",
      "align_content": null,
      "align_items": null,
      "align_self": null,
      "border": null,
      "bottom": null,
      "display": null,
      "flex": null,
      "flex_flow": null,
      "grid_area": null,
      "grid_auto_columns": null,
      "grid_auto_flow": null,
      "grid_auto_rows": null,
      "grid_column": null,
      "grid_gap": null,
      "grid_row": null,
      "grid_template_areas": null,
      "grid_template_columns": null,
      "grid_template_rows": null,
      "height": null,
      "justify_content": null,
      "justify_items": null,
      "left": null,
      "margin": null,
      "max_height": null,
      "max_width": null,
      "min_height": null,
      "min_width": null,
      "object_fit": null,
      "object_position": null,
      "order": null,
      "overflow": null,
      "overflow_x": null,
      "overflow_y": null,
      "padding": null,
      "right": null,
      "top": null,
      "visibility": null,
      "width": null
     }
    },
    "e98b1d3e7267494295b7d1d619907d9f": {
     "model_module": "@jupyter-widgets/base",
     "model_module_version": "1.2.0",
     "model_name": "LayoutModel",
     "state": {
      "_model_module": "@jupyter-widgets/base",
      "_model_module_version": "1.2.0",
      "_model_name": "LayoutModel",
      "_view_count": null,
      "_view_module": "@jupyter-widgets/base",
      "_view_module_version": "1.2.0",
      "_view_name": "LayoutView",
      "align_content": null,
      "align_items": null,
      "align_self": null,
      "border": null,
      "bottom": null,
      "display": null,
      "flex": null,
      "flex_flow": null,
      "grid_area": null,
      "grid_auto_columns": null,
      "grid_auto_flow": null,
      "grid_auto_rows": null,
      "grid_column": null,
      "grid_gap": null,
      "grid_row": null,
      "grid_template_areas": null,
      "grid_template_columns": null,
      "grid_template_rows": null,
      "height": null,
      "justify_content": null,
      "justify_items": null,
      "left": null,
      "margin": null,
      "max_height": null,
      "max_width": null,
      "min_height": null,
      "min_width": null,
      "object_fit": null,
      "object_position": null,
      "order": null,
      "overflow": null,
      "overflow_x": null,
      "overflow_y": null,
      "padding": null,
      "right": null,
      "top": null,
      "visibility": null,
      "width": null
     }
    },
    "eead4a2d65a7424eae12b886d69a8f1e": {
     "model_module": "@jupyter-widgets/controls",
     "model_module_version": "1.5.0",
     "model_name": "ProgressStyleModel",
     "state": {
      "_model_module": "@jupyter-widgets/controls",
      "_model_module_version": "1.5.0",
      "_model_name": "ProgressStyleModel",
      "_view_count": null,
      "_view_module": "@jupyter-widgets/base",
      "_view_module_version": "1.2.0",
      "_view_name": "StyleView",
      "bar_color": null,
      "description_width": ""
     }
    },
    "ef17ae05ac794817886999c0bf8f25d7": {
     "model_module": "@jupyter-widgets/base",
     "model_module_version": "1.2.0",
     "model_name": "LayoutModel",
     "state": {
      "_model_module": "@jupyter-widgets/base",
      "_model_module_version": "1.2.0",
      "_model_name": "LayoutModel",
      "_view_count": null,
      "_view_module": "@jupyter-widgets/base",
      "_view_module_version": "1.2.0",
      "_view_name": "LayoutView",
      "align_content": null,
      "align_items": null,
      "align_self": null,
      "border": null,
      "bottom": null,
      "display": null,
      "flex": null,
      "flex_flow": null,
      "grid_area": null,
      "grid_auto_columns": null,
      "grid_auto_flow": null,
      "grid_auto_rows": null,
      "grid_column": null,
      "grid_gap": null,
      "grid_row": null,
      "grid_template_areas": null,
      "grid_template_columns": null,
      "grid_template_rows": null,
      "height": null,
      "justify_content": null,
      "justify_items": null,
      "left": null,
      "margin": null,
      "max_height": null,
      "max_width": null,
      "min_height": null,
      "min_width": null,
      "object_fit": null,
      "object_position": null,
      "order": null,
      "overflow": null,
      "overflow_x": null,
      "overflow_y": null,
      "padding": null,
      "right": null,
      "top": null,
      "visibility": null,
      "width": null
     }
    },
    "f16ed3da27374d9391243bdc5234ef71": {
     "model_module": "@jupyter-widgets/base",
     "model_module_version": "1.2.0",
     "model_name": "LayoutModel",
     "state": {
      "_model_module": "@jupyter-widgets/base",
      "_model_module_version": "1.2.0",
      "_model_name": "LayoutModel",
      "_view_count": null,
      "_view_module": "@jupyter-widgets/base",
      "_view_module_version": "1.2.0",
      "_view_name": "LayoutView",
      "align_content": null,
      "align_items": null,
      "align_self": null,
      "border": null,
      "bottom": null,
      "display": null,
      "flex": null,
      "flex_flow": null,
      "grid_area": null,
      "grid_auto_columns": null,
      "grid_auto_flow": null,
      "grid_auto_rows": null,
      "grid_column": null,
      "grid_gap": null,
      "grid_row": null,
      "grid_template_areas": null,
      "grid_template_columns": null,
      "grid_template_rows": null,
      "height": null,
      "justify_content": null,
      "justify_items": null,
      "left": null,
      "margin": null,
      "max_height": null,
      "max_width": null,
      "min_height": null,
      "min_width": null,
      "object_fit": null,
      "object_position": null,
      "order": null,
      "overflow": null,
      "overflow_x": null,
      "overflow_y": null,
      "padding": null,
      "right": null,
      "top": null,
      "visibility": null,
      "width": null
     }
    },
    "f5dd9b1381b84bd2a52300601324cbdd": {
     "model_module": "@jupyter-widgets/controls",
     "model_module_version": "1.5.0",
     "model_name": "HTMLModel",
     "state": {
      "_dom_classes": [],
      "_model_module": "@jupyter-widgets/controls",
      "_model_module_version": "1.5.0",
      "_model_name": "HTMLModel",
      "_view_count": null,
      "_view_module": "@jupyter-widgets/controls",
      "_view_module_version": "1.5.0",
      "_view_name": "HTMLView",
      "description": "",
      "description_tooltip": null,
      "layout": "IPY_MODEL_60afdf9457a54feb8b7eb3eced416b95",
      "placeholder": "​",
      "style": "IPY_MODEL_ccf18ad2148349a6b8905d977fb60f1a",
      "value": ""
     }
    },
    "f676f1b2b6554cdfa961030bc2119463": {
     "model_module": "@jupyter-widgets/controls",
     "model_module_version": "1.5.0",
     "model_name": "HBoxModel",
     "state": {
      "_dom_classes": [],
      "_model_module": "@jupyter-widgets/controls",
      "_model_module_version": "1.5.0",
      "_model_name": "HBoxModel",
      "_view_count": null,
      "_view_module": "@jupyter-widgets/controls",
      "_view_module_version": "1.5.0",
      "_view_name": "HBoxView",
      "box_style": "",
      "children": [
       "IPY_MODEL_b8a36f4f781d44d3945036cebb39cc40",
       "IPY_MODEL_04749986e56942fcb0ea70023a282f72",
       "IPY_MODEL_74309eb45827450ca60b666a9a0b5fe2"
      ],
      "layout": "IPY_MODEL_25ba25a888b94199bd78ace424eb4cce"
     }
    },
    "fa212e7fe39a423d97e1a10b3127ad23": {
     "model_module": "@jupyter-widgets/base",
     "model_module_version": "1.2.0",
     "model_name": "LayoutModel",
     "state": {
      "_model_module": "@jupyter-widgets/base",
      "_model_module_version": "1.2.0",
      "_model_name": "LayoutModel",
      "_view_count": null,
      "_view_module": "@jupyter-widgets/base",
      "_view_module_version": "1.2.0",
      "_view_name": "LayoutView",
      "align_content": null,
      "align_items": null,
      "align_self": null,
      "border": null,
      "bottom": null,
      "display": null,
      "flex": null,
      "flex_flow": null,
      "grid_area": null,
      "grid_auto_columns": null,
      "grid_auto_flow": null,
      "grid_auto_rows": null,
      "grid_column": null,
      "grid_gap": null,
      "grid_row": null,
      "grid_template_areas": null,
      "grid_template_columns": null,
      "grid_template_rows": null,
      "height": null,
      "justify_content": null,
      "justify_items": null,
      "left": null,
      "margin": null,
      "max_height": null,
      "max_width": null,
      "min_height": null,
      "min_width": null,
      "object_fit": null,
      "object_position": null,
      "order": null,
      "overflow": null,
      "overflow_x": null,
      "overflow_y": null,
      "padding": null,
      "right": null,
      "top": null,
      "visibility": null,
      "width": null
     }
    },
    "fc9e2b3ecc174ffaaa9a9999d4809274": {
     "model_module": "@jupyter-widgets/base",
     "model_module_version": "1.2.0",
     "model_name": "LayoutModel",
     "state": {
      "_model_module": "@jupyter-widgets/base",
      "_model_module_version": "1.2.0",
      "_model_name": "LayoutModel",
      "_view_count": null,
      "_view_module": "@jupyter-widgets/base",
      "_view_module_version": "1.2.0",
      "_view_name": "LayoutView",
      "align_content": null,
      "align_items": null,
      "align_self": null,
      "border": null,
      "bottom": null,
      "display": null,
      "flex": null,
      "flex_flow": null,
      "grid_area": null,
      "grid_auto_columns": null,
      "grid_auto_flow": null,
      "grid_auto_rows": null,
      "grid_column": null,
      "grid_gap": null,
      "grid_row": null,
      "grid_template_areas": null,
      "grid_template_columns": null,
      "grid_template_rows": null,
      "height": null,
      "justify_content": null,
      "justify_items": null,
      "left": null,
      "margin": null,
      "max_height": null,
      "max_width": null,
      "min_height": null,
      "min_width": null,
      "object_fit": null,
      "object_position": null,
      "order": null,
      "overflow": null,
      "overflow_x": null,
      "overflow_y": null,
      "padding": null,
      "right": null,
      "top": null,
      "visibility": null,
      "width": "20px"
     }
    },
    "fd6636798af74a3785de21d5a7096190": {
     "model_module": "@jupyter-widgets/controls",
     "model_module_version": "1.5.0",
     "model_name": "HTMLModel",
     "state": {
      "_dom_classes": [],
      "_model_module": "@jupyter-widgets/controls",
      "_model_module_version": "1.5.0",
      "_model_name": "HTMLModel",
      "_view_count": null,
      "_view_module": "@jupyter-widgets/controls",
      "_view_module_version": "1.5.0",
      "_view_name": "HTMLView",
      "description": "",
      "description_tooltip": null,
      "layout": "IPY_MODEL_5a71015040d24efca05660a1b22ba437",
      "placeholder": "​",
      "style": "IPY_MODEL_621b99fcd835450ba24dd57c4c9a4ec2",
      "value": "100%"
     }
    },
    "fde7047490d6455a9cb5445d4acd38f0": {
     "model_module": "@jupyter-widgets/controls",
     "model_module_version": "1.5.0",
     "model_name": "HTMLModel",
     "state": {
      "_dom_classes": [],
      "_model_module": "@jupyter-widgets/controls",
      "_model_module_version": "1.5.0",
      "_model_name": "HTMLModel",
      "_view_count": null,
      "_view_module": "@jupyter-widgets/controls",
      "_view_module_version": "1.5.0",
      "_view_name": "HTMLView",
      "description": "",
      "description_tooltip": null,
      "layout": "IPY_MODEL_5c0811eee5b446169fe8c0ea406ddb2c",
      "placeholder": "​",
      "style": "IPY_MODEL_504c6f1c2dcd43d186a48e146682c286",
      "value": " 4.75k/? [00:00&lt;00:00, 105kB/s]"
     }
    }
   }
  }
 },
 "nbformat": 4,
 "nbformat_minor": 4
}
