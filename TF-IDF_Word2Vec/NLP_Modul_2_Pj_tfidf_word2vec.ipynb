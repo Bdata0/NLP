{
 "cells": [
  {
   "cell_type": "code",
   "execution_count": 1,
   "id": "3f937c0f",
   "metadata": {
    "id": "ePWO_9Ln6OSW",
    "papermill": {
     "duration": 1.369592,
     "end_time": "2022-04-15T11:58:00.983525",
     "exception": false,
     "start_time": "2022-04-15T11:57:59.613933",
     "status": "completed"
    },
    "tags": []
   },
   "outputs": [],
   "source": [
    "import pandas as pd\n",
    "import numpy as np\n",
    "from sklearn.feature_extraction.text import TfidfVectorizer\n",
    "from sklearn.metrics.pairwise import cosine_similarity"
   ]
  },
  {
   "cell_type": "code",
   "execution_count": 2,
   "id": "b26de5bc",
   "metadata": {
    "id": "fvffraOH6OSZ",
    "outputId": "e81e409f-088d-499c-91cf-2a83112264ce",
    "papermill": {
     "duration": 0.07525,
     "end_time": "2022-04-15T11:58:01.074986",
     "exception": false,
     "start_time": "2022-04-15T11:58:00.999736",
     "status": "completed"
    },
    "tags": []
   },
   "outputs": [
    {
     "data": {
      "text/html": [
       "<div>\n",
       "<style scoped>\n",
       "    .dataframe tbody tr th:only-of-type {\n",
       "        vertical-align: middle;\n",
       "    }\n",
       "\n",
       "    .dataframe tbody tr th {\n",
       "        vertical-align: top;\n",
       "    }\n",
       "\n",
       "    .dataframe thead th {\n",
       "        text-align: right;\n",
       "    }\n",
       "</style>\n",
       "<table border=\"1\" class=\"dataframe\">\n",
       "  <thead>\n",
       "    <tr style=\"text-align: right;\">\n",
       "      <th></th>\n",
       "      <th>id</th>\n",
       "      <th>description</th>\n",
       "    </tr>\n",
       "  </thead>\n",
       "  <tbody>\n",
       "    <tr>\n",
       "      <th>0</th>\n",
       "      <td>1</td>\n",
       "      <td>Active classic boxers - There's a reason why o...</td>\n",
       "    </tr>\n",
       "    <tr>\n",
       "      <th>1</th>\n",
       "      <td>2</td>\n",
       "      <td>Active sport boxer briefs - Skinning up Glory ...</td>\n",
       "    </tr>\n",
       "    <tr>\n",
       "      <th>2</th>\n",
       "      <td>3</td>\n",
       "      <td>Active sport briefs - These superbreathable no...</td>\n",
       "    </tr>\n",
       "    <tr>\n",
       "      <th>3</th>\n",
       "      <td>4</td>\n",
       "      <td>Alpine guide pants - Skin in, climb ice, switc...</td>\n",
       "    </tr>\n",
       "    <tr>\n",
       "      <th>4</th>\n",
       "      <td>5</td>\n",
       "      <td>Alpine wind jkt - On high ridges, steep ice an...</td>\n",
       "    </tr>\n",
       "  </tbody>\n",
       "</table>\n",
       "</div>"
      ],
      "text/plain": [
       "   id                                        description\n",
       "0   1  Active classic boxers - There's a reason why o...\n",
       "1   2  Active sport boxer briefs - Skinning up Glory ...\n",
       "2   3  Active sport briefs - These superbreathable no...\n",
       "3   4  Alpine guide pants - Skin in, climb ice, switc...\n",
       "4   5  Alpine wind jkt - On high ridges, steep ice an..."
      ]
     },
     "execution_count": 2,
     "metadata": {},
     "output_type": "execute_result"
    }
   ],
   "source": [
    "df = pd.read_csv(\"sample-data.csv\")\n",
    "df.head()"
   ]
  },
  {
   "cell_type": "code",
   "execution_count": 3,
   "id": "1c9817b9",
   "metadata": {
    "id": "3cDKKFlC6OSa",
    "papermill": {
     "duration": 0.033337,
     "end_time": "2022-04-15T11:58:01.125802",
     "exception": false,
     "start_time": "2022-04-15T11:58:01.092465",
     "status": "completed"
    },
    "tags": []
   },
   "outputs": [],
   "source": [
    "#Deccription by id function\n",
    "def item(item_id):     \n",
    "    return df.loc[df['id'] == item_id]['description'].tolist()[0].split(' - ')[0]\n",
    "\n",
    "#Similar id find function\n",
    "def recommend(similarity_matrix, item_id, num):\n",
    "    index=df.index[df['id']==item_id].tolist()[0]                                 #Id in similarity matrix\n",
    "    similar_indices = similarity_matrix[index].argsort()[:-(num+2):-1]            #Find similar id\n",
    "    print(\"Top \" + str(num) + \" items similar to \" + item(item_id) + \":\")\n",
    "    print(\"--------------------------------------------------\")\n",
    "    for ind in similar_indices[1:]:\n",
    "        print(\"Item: \" + item(df['id'][ind]) + \" [score:\" + str(similarity_matrix[index][ind]) + \"]\")"
   ]
  },
  {
   "cell_type": "markdown",
   "id": "6ef26c13",
   "metadata": {
    "id": "NvcPXdF_6OSa",
    "papermill": {
     "duration": 0.015812,
     "end_time": "2022-04-15T11:58:01.160154",
     "exception": false,
     "start_time": "2022-04-15T11:58:01.144342",
     "status": "completed"
    },
    "tags": []
   },
   "source": [
    "# TF-IDF"
   ]
  },
  {
   "cell_type": "code",
   "execution_count": 4,
   "id": "8e70e4b4",
   "metadata": {
    "id": "hu3wUctw6OSb",
    "papermill": {
     "duration": 0.546973,
     "end_time": "2022-04-15T11:58:01.724341",
     "exception": false,
     "start_time": "2022-04-15T11:58:01.177368",
     "status": "completed"
    },
    "tags": []
   },
   "outputs": [],
   "source": [
    "#Vectorize the entire dataset and calculate the cosine distance using cosine_similarity \n",
    "tf = TfidfVectorizer(analyzer='word', ngram_range=(1, 3), min_df=0, stop_words='english')\n",
    "tfidf_matrix = tf.fit_transform(df['description'])\n",
    "\n",
    "cosine_similarities_tfidf = cosine_similarity(tfidf_matrix, tfidf_matrix) "
   ]
  },
  {
   "cell_type": "code",
   "execution_count": 5,
   "id": "7a7f9407",
   "metadata": {
    "id": "OCWY8Cy26OSc",
    "outputId": "e258482a-f7b7-4f23-c00f-aec91eeae005",
    "papermill": {
     "duration": 0.042479,
     "end_time": "2022-04-15T11:58:01.785507",
     "exception": false,
     "start_time": "2022-04-15T11:58:01.743028",
     "status": "completed"
    },
    "tags": []
   },
   "outputs": [
    {
     "name": "stdout",
     "output_type": "stream",
     "text": [
      "Top 5 items similar to Better sweater jkt:\n",
      "--------------------------------------------------\n",
      "Item: Better sweater jkt [score:0.38209411902102336]\n",
      "Item: Synch vest [score:0.12173888284287283]\n",
      "Item: Araveto jkt [score:0.11882679419455687]\n",
      "Item: Araveto 1/4 zip jkt [score:0.11628244300105817]\n",
      "Item: Pique fleece 1/4 zip [score:0.109313884864437]\n"
     ]
    }
   ],
   "source": [
    "recommend(cosine_similarities_tfidf, item_id=14, num=5)"
   ]
  },
  {
   "cell_type": "code",
   "execution_count": 6,
   "id": "bbb1171d",
   "metadata": {
    "id": "QfNFuG816OSc",
    "outputId": "3161336f-d898-44bd-c1f6-5e426d3bac3a",
    "papermill": {
     "duration": 0.039902,
     "end_time": "2022-04-15T11:58:01.845875",
     "exception": false,
     "start_time": "2022-04-15T11:58:01.805973",
     "status": "completed"
    },
    "tags": []
   },
   "outputs": [
    {
     "name": "stdout",
     "output_type": "stream",
     "text": [
      "Top 5 items similar to Live simply guitar t-shirt:\n",
      "--------------------------------------------------\n",
      "Item: Live simply guitar t-shirt [score:0.8132167761824267]\n",
      "Item: Live simply deer t-shirt [score:0.39437076691402356]\n",
      "Item: Flying fish 2 t-shirt [score:0.36263779509999755]\n",
      "Item: Trout silhouette t-shirt [score:0.3606039591845198]\n",
      "Item: Live simply bug t-shirt [score:0.3453461123976988]\n"
     ]
    }
   ],
   "source": [
    "recommend(cosine_similarities_tfidf, item_id=73, num=5)"
   ]
  },
  {
   "cell_type": "code",
   "execution_count": 7,
   "id": "6d887c34-9b69-4d22-9c5e-74698da8fc64",
   "metadata": {},
   "outputs": [
    {
     "name": "stdout",
     "output_type": "stream",
     "text": [
      "Top 5 items similar to Fish frenzy t-shirt:\n",
      "--------------------------------------------------\n",
      "Item: Peregrine t-shirt [score:0.41103016268642906]\n",
      "Item: Tarpon t-shirt [score:0.3464251532296172]\n",
      "Item: Flying fish 2 t-shirt [score:0.34063889656554563]\n",
      "Item: Trout head t-shirt [score:0.3371382209954106]\n",
      "Item: Wind path t-shirt [score:0.3370361283516137]\n"
     ]
    }
   ],
   "source": [
    "recommend(cosine_similarities_tfidf, item_id=41, num=5)"
   ]
  },
  {
   "cell_type": "markdown",
   "id": "c7965e98",
   "metadata": {
    "id": "_J18Kok46OSd",
    "papermill": {
     "duration": 0.018561,
     "end_time": "2022-04-15T11:58:01.887909",
     "exception": false,
     "start_time": "2022-04-15T11:58:01.869348",
     "status": "completed"
    },
    "tags": []
   },
   "source": [
    "# Word2Vec"
   ]
  },
  {
   "cell_type": "code",
   "execution_count": 8,
   "id": "edd3272d",
   "metadata": {
    "id": "Ju-gZ7Xg6OSd",
    "outputId": "7d0ca1c7-224f-40dc-f1eb-c478eb74ce3e",
    "papermill": {
     "duration": 1.30771,
     "end_time": "2022-04-15T11:58:03.214655",
     "exception": false,
     "start_time": "2022-04-15T11:58:01.906945",
     "status": "completed"
    },
    "tags": []
   },
   "outputs": [
    {
     "name": "stderr",
     "output_type": "stream",
     "text": [
      "[nltk_data] Downloading package stopwords to\n",
      "[nltk_data]     C:\\Users\\chuna\\AppData\\Roaming\\nltk_data...\n",
      "[nltk_data]   Package stopwords is already up-to-date!\n"
     ]
    }
   ],
   "source": [
    "import gensim.downloader\n",
    "import nltk\n",
    "from nltk.tokenize import RegexpTokenizer\n",
    "from nltk.corpus import stopwords\n",
    "nltk.download('stopwords')\n",
    "import re"
   ]
  },
  {
   "cell_type": "code",
   "execution_count": 9,
   "id": "0aac3cf3",
   "metadata": {
    "id": "dHK8ilu-6OSe",
    "papermill": {
     "duration": 0.028292,
     "end_time": "2022-04-15T11:58:03.262675",
     "exception": false,
     "start_time": "2022-04-15T11:58:03.234383",
     "status": "completed"
    },
    "tags": []
   },
   "outputs": [],
   "source": [
    "# Tokenization text function\n",
    "def tokenize_text(text):\n",
    "    tokenizer = RegexpTokenizer(r\"[\\w-]+\")                                         # Select individual words using regular expressions (include \"-\")\n",
    "    html_pattern = re.compile('<.*?>')                                             # Remove html markup\n",
    "    clean_text = tokenizer.tokenize(html_pattern.sub('', text.lower()))            # Lower case\n",
    "    stops = set(stopwords.words(\"english\"))                                        # Delete stop words\n",
    "    sentence = [w for w in clean_text if not w in stops]\n",
    "    return sentence"
   ]
  },
  {
   "cell_type": "code",
   "execution_count": 10,
   "id": "b4486199",
   "metadata": {
    "id": "VZxMPVYc6OSf",
    "papermill": {
     "duration": 0.030045,
     "end_time": "2022-04-15T11:58:03.313904",
     "exception": false,
     "start_time": "2022-04-15T11:58:03.283859",
     "status": "completed"
    },
    "tags": []
   },
   "outputs": [],
   "source": [
    "# Filling vectors matrix over the corpus of texts. \n",
    "# As a vector for one text used the average value of word2vec of individual words\n",
    "def create_embed_matrix(texts):\n",
    "    embed_matrix=np.zeros((len(texts),glove_vectors.vector_size))\n",
    "    for ind, text in enumerate(texts):\n",
    "        mean_word2vec=np.zeros(glove_vectors.vector_size)\n",
    "        num_words=0\n",
    "        tokenized_text=tokenize_text(text)                                                                                    \n",
    "        for word in tokenized_text:                                                # Iterate through all the words from the text and sum the vectors\n",
    "            if word in glove_vectors.index_to_key:\n",
    "                mean_word2vec+=glove_vectors[word]\n",
    "                num_words+=1\n",
    "        embed_matrix[ind]=mean_word2vec/num_words\n",
    "        embed_matrix[ind]=embed_matrix[ind]/np.sqrt(np.sum(embed_matrix[ind]**2))  # Normalize the final vector for a single text\n",
    "    return embed_matrix"
   ]
  },
  {
   "cell_type": "code",
   "execution_count": 11,
   "id": "16f1f949",
   "metadata": {
    "id": "1N2n7Vka6OSf",
    "outputId": "5be8cfdf-74e0-4e0a-c328-a17110c6bbac",
    "papermill": {
     "duration": 180.169833,
     "end_time": "2022-04-15T12:01:03.502461",
     "exception": false,
     "start_time": "2022-04-15T11:58:03.332628",
     "status": "completed"
    },
    "tags": []
   },
   "outputs": [],
   "source": [
    "#As vectors we use embedding model glove-wiki-gigaword-300\n",
    "glove_vectors = gensim.downloader.load('glove-wiki-gigaword-300')"
   ]
  },
  {
   "cell_type": "code",
   "execution_count": 12,
   "id": "cf1dfd8b",
   "metadata": {
    "id": "CXhSbtSH6OSg",
    "papermill": {
     "duration": 73.443626,
     "end_time": "2022-04-15T12:02:35.251268",
     "exception": false,
     "start_time": "2022-04-15T12:01:21.807642",
     "status": "completed"
    },
    "tags": []
   },
   "outputs": [],
   "source": [
    "# Fill the vector matrix and calculate the pairwise cosine distance\n",
    "mean_word2vec_matrix=create_embed_matrix(df['description'].values)"
   ]
  },
  {
   "cell_type": "code",
   "execution_count": 13,
   "id": "830d1f26",
   "metadata": {
    "id": "qF70Gf3c6OSg",
    "papermill": {
     "duration": 19.602515,
     "end_time": "2022-04-15T12:03:13.183467",
     "exception": false,
     "start_time": "2022-04-15T12:02:53.580952",
     "status": "completed"
    },
    "tags": []
   },
   "outputs": [],
   "source": [
    "cosine_similarities_word2vec = linear_kernel(mean_word2vec_matrix, mean_word2vec_matrix)"
   ]
  },
  {
   "cell_type": "code",
   "execution_count": 14,
   "id": "4b25af55",
   "metadata": {
    "id": "140uPTQo6OSg",
    "outputId": "9fa1c10d-3e78-465c-c7f3-70defb157374",
    "papermill": {
     "duration": 18.310071,
     "end_time": "2022-04-15T12:03:50.025820",
     "exception": false,
     "start_time": "2022-04-15T12:03:31.715749",
     "status": "completed"
    },
    "tags": []
   },
   "outputs": [
    {
     "name": "stdout",
     "output_type": "stream",
     "text": [
      "Top 5 items similar to Better sweater jkt:\n",
      "--------------------------------------------------\n",
      "Item: Pique fleece 1/4 zip [score:0.931459435337409]\n",
      "Item: Araveto jkt [score:0.9112686511082095]\n",
      "Item: El cap jkt [score:0.9081624147587113]\n",
      "Item: Synch vest [score:0.9065215591851343]\n",
      "Item: Synch vest [score:0.9029550854715328]\n"
     ]
    }
   ],
   "source": [
    "recommend(cosine_similarities_word2vec, item_id=14, num=5)"
   ]
  },
  {
   "cell_type": "code",
   "execution_count": 15,
   "id": "fa9d1082",
   "metadata": {
    "id": "TDb5RgJP6OSh",
    "outputId": "cef50d11-6ad3-4e49-960d-3b38265ccd93",
    "papermill": {
     "duration": 18.406586,
     "end_time": "2022-04-15T12:04:26.903397",
     "exception": false,
     "start_time": "2022-04-15T12:04:08.496811",
     "status": "completed"
    },
    "tags": []
   },
   "outputs": [
    {
     "name": "stdout",
     "output_type": "stream",
     "text": [
      "Top 5 items similar to Live simply guitar t-shirt:\n",
      "--------------------------------------------------\n",
      "Item: Live simply guitar t-shirt [score:0.9868952161194144]\n",
      "Item: Planer t-shirt [score:0.9603014565745474]\n",
      "Item: Trampoli t-shirt [score:0.9589097239833487]\n",
      "Item: Baby live simply seal t-shirt [score:0.9560173969737962]\n",
      "Item: Birdwalk t-shirt [score:0.9546466944634275]\n"
     ]
    }
   ],
   "source": [
    "recommend(cosine_similarities_word2vec, item_id=73, num=5)"
   ]
  },
  {
   "cell_type": "code",
   "execution_count": 16,
   "id": "38afd542",
   "metadata": {
    "id": "C6vTF7gY6OSh",
    "papermill": {
     "duration": 18.318377,
     "end_time": "2022-04-15T12:05:03.412962",
     "exception": false,
     "start_time": "2022-04-15T12:04:45.094585",
     "status": "completed"
    },
    "tags": []
   },
   "outputs": [
    {
     "name": "stdout",
     "output_type": "stream",
     "text": [
      "Top 5 items similar to Fish frenzy t-shirt:\n",
      "--------------------------------------------------\n",
      "Item: City by the sea t-shirt [score:0.9556637081416329]\n",
      "Item: Tarpon t-shirt [score:0.9551927830984399]\n",
      "Item: Trout head t-shirt [score:0.9528302470727666]\n",
      "Item: Squid t-shirt [score:0.9511103522027496]\n",
      "Item: Flying fish 2 t-shirt [score:0.9493322125049987]\n"
     ]
    }
   ],
   "source": [
    "recommend(cosine_similarities_word2vec, item_id=41, num=5)"
   ]
  }
 ],
 "metadata": {
  "kernelspec": {
   "display_name": "Python 3",
   "language": "python",
   "name": "python3"
  },
  "language_info": {
   "codemirror_mode": {
    "name": "ipython",
    "version": 3
   },
   "file_extension": ".py",
   "mimetype": "text/x-python",
   "name": "python",
   "nbconvert_exporter": "python",
   "pygments_lexer": "ipython3",
   "version": "3.8.5"
  },
  "papermill": {
   "default_parameters": {},
   "duration": 454.829194,
   "end_time": "2022-04-15T12:05:22.481452",
   "environment_variables": {},
   "exception": null,
   "input_path": "__notebook__.ipynb",
   "output_path": "__notebook__.ipynb",
   "parameters": {},
   "start_time": "2022-04-15T11:57:47.652258",
   "version": "2.3.4"
  }
 },
 "nbformat": 4,
 "nbformat_minor": 5
}
